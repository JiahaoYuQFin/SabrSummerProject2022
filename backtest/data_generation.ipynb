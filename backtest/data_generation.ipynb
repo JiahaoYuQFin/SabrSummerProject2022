{
 "cells": [
  {
   "cell_type": "code",
   "execution_count": 2,
   "metadata": {},
   "outputs": [
    {
     "name": "stdout",
     "output_type": "stream",
     "text": [
      "C:\\ProgramData\\Anaconda3\\Lib\\site-packages\\iFinDPy.pth\n"
     ]
    }
   ],
   "source": [
    "import os\n",
    "import time\n",
    "import pandas as pd\n",
    "import numpy as np\n",
    "import warnings\n",
    "import statsmodels.api as sm\n",
    "from tqdm import tqdm\n",
    "import seaborn as sns\n",
    "import datetime\n",
    "import time\n",
    "import matplotlib.pyplot as plt\n",
    "from iFinDPy import *\n",
    "tqdm.pandas(desc=\"my bars:\")\n",
    "warnings.filterwarnings(\"ignore\")"
   ]
  },
  {
   "cell_type": "code",
   "execution_count": 22,
   "metadata": {},
   "outputs": [
    {
     "data": {
      "text/plain": [
       "-201"
      ]
     },
     "execution_count": 22,
     "metadata": {},
     "output_type": "execute_result"
    }
   ],
   "source": [
    "THS_iFinDLogin('htsc1617','239945')"
   ]
  },
  {
   "cell_type": "code",
   "execution_count": 30,
   "metadata": {},
   "outputs": [],
   "source": [
    "asset_list = '10004359.SH,10004360.SH,10004361.SH,10004362.SH,10004363.SH,10004364.SH,10004365.SH,10004366.SH,10004367.SH,10004368.SH,10004369.SH,10004370.SH,10004371.SH,10004372.SH,10004373.SH,10004374.SH,10004375.SH,10004376.SH,10004381.SH,10004382.SH,10004393.SH,10004394.SH'\n",
    "\n",
    "test_data = THS_HF(asset_list,'open;high;low;close;volume','Fill:Original,Interval:5','2022-07-28 09:15:00','2022-08-10 15:30:00')\n",
    "#test_message = test_data.message\n",
    "#test_data = test_data.data\n"
   ]
  },
  {
   "cell_type": "code",
   "execution_count": 33,
   "metadata": {},
   "outputs": [
    {
     "data": {
      "text/plain": [
       "'sorry, the free Acount can support requiring 5W data at most, please modify your input params'"
      ]
     },
     "execution_count": 33,
     "metadata": {},
     "output_type": "execute_result"
    }
   ],
   "source": [
    "test_data.errmsg"
   ]
  },
  {
   "cell_type": "code",
   "execution_count": 47,
   "metadata": {},
   "outputs": [],
   "source": [
    "test_info = THS_BD(asset_list,'ths_option_code_option;ths_contract_type_option;ths_maturity_date_option',';;')\n",
    "\n",
    "test_info = test_info.data[['thscode', 'ths_option_code_option','ths_maturity_date_option']]\n",
    "\n",
    "sample_data = pd.merge(test_data,test_info,how=\"left\",on='thscode')\n",
    "\n",
    "sample_data = sample_data.rename(columns = {'ths_option_code_option':'option_code','ths_maturity_date_option':'maturity_date'})\n",
    "\n",
    "sample_data['type'] = sample_data['option_code'].apply(lambda x:'C' if 'C' in x else 'P')\n",
    "\n",
    "sample_data['maturity_date'] = pd.to_datetime(sample_data['maturity_date']+'1530')"
   ]
  },
  {
   "cell_type": "code",
   "execution_count": 49,
   "metadata": {},
   "outputs": [],
   "source": [
    "sample_data.to_csv(\"300etf_option2208.csv\")"
   ]
  },
  {
   "cell_type": "code",
   "execution_count": 7,
   "metadata": {},
   "outputs": [
    {
     "data": {
      "text/plain": [
       "0"
      ]
     },
     "execution_count": 7,
     "metadata": {},
     "output_type": "execute_result"
    }
   ],
   "source": [
    "THS_iFinDLogout()"
   ]
  },
  {
   "cell_type": "code",
   "execution_count": null,
   "metadata": {},
   "outputs": [],
   "source": []
  }
 ],
 "metadata": {
  "kernelspec": {
   "display_name": "Python 3 (ipykernel)",
   "language": "python",
   "name": "python3"
  },
  "language_info": {
   "codemirror_mode": {
    "name": "ipython",
    "version": 3
   },
   "file_extension": ".py",
   "mimetype": "text/x-python",
   "name": "python",
   "nbconvert_exporter": "python",
   "pygments_lexer": "ipython3",
   "version": "3.9.12"
  }
 },
 "nbformat": 4,
 "nbformat_minor": 2
}
