{
 "cells": [
  {
   "cell_type": "code",
   "execution_count": 1,
   "id": "46a35dbb",
   "metadata": {},
   "outputs": [
    {
     "name": "stderr",
     "output_type": "stream",
     "text": [
      "/opt/homebrew/anaconda3/lib/python3.8/site-packages/statsmodels/tsa/base/tsa_model.py:7: FutureWarning: pandas.Int64Index is deprecated and will be removed from pandas in a future version. Use pandas.Index with the appropriate dtype instead.\n",
      "  from pandas import (to_datetime, Int64Index, DatetimeIndex, Period,\n",
      "/opt/homebrew/anaconda3/lib/python3.8/site-packages/statsmodels/tsa/base/tsa_model.py:7: FutureWarning: pandas.Float64Index is deprecated and will be removed from pandas in a future version. Use pandas.Index with the appropriate dtype instead.\n",
      "  from pandas import (to_datetime, Int64Index, DatetimeIndex, Period,\n"
     ]
    }
   ],
   "source": [
    "import os\n",
    "import time\n",
    "import pandas as pd\n",
    "import numpy as np\n",
    "import warnings\n",
    "import statsmodels.api as sm\n",
    "from tqdm import tqdm\n",
    "import seaborn as sns\n",
    "import datetime\n",
    "import time\n",
    "import matplotlib.pyplot as plt\n",
    "import statsmodels.stats as stat\n",
    "import sys\n",
    "# import talib\n",
    "import scipy.stats as stat\n",
    "import sympy as sy\n",
    "from sympy.stats import Normal, cdf\n",
    "from sklearn.model_selection import GridSearchCV\n",
    "from sklearn.model_selection import StratifiedKFold,KFold\n",
    "import sklearn\n",
    "import joblib\n",
    "import pickle\n",
    "#import pickle5 as pickle\n",
    "tqdm.pandas(desc=\"my bars:\")\n",
    "warnings.filterwarnings(\"ignore\")"
   ]
  },
  {
   "cell_type": "code",
   "execution_count": 10,
   "id": "b683b2ac",
   "metadata": {},
   "outputs": [],
   "source": [
    "data_path = '/Users/chenwynn/Documents/Intern_project/HTSC_Summer/team/SabrSummerProject2022'\n",
    "feature_train = pd.read_csv(os.path.join(data_path, '02_src/Backtest/feature_train.csv'), index_col = 0)\n",
    "feature_test = pd.read_csv(os.path.join(data_path, '02_src/Backtest/feature_test.csv'), index_col = 0)"
   ]
  },
  {
   "cell_type": "code",
   "execution_count": 11,
   "id": "32f5277d",
   "metadata": {},
   "outputs": [
    {
     "data": {
      "text/plain": [
       "Index(['time', 'code', 'open', 'high', 'low', 'close', 'volume', 'option_code',\n",
       "       'type', 'maturity_date', 'strike', 'strike price', 'time_to_mature',\n",
       "       'spot price', 'black vol', 'sabr vol', 'delta', 'vega', 'theta',\n",
       "       'gamma', 'riskfree rate', 'C', 'P', 'sabr_value', 'beta',\n",
       "       'beta_ols_diff', 'beta_diff', 'beta_avg_diff', 'close_ema_5min',\n",
       "       'close_ema_15min', 'close_ema_diff_5', 'volume_ema_10min',\n",
       "       'volume_ema_30min', 'volume_ema_diff', 'vol_diff', 'moneyness',\n",
       "       'sabr_value_diff', 'vol_ema_5min', 'vol_ema_15min', 'vol_ema_diff_5',\n",
       "       'vol_ema_diff_15', 'IV_per_volume', 'ret', 'cummulative_ret_5min',\n",
       "       'cummulative_ret_15min', 'f_close_1min', 'f_ret_1min',\n",
       "       'f_ret_direction'],\n",
       "      dtype='object')"
      ]
     },
     "execution_count": 11,
     "metadata": {},
     "output_type": "execute_result"
    }
   ],
   "source": [
    "feature_train.columns"
   ]
  },
  {
   "cell_type": "code",
   "execution_count": 17,
   "id": "b910eb1e",
   "metadata": {},
   "outputs": [],
   "source": [
    "raw_feature_list = [ 'open', 'high', 'low', 'close', 'volume', 'strike', 'strike price', 'time_to_mature',\n",
    "       'spot price', 'black vol', 'sabr vol', 'delta', 'vega', 'theta',\n",
    "       'gamma', 'riskfree rate', 'C', 'P', 'sabr_value', 'beta',\n",
    "       'beta_ols_diff', 'beta_diff', 'beta_avg_diff', 'close_ema_5min',\n",
    "       'close_ema_15min', 'close_ema_diff_5', 'volume_ema_10min',\n",
    "       'volume_ema_30min', 'volume_ema_diff', 'vol_diff', 'moneyness',\n",
    "       'sabr_value_diff', 'vol_ema_5min', 'vol_ema_15min', 'vol_ema_diff_5',\n",
    "       'vol_ema_diff_15', 'IV_per_volume', 'ret', 'cummulative_ret_5min',\n",
    "       'cummulative_ret_15min']"
   ]
  },
  {
   "cell_type": "code",
   "execution_count": 18,
   "id": "fa8533e6",
   "metadata": {},
   "outputs": [],
   "source": [
    "#raw_feature_list = [ 'open', 'high', 'low', 'close', 'volume','time_to_mature','black vol', 'sabr vol','delta', 'vega', 'theta',\n",
    "#       'gamma', 'riskfree rate', 'C', 'P','sabr_value', 'moneyness','sabr_value_diff']\n",
    "X_train_raw = feature_train[raw_feature_list]\n",
    "X_test_raw = feature_test[raw_feature_list]"
   ]
  },
  {
   "cell_type": "code",
   "execution_count": 19,
   "id": "2f150ccf",
   "metadata": {},
   "outputs": [],
   "source": [
    "import lightgbm as lgb\n",
    "import sklearn as sk"
   ]
  },
  {
   "cell_type": "code",
   "execution_count": 20,
   "id": "0a4c8b11",
   "metadata": {},
   "outputs": [],
   "source": [
    "import joblib\n",
    "lgb_model = joblib.load(os.path.join(data_path, '02_src/Backtest/best_lgbm_model_close_vol.pkl'))"
   ]
  },
  {
   "cell_type": "code",
   "execution_count": 21,
   "id": "d8945b56",
   "metadata": {},
   "outputs": [],
   "source": [
    "feature_train['model return'] = lgb_model.predict(X_train_raw)\n",
    "feature_test['model return'] = lgb_model.predict(X_test_raw)"
   ]
  },
  {
   "cell_type": "code",
   "execution_count": 22,
   "id": "d033207f",
   "metadata": {},
   "outputs": [],
   "source": [
    "model_sig = pd.concat([feature_train, feature_test])\n",
    "model_sig['time'] = pd.to_datetime(model_sig['time'])\n",
    "model_sig['model signal'] = -model_sig['close'] * model_sig['model return']"
   ]
  },
  {
   "cell_type": "code",
   "execution_count": 23,
   "id": "13efb192",
   "metadata": {},
   "outputs": [],
   "source": [
    "path = '/Users/chenwynn/Documents/Intern_project/HTSC_Summer/sabr_vol'\n",
    "sys.path.append(path)\n",
    "import hedge_update\n",
    "from sabr_bywynn import BlackScholes, SABR"
   ]
  },
  {
   "cell_type": "code",
   "execution_count": 24,
   "id": "cbfd3c70",
   "metadata": {},
   "outputs": [],
   "source": [
    "data_path = '/Users/chenwynn/Documents/Intern_project/HTSC_Summer/team/SabrSummerProject2022/03_data'\n",
    "f = open(os.path.join(data_path, '300etf_2207_sabr_v1.pkl'),'rb')\n",
    "sabr2207 = pickle.load(f)\n",
    "sabr2207 = sabr2207.loc[:26173, :]\n",
    "#f = open(os.path.join(data_path, '300etf_2208_sabr_v1.pkl'),'rb')\n",
    "#sabr2207 = pickle.load(f)\n",
    "\n",
    "'''\n",
    "f = open(os.path.join(data_path, 'greeks_2207_v1.pkl'),'rb')\n",
    "sabr2207s = pickle.load(f)\n",
    "sabr2207s = sabr2207s.rename(columns = {'bs_iv':'black vol', 'sabr_iv':'sabr vol', 'strike':'strike price'})\n",
    "sabr2207s = sabr2207s.reset_index()\n",
    "'''\n",
    "\n",
    "f = open(os.path.join(data_path, '300etf.pkl'),'rb')\n",
    "etf = pickle.load(f)\n",
    "etf = etf.set_index('time').reindex(pd.Index(np.unique(sabr2207['time']))).reset_index()\n",
    "etf = etf.rename(columns = {'index':'time'})\n",
    "\n",
    "'''\n",
    "volatility spread to generate expected price spread\n",
    "'''\n",
    "sabr2207 = sabr2207.loc[(np.abs(sabr2207['delta']) < 0.9)&(np.abs(sabr2207['delta']) > 0.1), :]\n",
    "\n",
    "def gen_price(x):\n",
    "    isCall = x['type'].apply(lambda x: True if x == 'C' else False)\n",
    "    bs = BlackScholes(x['strike price'], x['time_to_mature'].values[0], x['spot price'].values[0], x['riskfree rate'].values[0], isCall)\n",
    "    x['price'] = bs.black(x['sabr vol'])   \n",
    "    return x\n",
    "\n",
    "sabr2207 = sabr2207.groupby('time').apply(gen_price)\n",
    "\n",
    "#time0 = np.unique(sabr2207['time'])[0]\n",
    "#time1 = np.unique(sabr2207['time'])[480]\n",
    "#try1 = sabr2207.loc[(sabr2207['time']>=time0)&(sabr2207['time']<time1), :]\n",
    "sabr2207['signal'] = sabr2207['close'] - sabr2207['price']\n",
    "sabr2207 = pd.merge(sabr2207, model_sig[['time', 'code', 'model signal']], on = ['time', 'code'], how = 'left')\n",
    "sabr2207[['signal', 'model signal', 'delta', 'vega', 'gamma', 'theta']] = sabr2207.groupby('code')[['signal', 'model signal', 'delta', 'vega', 'gamma', 'theta']].shift()\n",
    "sabr2207['signal'] = sabr2207.apply(lambda x: 0 if x['signal']*x['model signal']<=0 else x['signal'], axis = 1)"
   ]
  },
  {
   "cell_type": "code",
   "execution_count": 25,
   "id": "58fc50c1",
   "metadata": {},
   "outputs": [
    {
     "name": "stderr",
     "output_type": "stream",
     "text": [
      "my bars:: 100%|██████████| 2016/2016 [00:06<00:00, 292.21it/s]\n",
      "my bars::   1%|          | 12/2016 [00:00<00:17, 112.93it/s]"
     ]
    },
    {
     "name": "stdout",
     "output_type": "stream",
     "text": [
      "Optimization terminated successfully\n",
      "Optimization terminated successfully\n",
      "Optimization terminated successfully\n",
      "Optimization terminated successfully\n",
      "Optimization terminated successfully\n",
      "Optimization terminated successfully\n",
      "Optimization terminated successfully\n",
      "Optimization terminated successfully\n",
      "Optimization terminated successfully\n",
      "Optimization terminated successfully\n",
      "Optimization terminated successfully\n",
      "Optimization terminated successfully\n",
      "Optimization terminated successfully\n",
      "Optimization terminated successfully\n",
      "Optimization terminated successfully\n",
      "Optimization terminated successfully\n",
      "Optimization terminated successfully\n",
      "Optimization terminated successfully"
     ]
    },
    {
     "name": "stderr",
     "output_type": "stream",
     "text": [
      "my bars::   2%|▏         | 34/2016 [00:00<00:22, 86.70it/s] "
     ]
    },
    {
     "name": "stdout",
     "output_type": "stream",
     "text": [
      "\n",
      "Optimization terminated successfully\n",
      "Optimization terminated successfully\n",
      "Optimization terminated successfully\n",
      "Optimization terminated successfully\n",
      "Optimization terminated successfully\n",
      "Optimization terminated successfully\n",
      "Optimization terminated successfully\n",
      "Optimization terminated successfully\n",
      "Optimization terminated successfully\n",
      "Optimization terminated successfully\n",
      "Optimization terminated successfully\n",
      "Optimization terminated successfully\n",
      "Optimization terminated successfully\n",
      "Optimization terminated successfully\n",
      "Optimization terminated successfully\n"
     ]
    },
    {
     "name": "stderr",
     "output_type": "stream",
     "text": [
      "my bars::   3%|▎         | 52/2016 [00:00<00:22, 86.93it/s]"
     ]
    },
    {
     "name": "stdout",
     "output_type": "stream",
     "text": [
      "Optimization terminated successfully\n",
      "Optimization terminated successfully\n",
      "Optimization terminated successfully\n",
      "Optimization terminated successfully\n",
      "Optimization terminated successfully\n",
      "Optimization terminated successfully\n",
      "Optimization terminated successfully\n",
      "Optimization terminated successfully\n",
      "Optimization terminated successfully\n",
      "Optimization terminated successfully\n",
      "Optimization terminated successfully\n",
      "Optimization terminated successfully\n",
      "Optimization terminated successfully\n",
      "Optimization terminated successfully\n",
      "Optimization terminated successfully\n"
     ]
    },
    {
     "name": "stderr",
     "output_type": "stream",
     "text": [
      "my bars::   3%|▎         | 70/2016 [00:00<00:22, 84.90it/s]"
     ]
    },
    {
     "name": "stdout",
     "output_type": "stream",
     "text": [
      "Optimization terminated successfully\n",
      "Optimization terminated successfully\n",
      "Optimization terminated successfully\n",
      "Optimization terminated successfully\n",
      "Optimization terminated successfully\n",
      "Optimization terminated successfully\n",
      "Optimization terminated successfully\n",
      "Optimization terminated successfully\n",
      "Optimization terminated successfully\n",
      "Optimization terminated successfully\n",
      "Optimization terminated successfully\n",
      "Optimization terminated successfully\n",
      "Optimization terminated successfully\n",
      "Optimization terminated successfully\n",
      "Optimization terminated successfully\n",
      "Optimization terminated successfully\n",
      "Optimization terminated successfully"
     ]
    },
    {
     "name": "stderr",
     "output_type": "stream",
     "text": [
      "my bars::   4%|▍         | 88/2016 [00:01<00:23, 83.21it/s]"
     ]
    },
    {
     "name": "stdout",
     "output_type": "stream",
     "text": [
      "\n",
      "Optimization terminated successfully\n",
      "Optimization terminated successfully\n",
      "Optimization terminated successfully\n",
      "Optimization terminated successfully\n",
      "Optimization terminated successfully\n",
      "Optimization terminated successfully\n",
      "Optimization terminated successfully\n",
      "Optimization terminated successfully\n",
      "Optimization terminated successfully\n",
      "Optimization terminated successfully\n",
      "Optimization terminated successfully\n",
      "Optimization terminated successfully\n",
      "Optimization terminated successfully\n",
      "Optimization terminated successfully\n"
     ]
    },
    {
     "name": "stderr",
     "output_type": "stream",
     "text": [
      "my bars::   5%|▌         | 107/2016 [00:01<00:23, 80.69it/s]"
     ]
    },
    {
     "name": "stdout",
     "output_type": "stream",
     "text": [
      "Optimization terminated successfully\n",
      "Optimization terminated successfully\n",
      "Optimization terminated successfully\n",
      "Optimization terminated successfully\n",
      "Optimization terminated successfully\n",
      "Optimization terminated successfully\n",
      "Optimization terminated successfully\n",
      "Optimization terminated successfully\n",
      "Optimization terminated successfully\n",
      "Optimization terminated successfully\n",
      "Optimization terminated successfully\n",
      "Optimization terminated successfully\n",
      "Optimization terminated successfully\n",
      "Optimization terminated successfully\n",
      "Optimization terminated successfully\n"
     ]
    },
    {
     "name": "stderr",
     "output_type": "stream",
     "text": [
      "my bars::   6%|▋         | 128/2016 [00:01<00:21, 88.48it/s]"
     ]
    },
    {
     "name": "stdout",
     "output_type": "stream",
     "text": [
      "Optimization terminated successfully\n",
      "Optimization terminated successfully\n",
      "Optimization terminated successfully\n",
      "Optimization terminated successfully\n",
      "Optimization terminated successfully\n",
      "Optimization terminated successfully\n",
      "Optimization terminated successfully\n",
      "Optimization terminated successfully\n",
      "Optimization terminated successfully\n",
      "Optimization terminated successfully\n",
      "Optimization terminated successfully\n",
      "Optimization terminated successfully\n",
      "Optimization terminated successfully\n",
      "Optimization terminated successfully\n",
      "Optimization terminated successfully\n",
      "Optimization terminated successfully\n",
      "Optimization terminated successfully\n"
     ]
    },
    {
     "name": "stderr",
     "output_type": "stream",
     "text": [
      "my bars::   7%|▋         | 147/2016 [00:01<00:21, 87.18it/s]"
     ]
    },
    {
     "name": "stdout",
     "output_type": "stream",
     "text": [
      "Optimization terminated successfully\n",
      "Optimization terminated successfully\n",
      "Optimization terminated successfully\n",
      "Optimization terminated successfully\n",
      "Optimization terminated successfully\n",
      "Optimization terminated successfully\n",
      "Optimization terminated successfully\n",
      "Optimization terminated successfully\n",
      "Optimization terminated successfully\n",
      "Optimization terminated successfully\n",
      "Optimization terminated successfully\n",
      "Optimization terminated successfully\n",
      "Optimization terminated successfully\n",
      "Optimization terminated successfully\n",
      "Optimization terminated successfully\n",
      "Optimization terminated successfully\n",
      "Optimization terminated successfully\n"
     ]
    },
    {
     "name": "stderr",
     "output_type": "stream",
     "text": [
      "my bars::   8%|▊         | 165/2016 [00:01<00:21, 85.05it/s]"
     ]
    },
    {
     "name": "stdout",
     "output_type": "stream",
     "text": [
      "Optimization terminated successfully\n",
      "Optimization terminated successfully\n",
      "Optimization terminated successfully\n",
      "Optimization terminated successfully\n",
      "Optimization terminated successfully\n",
      "Optimization terminated successfully\n",
      "Optimization terminated successfully\n",
      "Optimization terminated successfully\n",
      "Optimization terminated successfully\n",
      "Optimization terminated successfully\n",
      "Optimization terminated successfully\n",
      "Optimization terminated successfully\n",
      "Optimization terminated successfully\n",
      "Optimization terminated successfully\n",
      "Optimization terminated successfully\n",
      "Optimization terminated successfully"
     ]
    },
    {
     "name": "stderr",
     "output_type": "stream",
     "text": [
      "my bars::   9%|▉         | 184/2016 [00:02<00:21, 84.89it/s]"
     ]
    },
    {
     "name": "stdout",
     "output_type": "stream",
     "text": [
      "\n",
      "Optimization terminated successfully\n",
      "Optimization terminated successfully\n",
      "Optimization terminated successfully\n",
      "Optimization terminated successfully\n",
      "Optimization terminated successfully\n",
      "Optimization terminated successfully\n",
      "Optimization terminated successfully\n",
      "Optimization terminated successfully\n",
      "Optimization terminated successfully\n",
      "Optimization terminated successfully\n",
      "Optimization terminated successfully\n",
      "Optimization terminated successfully\n",
      "Optimization terminated successfully\n",
      "Optimization terminated successfully\n",
      "Optimization terminated successfully\n"
     ]
    },
    {
     "name": "stderr",
     "output_type": "stream",
     "text": [
      "my bars::  10%|█         | 202/2016 [00:02<00:22, 82.16it/s]"
     ]
    },
    {
     "name": "stdout",
     "output_type": "stream",
     "text": [
      "Optimization terminated successfully\n",
      "Optimization terminated successfully\n",
      "Optimization terminated successfully\n",
      "Optimization terminated successfully\n",
      "Optimization terminated successfully\n",
      "Optimization terminated successfully\n",
      "Optimization terminated successfully\n",
      "Optimization terminated successfully\n",
      "Optimization terminated successfully\n",
      "Optimization terminated successfully\n",
      "Optimization terminated successfully\n",
      "Optimization terminated successfully\n",
      "Optimization terminated successfully\n",
      "Optimization terminated successfully\n",
      "Optimization terminated successfully\n",
      "Optimization terminated successfully\n"
     ]
    },
    {
     "name": "stderr",
     "output_type": "stream",
     "text": [
      "my bars::  11%|█         | 220/2016 [00:02<00:22, 79.85it/s]"
     ]
    },
    {
     "name": "stdout",
     "output_type": "stream",
     "text": [
      "Optimization terminated successfully\n",
      "Optimization terminated successfully\n",
      "Optimization terminated successfully\n",
      "Optimization terminated successfully\n",
      "Optimization terminated successfully\n",
      "Optimization terminated successfully\n",
      "Optimization terminated successfully\n",
      "Optimization terminated successfully\n",
      "Optimization terminated successfully\n",
      "Optimization terminated successfully\n",
      "Optimization terminated successfully\n",
      "Optimization terminated successfully\n",
      "Optimization terminated successfully\n",
      "Optimization terminated successfully\n",
      "Optimization terminated successfully\n",
      "Optimization terminated successfully\n"
     ]
    },
    {
     "name": "stderr",
     "output_type": "stream",
     "text": [
      "my bars::  12%|█▏        | 236/2016 [00:02<00:22, 78.13it/s]"
     ]
    },
    {
     "name": "stdout",
     "output_type": "stream",
     "text": [
      "Optimization terminated successfully\n",
      "Optimization terminated successfully\n",
      "Optimization terminated successfully\n",
      "Optimization terminated successfully\n",
      "Optimization terminated successfully\n",
      "Optimization terminated successfully\n",
      "Optimization terminated successfully\n",
      "Optimization terminated successfully\n",
      "Optimization terminated successfully\n",
      "Optimization terminated successfully\n",
      "Optimization terminated successfully\n",
      "Optimization terminated successfully\n",
      "Optimization terminated successfully\n",
      "Optimization terminated successfully\n",
      "Optimization terminated successfully\n",
      "Optimization terminated successfully\n"
     ]
    },
    {
     "name": "stderr",
     "output_type": "stream",
     "text": [
      "my bars::  13%|█▎        | 254/2016 [00:03<00:21, 81.48it/s]"
     ]
    },
    {
     "name": "stdout",
     "output_type": "stream",
     "text": [
      "Optimization terminated successfully\n",
      "Optimization terminated successfully\n",
      "Optimization terminated successfully\n",
      "Optimization terminated successfully\n",
      "Optimization terminated successfully\n",
      "Optimization terminated successfully\n",
      "Optimization terminated successfully\n",
      "Optimization terminated successfully\n",
      "Optimization terminated successfully\n",
      "Optimization terminated successfully\n",
      "Optimization terminated successfully\n",
      "Optimization terminated successfully\n",
      "Optimization terminated successfully\n",
      "Optimization terminated successfully\n"
     ]
    },
    {
     "name": "stderr",
     "output_type": "stream",
     "text": [
      "my bars::  14%|█▎        | 275/2016 [00:03<00:18, 92.39it/s]"
     ]
    },
    {
     "name": "stdout",
     "output_type": "stream",
     "text": [
      "Optimization terminated successfully\n",
      "Optimization terminated successfully\n",
      "Optimization terminated successfully\n",
      "Optimization terminated successfully\n",
      "Optimization terminated successfully\n",
      "Optimization terminated successfully\n",
      "Optimization terminated successfully\n",
      "Optimization terminated successfully\n",
      "Optimization terminated successfully\n",
      "Optimization terminated successfully\n",
      "Optimization terminated successfully\n",
      "Optimization terminated successfully\n",
      "Optimization terminated successfully\n",
      "Optimization terminated successfully"
     ]
    },
    {
     "name": "stderr",
     "output_type": "stream",
     "text": [
      "my bars::  15%|█▍        | 294/2016 [00:03<00:21, 81.11it/s]"
     ]
    },
    {
     "name": "stdout",
     "output_type": "stream",
     "text": [
      "\n",
      "Optimization terminated successfully\n",
      "Optimization terminated successfully\n",
      "Optimization terminated successfully\n",
      "Optimization terminated successfully\n",
      "Optimization terminated successfully\n",
      "Optimization terminated successfully\n",
      "Optimization terminated successfully\n",
      "Optimization terminated successfully\n",
      "Optimization terminated successfully\n",
      "Optimization terminated successfully\n",
      "Optimization terminated successfully\n",
      "Optimization terminated successfully\n",
      "Optimization terminated successfully\n",
      "Optimization terminated successfully\n",
      "Optimization terminated successfully\n",
      "Optimization terminated successfully\n"
     ]
    },
    {
     "name": "stderr",
     "output_type": "stream",
     "text": [
      "my bars::  15%|█▌        | 312/2016 [00:03<00:21, 80.62it/s]"
     ]
    },
    {
     "name": "stdout",
     "output_type": "stream",
     "text": [
      "Optimization terminated successfully\n",
      "Optimization terminated successfully\n",
      "Optimization terminated successfully\n",
      "Optimization terminated successfully\n",
      "Optimization terminated successfully\n",
      "Optimization terminated successfully\n",
      "Optimization terminated successfully\n",
      "Optimization terminated successfully\n",
      "Optimization terminated successfully\n",
      "Optimization terminated successfully\n",
      "Optimization terminated successfully\n",
      "Optimization terminated successfully\n",
      "Optimization terminated successfully\n",
      "Optimization terminated successfully\n",
      "Optimization terminated successfully\n",
      "Optimization terminated successfully"
     ]
    },
    {
     "name": "stderr",
     "output_type": "stream",
     "text": [
      "my bars::  16%|█▋        | 330/2016 [00:03<00:21, 78.74it/s]"
     ]
    },
    {
     "name": "stdout",
     "output_type": "stream",
     "text": [
      "\n",
      "Optimization terminated successfully\n",
      "Optimization terminated successfully\n",
      "Optimization terminated successfully\n",
      "Optimization terminated successfully\n",
      "Optimization terminated successfully\n",
      "Optimization terminated successfully\n",
      "Optimization terminated successfully\n",
      "Optimization terminated successfully\n",
      "Optimization terminated successfully\n",
      "Optimization terminated successfully\n",
      "Optimization terminated successfully\n",
      "Optimization terminated successfully\n",
      "Optimization terminated successfully\n",
      "Optimization terminated successfully\n",
      "Optimization terminated successfully\n",
      "Optimization terminated successfully\n"
     ]
    },
    {
     "name": "stderr",
     "output_type": "stream",
     "text": [
      "my bars::  17%|█▋        | 347/2016 [00:04<00:21, 79.34it/s]"
     ]
    },
    {
     "name": "stdout",
     "output_type": "stream",
     "text": [
      "Optimization terminated successfully\n",
      "Optimization terminated successfully\n",
      "Optimization terminated successfully\n",
      "Optimization terminated successfully\n",
      "Optimization terminated successfully\n",
      "Optimization terminated successfully\n",
      "Optimization terminated successfully\n",
      "Optimization terminated successfully\n",
      "Optimization terminated successfully\n",
      "Optimization terminated successfully\n",
      "Optimization terminated successfully\n",
      "Optimization terminated successfully\n",
      "Optimization terminated successfully\n",
      "Optimization terminated successfully\n",
      "Optimization terminated successfully\n",
      "Optimization terminated successfully\n"
     ]
    },
    {
     "name": "stderr",
     "output_type": "stream",
     "text": [
      "my bars::  18%|█▊        | 363/2016 [00:04<00:22, 74.05it/s]"
     ]
    },
    {
     "name": "stdout",
     "output_type": "stream",
     "text": [
      "Optimization terminated successfully\n",
      "Optimization terminated successfully\n",
      "Optimization terminated successfully\n",
      "Optimization terminated successfully\n",
      "Optimization terminated successfully\n",
      "Optimization terminated successfully\n",
      "Optimization terminated successfully\n",
      "Optimization terminated successfully\n",
      "Optimization terminated successfully\n",
      "Optimization terminated successfully\n",
      "Optimization terminated successfully\n",
      "Optimization terminated successfully\n",
      "Optimization terminated successfully\n",
      "Optimization terminated successfully\n",
      "Optimization terminated successfully\n"
     ]
    },
    {
     "name": "stderr",
     "output_type": "stream",
     "text": [
      "my bars::  19%|█▉        | 379/2016 [00:04<00:22, 71.52it/s]"
     ]
    },
    {
     "name": "stdout",
     "output_type": "stream",
     "text": [
      "Optimization terminated successfully\n",
      "Optimization terminated successfully\n",
      "Optimization terminated successfully\n",
      "Optimization terminated successfully\n",
      "Optimization terminated successfully\n",
      "Optimization terminated successfully\n",
      "Optimization terminated successfully\n",
      "Optimization terminated successfully\n",
      "Optimization terminated successfully\n",
      "Optimization terminated successfully\n",
      "Optimization terminated successfully\n",
      "Optimization terminated successfully\n",
      "Optimization terminated successfully\n",
      "Optimization terminated successfully\n",
      "Optimization terminated successfully\n",
      "Optimization terminated successfully\n"
     ]
    },
    {
     "name": "stderr",
     "output_type": "stream",
     "text": [
      "my bars::  20%|█▉        | 395/2016 [00:04<00:23, 70.38it/s]"
     ]
    },
    {
     "name": "stdout",
     "output_type": "stream",
     "text": [
      "Optimization terminated successfully\n",
      "Optimization terminated successfully\n",
      "Optimization terminated successfully\n",
      "Optimization terminated successfully\n",
      "Optimization terminated successfully\n",
      "Optimization terminated successfully\n",
      "Optimization terminated successfully\n",
      "Optimization terminated successfully\n",
      "Optimization terminated successfully\n",
      "Optimization terminated successfully\n",
      "Optimization terminated successfully\n",
      "Optimization terminated successfully\n",
      "Optimization terminated successfully\n",
      "Optimization terminated successfully\n",
      "Optimization terminated successfully\n",
      "Optimization terminated successfully"
     ]
    },
    {
     "name": "stderr",
     "output_type": "stream",
     "text": [
      "my bars::  20%|██        | 411/2016 [00:05<00:21, 73.82it/s]"
     ]
    },
    {
     "name": "stdout",
     "output_type": "stream",
     "text": [
      "\n",
      "Optimization terminated successfully\n",
      "Optimization terminated successfully\n",
      "Optimization terminated successfully\n",
      "Optimization terminated successfully\n",
      "Optimization terminated successfully\n",
      "Optimization terminated successfully\n",
      "Optimization terminated successfully\n",
      "Optimization terminated successfully\n",
      "Optimization terminated successfully\n",
      "Optimization terminated successfully\n",
      "Optimization terminated successfully\n",
      "Optimization terminated successfully\n",
      "Optimization terminated successfully\n",
      "Optimization terminated successfully\n"
     ]
    },
    {
     "name": "stderr",
     "output_type": "stream",
     "text": [
      "my bars::  21%|██        | 428/2016 [00:05<00:20, 77.21it/s]"
     ]
    },
    {
     "name": "stdout",
     "output_type": "stream",
     "text": [
      "Optimization terminated successfully\n",
      "Optimization terminated successfully\n",
      "Optimization terminated successfully\n",
      "Optimization terminated successfully\n",
      "Optimization terminated successfully\n",
      "Optimization terminated successfully\n",
      "Optimization terminated successfully\n",
      "Optimization terminated successfully\n",
      "Optimization terminated successfully\n",
      "Optimization terminated successfully\n",
      "Optimization terminated successfully\n",
      "Optimization terminated successfully\n",
      "Optimization terminated successfully\n",
      "Optimization terminated successfully\n",
      "Optimization terminated successfully\n",
      "Optimization terminated successfully\n"
     ]
    },
    {
     "name": "stderr",
     "output_type": "stream",
     "text": [
      "my bars::  22%|██▏       | 444/2016 [00:05<00:21, 73.30it/s]"
     ]
    },
    {
     "name": "stdout",
     "output_type": "stream",
     "text": [
      "Optimization terminated successfully\n",
      "Optimization terminated successfully\n",
      "Optimization terminated successfully\n",
      "Optimization terminated successfully\n",
      "Optimization terminated successfully\n",
      "Optimization terminated successfully\n",
      "Optimization terminated successfully\n",
      "Optimization terminated successfully\n",
      "Optimization terminated successfully\n",
      "Optimization terminated successfully\n",
      "Optimization terminated successfully\n",
      "Optimization terminated successfully\n",
      "Optimization terminated successfully\n",
      "Optimization terminated successfully\n",
      "Optimization terminated successfully\n",
      "Optimization terminated successfully"
     ]
    },
    {
     "name": "stderr",
     "output_type": "stream",
     "text": [
      "my bars::  23%|██▎       | 460/2016 [00:05<00:21, 72.11it/s]"
     ]
    },
    {
     "name": "stdout",
     "output_type": "stream",
     "text": [
      "\n",
      "Optimization terminated successfully\n",
      "Optimization terminated successfully\n",
      "Optimization terminated successfully\n",
      "Optimization terminated successfully\n",
      "Optimization terminated successfully\n",
      "Optimization terminated successfully\n",
      "Optimization terminated successfully\n",
      "Optimization terminated successfully\n",
      "Optimization terminated successfully\n",
      "Optimization terminated successfully\n",
      "Optimization terminated successfully\n",
      "Optimization terminated successfully\n",
      "Optimization terminated successfully\n",
      "Optimization terminated successfully\n"
     ]
    },
    {
     "name": "stderr",
     "output_type": "stream",
     "text": [
      "my bars::  24%|██▎       | 476/2016 [00:05<00:21, 72.25it/s]"
     ]
    },
    {
     "name": "stdout",
     "output_type": "stream",
     "text": [
      "Optimization terminated successfully\n",
      "Optimization terminated successfully\n",
      "Optimization terminated successfully\n",
      "Optimization terminated successfully\n",
      "Optimization terminated successfully\n",
      "Optimization terminated successfully\n",
      "Optimization terminated successfully\n",
      "Optimization terminated successfully\n",
      "Optimization terminated successfully\n",
      "Optimization terminated successfully\n",
      "Optimization terminated successfully\n",
      "Optimization terminated successfully\n",
      "Optimization terminated successfully\n",
      "Optimization terminated successfully\n",
      "Optimization terminated successfully\n"
     ]
    },
    {
     "name": "stderr",
     "output_type": "stream",
     "text": [
      "my bars::  24%|██▍       | 492/2016 [00:06<00:20, 73.94it/s]"
     ]
    },
    {
     "name": "stdout",
     "output_type": "stream",
     "text": [
      "Optimization terminated successfully\n",
      "Optimization terminated successfully\n",
      "Optimization terminated successfully\n",
      "Optimization terminated successfully\n",
      "Optimization terminated successfully\n",
      "Optimization terminated successfully\n",
      "Optimization terminated successfully\n",
      "Optimization terminated successfully\n",
      "Optimization terminated successfully\n",
      "Optimization terminated successfully\n",
      "Optimization terminated successfully\n",
      "Optimization terminated successfully\n",
      "Optimization terminated successfully\n",
      "Optimization terminated successfully\n",
      "Optimization terminated successfully\n"
     ]
    },
    {
     "name": "stderr",
     "output_type": "stream",
     "text": [
      "my bars::  25%|██▌       | 508/2016 [00:06<00:20, 74.10it/s]"
     ]
    },
    {
     "name": "stdout",
     "output_type": "stream",
     "text": [
      "Optimization terminated successfully\n",
      "Optimization terminated successfully\n",
      "Optimization terminated successfully\n",
      "Optimization terminated successfully\n",
      "Optimization terminated successfully\n",
      "Optimization terminated successfully\n",
      "Optimization terminated successfully\n",
      "Optimization terminated successfully\n",
      "Optimization terminated successfully\n",
      "Optimization terminated successfully\n",
      "Optimization terminated successfully\n",
      "Optimization terminated successfully\n",
      "Optimization terminated successfully\n",
      "Optimization terminated successfully\n",
      "Optimization terminated successfully\n",
      "Optimization terminated successfully\n"
     ]
    },
    {
     "name": "stderr",
     "output_type": "stream",
     "text": [
      "my bars::  26%|██▌       | 524/2016 [00:06<00:19, 75.54it/s]"
     ]
    },
    {
     "name": "stdout",
     "output_type": "stream",
     "text": [
      "Optimization terminated successfully\n",
      "Optimization terminated successfully\n",
      "Optimization terminated successfully\n",
      "Optimization terminated successfully\n",
      "Optimization terminated successfully\n",
      "Optimization terminated successfully\n",
      "Optimization terminated successfully\n",
      "Optimization terminated successfully\n",
      "Optimization terminated successfully\n",
      "Optimization terminated successfully\n",
      "Optimization terminated successfully\n",
      "Optimization terminated successfully\n",
      "Optimization terminated successfully\n",
      "Optimization terminated successfully\n",
      "Optimization terminated successfully\n",
      "Optimization terminated successfully\n",
      "Optimization terminated successfully\n",
      "Optimization terminated successfully\n",
      "Optimization terminated successfully"
     ]
    },
    {
     "name": "stderr",
     "output_type": "stream",
     "text": [
      "my bars::  27%|██▋       | 540/2016 [00:06<00:19, 74.93it/s]"
     ]
    },
    {
     "name": "stdout",
     "output_type": "stream",
     "text": [
      "\n",
      "Optimization terminated successfully\n",
      "Optimization terminated successfully\n",
      "Optimization terminated successfully\n",
      "Optimization terminated successfully\n",
      "Optimization terminated successfully\n",
      "Optimization terminated successfully\n",
      "Optimization terminated successfully\n",
      "Optimization terminated successfully\n",
      "Optimization terminated successfully\n",
      "Optimization terminated successfully\n",
      "Optimization terminated successfully\n",
      "Optimization terminated successfully\n",
      "Optimization terminated successfully\n",
      "Optimization terminated successfully\n",
      "Optimization terminated successfully\n"
     ]
    },
    {
     "name": "stderr",
     "output_type": "stream",
     "text": [
      "my bars::  28%|██▊       | 556/2016 [00:07<00:19, 73.58it/s]"
     ]
    },
    {
     "name": "stdout",
     "output_type": "stream",
     "text": [
      "Optimization terminated successfully\n",
      "Optimization terminated successfully\n",
      "Optimization terminated successfully\n",
      "Optimization terminated successfully\n",
      "Optimization terminated successfully\n",
      "Optimization terminated successfully\n",
      "Optimization terminated successfully\n",
      "Optimization terminated successfully\n",
      "Optimization terminated successfully\n",
      "Optimization terminated successfully\n",
      "Optimization terminated successfully\n",
      "Optimization terminated successfully\n",
      "Optimization terminated successfully\n",
      "Optimization terminated successfully\n",
      "Optimization terminated successfully\n"
     ]
    },
    {
     "name": "stderr",
     "output_type": "stream",
     "text": [
      "my bars::  28%|██▊       | 572/2016 [00:07<00:19, 72.20it/s]"
     ]
    },
    {
     "name": "stdout",
     "output_type": "stream",
     "text": [
      "Optimization terminated successfully\n",
      "Optimization terminated successfully\n",
      "Optimization terminated successfully\n",
      "Optimization terminated successfully\n",
      "Optimization terminated successfully\n",
      "Optimization terminated successfully\n",
      "Optimization terminated successfully\n",
      "Optimization terminated successfully\n",
      "Optimization terminated successfully\n",
      "Optimization terminated successfully\n",
      "Optimization terminated successfully\n",
      "Optimization terminated successfully\n",
      "Optimization terminated successfully\n",
      "Optimization terminated successfully\n",
      "Optimization terminated successfully\n",
      "Optimization terminated successfully"
     ]
    },
    {
     "name": "stderr",
     "output_type": "stream",
     "text": [
      "my bars::  29%|██▉       | 590/2016 [00:07<00:18, 76.10it/s]"
     ]
    },
    {
     "name": "stdout",
     "output_type": "stream",
     "text": [
      "\n",
      "Optimization terminated successfully\n",
      "Optimization terminated successfully\n",
      "Optimization terminated successfully\n",
      "Optimization terminated successfully\n",
      "Optimization terminated successfully\n",
      "Optimization terminated successfully\n",
      "Optimization terminated successfully\n",
      "Optimization terminated successfully\n",
      "Optimization terminated successfully\n",
      "Optimization terminated successfully\n",
      "Optimization terminated successfully\n",
      "Optimization terminated successfully\n",
      "Optimization terminated successfully\n",
      "Optimization terminated successfully\n",
      "Optimization terminated successfully\n"
     ]
    },
    {
     "name": "stderr",
     "output_type": "stream",
     "text": [
      "my bars::  30%|███       | 606/2016 [00:07<00:19, 71.02it/s]"
     ]
    },
    {
     "name": "stdout",
     "output_type": "stream",
     "text": [
      "Optimization terminated successfully\n",
      "Optimization terminated successfully\n",
      "Optimization terminated successfully\n",
      "Optimization terminated successfully\n",
      "Optimization terminated successfully\n",
      "Optimization terminated successfully\n",
      "Optimization terminated successfully\n",
      "Optimization terminated successfully\n",
      "Optimization terminated successfully\n",
      "Optimization terminated successfully\n",
      "Optimization terminated successfully\n",
      "Optimization terminated successfully\n",
      "Optimization terminated successfully\n",
      "Optimization terminated successfully\n",
      "Optimization terminated successfully\n"
     ]
    },
    {
     "name": "stderr",
     "output_type": "stream",
     "text": [
      "my bars::  31%|███       | 622/2016 [00:07<00:19, 70.04it/s]"
     ]
    },
    {
     "name": "stdout",
     "output_type": "stream",
     "text": [
      "Optimization terminated successfully\n",
      "Optimization terminated successfully\n",
      "Optimization terminated successfully\n",
      "Optimization terminated successfully\n",
      "Optimization terminated successfully\n",
      "Optimization terminated successfully\n",
      "Optimization terminated successfully\n",
      "Optimization terminated successfully\n",
      "Optimization terminated successfully\n",
      "Optimization terminated successfully\n",
      "Optimization terminated successfully\n",
      "Optimization terminated successfully\n",
      "Optimization terminated successfully\n",
      "Optimization terminated successfully\n",
      "Optimization terminated successfully\n",
      "Optimization terminated successfully\n",
      "Optimization terminated successfully\n"
     ]
    },
    {
     "name": "stderr",
     "output_type": "stream",
     "text": [
      "my bars::  32%|███▏      | 638/2016 [00:08<00:19, 71.17it/s]"
     ]
    },
    {
     "name": "stdout",
     "output_type": "stream",
     "text": [
      "Optimization terminated successfully\n",
      "Optimization terminated successfully\n",
      "Optimization terminated successfully\n",
      "Optimization terminated successfully\n",
      "Optimization terminated successfully\n",
      "Optimization terminated successfully\n",
      "Optimization terminated successfully\n",
      "Optimization terminated successfully\n",
      "Optimization terminated successfully\n",
      "Optimization terminated successfully\n",
      "Optimization terminated successfully\n",
      "Optimization terminated successfully\n",
      "Optimization terminated successfully\n",
      "Optimization terminated successfully\n",
      "Optimization terminated successfully\n"
     ]
    },
    {
     "name": "stderr",
     "output_type": "stream",
     "text": [
      "my bars::  32%|███▏      | 654/2016 [00:08<00:18, 73.87it/s]"
     ]
    },
    {
     "name": "stdout",
     "output_type": "stream",
     "text": [
      "Optimization terminated successfully\n",
      "Optimization terminated successfully\n",
      "Optimization terminated successfully\n",
      "Optimization terminated successfully\n",
      "Optimization terminated successfully\n",
      "Optimization terminated successfully\n",
      "Optimization terminated successfully\n",
      "Optimization terminated successfully\n",
      "Optimization terminated successfully\n",
      "Optimization terminated successfully\n",
      "Optimization terminated successfully\n",
      "Optimization terminated successfully\n",
      "Optimization terminated successfully\n",
      "Optimization terminated successfully\n",
      "Optimization terminated successfully\n",
      "Optimization terminated successfully\n",
      "Optimization terminated successfully\n"
     ]
    },
    {
     "name": "stderr",
     "output_type": "stream",
     "text": [
      "my bars::  33%|███▎      | 671/2016 [00:08<00:17, 76.57it/s]"
     ]
    },
    {
     "name": "stdout",
     "output_type": "stream",
     "text": [
      "Optimization terminated successfully\n",
      "Optimization terminated successfully\n",
      "Optimization terminated successfully\n",
      "Optimization terminated successfully\n",
      "Optimization terminated successfully\n",
      "Optimization terminated successfully\n",
      "Optimization terminated successfully\n",
      "Optimization terminated successfully\n",
      "Optimization terminated successfully\n",
      "Optimization terminated successfully\n",
      "Optimization terminated successfully\n",
      "Optimization terminated successfully\n",
      "Optimization terminated successfully\n",
      "Optimization terminated successfully\n",
      "Optimization terminated successfully\n",
      "Optimization terminated successfully\n",
      "Optimization terminated successfully\n"
     ]
    },
    {
     "name": "stderr",
     "output_type": "stream",
     "text": [
      "my bars::  34%|███▍      | 687/2016 [00:08<00:18, 71.16it/s]"
     ]
    },
    {
     "name": "stdout",
     "output_type": "stream",
     "text": [
      "Optimization terminated successfully\n",
      "Optimization terminated successfully\n",
      "Optimization terminated successfully\n",
      "Optimization terminated successfully\n",
      "Optimization terminated successfully\n",
      "Optimization terminated successfully\n",
      "Optimization terminated successfully\n",
      "Optimization terminated successfully\n",
      "Optimization terminated successfully\n",
      "Optimization terminated successfully\n",
      "Optimization terminated successfully\n",
      "Optimization terminated successfully\n",
      "Optimization terminated successfully\n",
      "Optimization terminated successfully\n"
     ]
    },
    {
     "name": "stderr",
     "output_type": "stream",
     "text": [
      "my bars::  35%|███▍      | 702/2016 [00:09<00:19, 67.58it/s]"
     ]
    },
    {
     "name": "stdout",
     "output_type": "stream",
     "text": [
      "Optimization terminated successfully\n",
      "Optimization terminated successfully\n",
      "Optimization terminated successfully\n",
      "Optimization terminated successfully\n",
      "Optimization terminated successfully\n",
      "Optimization terminated successfully\n",
      "Optimization terminated successfully\n",
      "Optimization terminated successfully\n",
      "Optimization terminated successfully\n",
      "Optimization terminated successfully\n",
      "Optimization terminated successfully\n",
      "Optimization terminated successfully\n",
      "Optimization terminated successfully\n",
      "Optimization terminated successfully\n",
      "Optimization terminated successfully\n",
      "Optimization terminated successfully"
     ]
    },
    {
     "name": "stderr",
     "output_type": "stream",
     "text": [
      "my bars::  36%|███▌      | 716/2016 [00:09<00:19, 65.08it/s]"
     ]
    },
    {
     "name": "stdout",
     "output_type": "stream",
     "text": [
      "\n",
      "Optimization terminated successfully\n",
      "Optimization terminated successfully\n",
      "Optimization terminated successfully\n",
      "Optimization terminated successfully\n",
      "Optimization terminated successfully\n",
      "Optimization terminated successfully\n",
      "Optimization terminated successfully\n",
      "Optimization terminated successfully\n",
      "Optimization terminated successfully\n",
      "Optimization terminated successfully\n",
      "Optimization terminated successfully\n",
      "Optimization terminated successfully\n",
      "Optimization terminated successfully\n",
      "Optimization terminated successfully\n"
     ]
    },
    {
     "name": "stderr",
     "output_type": "stream",
     "text": [
      "my bars::  36%|███▋      | 732/2016 [00:09<00:18, 68.56it/s]"
     ]
    },
    {
     "name": "stdout",
     "output_type": "stream",
     "text": [
      "Optimization terminated successfully\n",
      "Optimization terminated successfully\n",
      "Optimization terminated successfully\n",
      "Optimization terminated successfully\n",
      "Optimization terminated successfully\n",
      "Optimization terminated successfully\n",
      "Optimization terminated successfully\n",
      "Optimization terminated successfully\n",
      "Optimization terminated successfully\n",
      "Optimization terminated successfully\n",
      "Optimization terminated successfully\n",
      "Optimization terminated successfully\n",
      "Optimization terminated successfully\n",
      "Optimization terminated successfully"
     ]
    },
    {
     "name": "stderr",
     "output_type": "stream",
     "text": [
      "my bars::  37%|███▋      | 746/2016 [00:09<00:19, 66.81it/s]"
     ]
    },
    {
     "name": "stdout",
     "output_type": "stream",
     "text": [
      "\n",
      "Optimization terminated successfully\n",
      "Optimization terminated successfully\n",
      "Optimization terminated successfully\n",
      "Optimization terminated successfully\n",
      "Optimization terminated successfully\n",
      "Optimization terminated successfully\n",
      "Optimization terminated successfully\n",
      "Optimization terminated successfully\n",
      "Optimization terminated successfully\n",
      "Optimization terminated successfully\n",
      "Optimization terminated successfully\n",
      "Optimization terminated successfully\n",
      "Optimization terminated successfully\n"
     ]
    },
    {
     "name": "stderr",
     "output_type": "stream",
     "text": [
      "my bars::  38%|███▊      | 764/2016 [00:09<00:16, 74.10it/s]"
     ]
    },
    {
     "name": "stdout",
     "output_type": "stream",
     "text": [
      "Optimization terminated successfully\n",
      "Optimization terminated successfully\n",
      "Optimization terminated successfully\n",
      "Optimization terminated successfully\n",
      "Optimization terminated successfully\n",
      "Optimization terminated successfully\n",
      "Optimization terminated successfully\n",
      "Optimization terminated successfully\n",
      "Optimization terminated successfully\n",
      "Optimization terminated successfully\n",
      "Optimization terminated successfully\n",
      "Optimization terminated successfully\n",
      "Optimization terminated successfully\n",
      "Optimization terminated successfully\n",
      "Optimization terminated successfully\n",
      "Optimization terminated successfully\n"
     ]
    },
    {
     "name": "stderr",
     "output_type": "stream",
     "text": [
      "my bars::  39%|███▊      | 780/2016 [00:10<00:16, 75.01it/s]"
     ]
    },
    {
     "name": "stdout",
     "output_type": "stream",
     "text": [
      "Optimization terminated successfully\n",
      "Optimization terminated successfully\n",
      "Optimization terminated successfully\n",
      "Optimization terminated successfully\n",
      "Optimization terminated successfully\n",
      "Optimization terminated successfully\n",
      "Optimization terminated successfully\n",
      "Optimization terminated successfully\n",
      "Optimization terminated successfully\n",
      "Optimization terminated successfully\n",
      "Optimization terminated successfully\n",
      "Optimization terminated successfully\n",
      "Optimization terminated successfully\n",
      "Optimization terminated successfully\n",
      "Optimization terminated successfully\n",
      "Optimization terminated successfully\n",
      "Optimization terminated successfully\n"
     ]
    },
    {
     "name": "stderr",
     "output_type": "stream",
     "text": [
      "my bars::  40%|███▉      | 799/2016 [00:10<00:15, 80.24it/s]"
     ]
    },
    {
     "name": "stdout",
     "output_type": "stream",
     "text": [
      "Optimization terminated successfully\n",
      "Optimization terminated successfully\n",
      "Optimization terminated successfully\n",
      "Optimization terminated successfully\n",
      "Optimization terminated successfully\n",
      "Optimization terminated successfully\n",
      "Optimization terminated successfully\n",
      "Optimization terminated successfully\n",
      "Optimization terminated successfully\n",
      "Optimization terminated successfully\n",
      "Optimization terminated successfully\n",
      "Optimization terminated successfully\n",
      "Optimization terminated successfully\n",
      "Optimization terminated successfully\n",
      "Optimization terminated successfully\n"
     ]
    },
    {
     "name": "stderr",
     "output_type": "stream",
     "text": [
      "my bars::  40%|████      | 816/2016 [00:10<00:15, 75.51it/s]"
     ]
    },
    {
     "name": "stdout",
     "output_type": "stream",
     "text": [
      "Optimization terminated successfully\n",
      "Optimization terminated successfully\n",
      "Optimization terminated successfully\n",
      "Optimization terminated successfully\n",
      "Optimization terminated successfully\n",
      "Optimization terminated successfully\n",
      "Optimization terminated successfully\n",
      "Optimization terminated successfully\n",
      "Optimization terminated successfully\n",
      "Optimization terminated successfully\n",
      "Optimization terminated successfully\n",
      "Optimization terminated successfully\n",
      "Optimization terminated successfully\n",
      "Optimization terminated successfully\n",
      "Optimization terminated successfully\n"
     ]
    },
    {
     "name": "stderr",
     "output_type": "stream",
     "text": [
      "my bars::  41%|████▏     | 832/2016 [00:10<00:16, 73.06it/s]"
     ]
    },
    {
     "name": "stdout",
     "output_type": "stream",
     "text": [
      "Optimization terminated successfully\n",
      "Optimization terminated successfully\n",
      "Optimization terminated successfully\n",
      "Optimization terminated successfully\n",
      "Optimization terminated successfully\n",
      "Optimization terminated successfully\n",
      "Optimization terminated successfully\n",
      "Optimization terminated successfully\n",
      "Optimization terminated successfully\n",
      "Optimization terminated successfully\n",
      "Optimization terminated successfully\n",
      "Optimization terminated successfully\n",
      "Optimization terminated successfully\n",
      "Optimization terminated successfully\n",
      "Optimization terminated successfully\n",
      "Optimization terminated successfully\n",
      "Optimization terminated successfully\n",
      "Optimization terminated successfully\n"
     ]
    },
    {
     "name": "stderr",
     "output_type": "stream",
     "text": [
      "my bars::  42%|████▏     | 848/2016 [00:11<00:16, 72.43it/s]"
     ]
    },
    {
     "name": "stdout",
     "output_type": "stream",
     "text": [
      "Optimization terminated successfully\n",
      "Optimization terminated successfully\n",
      "Optimization terminated successfully\n",
      "Optimization terminated successfully\n",
      "Optimization terminated successfully\n",
      "Optimization terminated successfully\n",
      "Optimization terminated successfully\n",
      "Optimization terminated successfully\n",
      "Optimization terminated successfully\n",
      "Optimization terminated successfully\n",
      "Optimization terminated successfully\n",
      "Optimization terminated successfully\n",
      "Optimization terminated successfully\n",
      "Optimization terminated successfully"
     ]
    },
    {
     "name": "stderr",
     "output_type": "stream",
     "text": [
      "my bars::  43%|████▎     | 864/2016 [00:11<00:16, 68.22it/s]"
     ]
    },
    {
     "name": "stdout",
     "output_type": "stream",
     "text": [
      "\n",
      "Optimization terminated successfully\n",
      "Optimization terminated successfully\n",
      "Optimization terminated successfully\n",
      "Optimization terminated successfully\n",
      "Optimization terminated successfully\n",
      "Optimization terminated successfully\n",
      "Optimization terminated successfully\n",
      "Optimization terminated successfully\n",
      "Optimization terminated successfully\n",
      "Optimization terminated successfully\n",
      "Optimization terminated successfully\n",
      "Optimization terminated successfully\n",
      "Optimization terminated successfully\n",
      "Optimization terminated successfully\n",
      "Optimization terminated successfully"
     ]
    },
    {
     "name": "stderr",
     "output_type": "stream",
     "text": [
      "my bars::  44%|████▎     | 880/2016 [00:11<00:16, 70.44it/s]"
     ]
    },
    {
     "name": "stdout",
     "output_type": "stream",
     "text": [
      "\n",
      "Optimization terminated successfully\n",
      "Optimization terminated successfully\n",
      "Optimization terminated successfully\n",
      "Optimization terminated successfully\n",
      "Optimization terminated successfully\n",
      "Optimization terminated successfully\n",
      "Optimization terminated successfully\n",
      "Optimization terminated successfully\n",
      "Optimization terminated successfully\n",
      "Optimization terminated successfully\n",
      "Optimization terminated successfully\n",
      "Optimization terminated successfully\n",
      "Optimization terminated successfully\n",
      "Optimization terminated successfully\n"
     ]
    },
    {
     "name": "stderr",
     "output_type": "stream",
     "text": [
      "my bars::  44%|████▍     | 896/2016 [00:11<00:16, 69.84it/s]"
     ]
    },
    {
     "name": "stdout",
     "output_type": "stream",
     "text": [
      "Optimization terminated successfully\n",
      "Optimization terminated successfully\n",
      "Optimization terminated successfully\n",
      "Optimization terminated successfully\n",
      "Optimization terminated successfully\n",
      "Optimization terminated successfully\n",
      "Optimization terminated successfully\n",
      "Optimization terminated successfully\n",
      "Optimization terminated successfully\n",
      "Optimization terminated successfully\n",
      "Optimization terminated successfully\n",
      "Optimization terminated successfully\n",
      "Optimization terminated successfully\n",
      "Optimization terminated successfully\n",
      "Optimization terminated successfully\n",
      "Optimization terminated successfully\n",
      "Optimization terminated successfully"
     ]
    },
    {
     "name": "stderr",
     "output_type": "stream",
     "text": [
      "my bars::  45%|████▌     | 912/2016 [00:11<00:15, 71.83it/s]"
     ]
    },
    {
     "name": "stdout",
     "output_type": "stream",
     "text": [
      "\n",
      "Optimization terminated successfully\n",
      "Optimization terminated successfully\n",
      "Optimization terminated successfully\n",
      "Optimization terminated successfully\n",
      "Optimization terminated successfully\n",
      "Optimization terminated successfully\n",
      "Optimization terminated successfully\n",
      "Optimization terminated successfully\n",
      "Optimization terminated successfully\n",
      "Optimization terminated successfully\n",
      "Optimization terminated successfully\n",
      "Optimization terminated successfully\n",
      "Optimization terminated successfully\n",
      "Optimization terminated successfully\n",
      "Optimization terminated successfully\n",
      "Optimization terminated successfully\n"
     ]
    },
    {
     "name": "stderr",
     "output_type": "stream",
     "text": [
      "my bars::  46%|████▌     | 929/2016 [00:12<00:14, 75.46it/s]"
     ]
    },
    {
     "name": "stdout",
     "output_type": "stream",
     "text": [
      "Optimization terminated successfully\n",
      "Optimization terminated successfully\n",
      "Optimization terminated successfully\n",
      "Optimization terminated successfully\n",
      "Optimization terminated successfully\n",
      "Optimization terminated successfully\n",
      "Optimization terminated successfully\n",
      "Optimization terminated successfully\n",
      "Optimization terminated successfully\n",
      "Optimization terminated successfully\n",
      "Optimization terminated successfully\n",
      "Optimization terminated successfully\n",
      "Optimization terminated successfully\n",
      "Optimization terminated successfully\n",
      "Optimization terminated successfully\n",
      "Optimization terminated successfully\n",
      "Optimization terminated successfully\n"
     ]
    },
    {
     "name": "stderr",
     "output_type": "stream",
     "text": [
      "my bars::  47%|████▋     | 945/2016 [00:12<00:14, 73.81it/s]"
     ]
    },
    {
     "name": "stdout",
     "output_type": "stream",
     "text": [
      "Optimization terminated successfully\n",
      "Optimization terminated successfully\n",
      "Optimization terminated successfully\n",
      "Optimization terminated successfully\n",
      "Optimization terminated successfully\n",
      "Optimization terminated successfully\n",
      "Optimization terminated successfully\n",
      "Optimization terminated successfully\n",
      "Optimization terminated successfully\n",
      "Optimization terminated successfully\n",
      "Optimization terminated successfully\n",
      "Optimization terminated successfully\n",
      "Optimization terminated successfully\n",
      "Optimization terminated successfully\n",
      "Optimization terminated successfully\n",
      "Optimization terminated successfully"
     ]
    },
    {
     "name": "stderr",
     "output_type": "stream",
     "text": [
      "my bars::  48%|████▊     | 962/2016 [00:12<00:13, 76.42it/s]"
     ]
    },
    {
     "name": "stdout",
     "output_type": "stream",
     "text": [
      "\n",
      "Optimization terminated successfully\n",
      "Optimization terminated successfully\n",
      "Optimization terminated successfully\n",
      "Optimization terminated successfully\n",
      "Optimization terminated successfully\n",
      "Optimization terminated successfully\n",
      "Optimization terminated successfully\n",
      "Optimization terminated successfully\n",
      "Optimization terminated successfully\n",
      "Optimization terminated successfully\n",
      "Optimization terminated successfully\n",
      "Optimization terminated successfully\n",
      "Optimization terminated successfully\n",
      "Optimization terminated successfully\n",
      "Optimization terminated successfully\n"
     ]
    },
    {
     "name": "stderr",
     "output_type": "stream",
     "text": [
      "my bars::  49%|████▊     | 978/2016 [00:12<00:13, 74.43it/s]"
     ]
    },
    {
     "name": "stdout",
     "output_type": "stream",
     "text": [
      "Optimization terminated successfully\n",
      "Optimization terminated successfully\n",
      "Optimization terminated successfully\n",
      "Optimization terminated successfully\n",
      "Optimization terminated successfully\n",
      "Optimization terminated successfully\n",
      "Optimization terminated successfully\n",
      "Optimization terminated successfully\n",
      "Optimization terminated successfully\n",
      "Optimization terminated successfully\n",
      "Optimization terminated successfully\n",
      "Optimization terminated successfully\n",
      "Optimization terminated successfully\n",
      "Optimization terminated successfully\n",
      "Optimization terminated successfully\n"
     ]
    },
    {
     "name": "stderr",
     "output_type": "stream",
     "text": [
      "my bars::  49%|████▉     | 994/2016 [00:13<00:13, 74.41it/s]"
     ]
    },
    {
     "name": "stdout",
     "output_type": "stream",
     "text": [
      "Optimization terminated successfully\n",
      "Optimization terminated successfully\n",
      "Optimization terminated successfully\n",
      "Optimization terminated successfully\n",
      "Optimization terminated successfully\n",
      "Optimization terminated successfully\n",
      "Optimization terminated successfully\n",
      "Optimization terminated successfully\n",
      "Optimization terminated successfully\n",
      "Optimization terminated successfully\n",
      "Optimization terminated successfully\n",
      "Optimization terminated successfully\n",
      "Optimization terminated successfully\n",
      "Optimization terminated successfully\n",
      "Optimization terminated successfully\n"
     ]
    },
    {
     "name": "stderr",
     "output_type": "stream",
     "text": [
      "my bars::  50%|█████     | 1011/2016 [00:13<00:13, 76.65it/s]"
     ]
    },
    {
     "name": "stdout",
     "output_type": "stream",
     "text": [
      "Optimization terminated successfully\n",
      "Optimization terminated successfully\n",
      "Optimization terminated successfully\n",
      "Optimization terminated successfully\n",
      "Optimization terminated successfully\n",
      "Optimization terminated successfully\n",
      "Optimization terminated successfully\n",
      "Optimization terminated successfully\n",
      "Optimization terminated successfully\n",
      "Optimization terminated successfully\n",
      "Optimization terminated successfully\n",
      "Optimization terminated successfully\n",
      "Optimization terminated successfully\n",
      "Optimization terminated successfully\n",
      "Optimization terminated successfully\n",
      "Optimization terminated successfully\n"
     ]
    },
    {
     "name": "stderr",
     "output_type": "stream",
     "text": [
      "my bars::  51%|█████     | 1027/2016 [00:13<00:12, 76.60it/s]"
     ]
    },
    {
     "name": "stdout",
     "output_type": "stream",
     "text": [
      "Optimization terminated successfully\n",
      "Optimization terminated successfully\n",
      "Optimization terminated successfully\n",
      "Optimization terminated successfully\n",
      "Optimization terminated successfully\n",
      "Optimization terminated successfully\n",
      "Optimization terminated successfully\n",
      "Optimization terminated successfully\n",
      "Optimization terminated successfully\n",
      "Optimization terminated successfully\n",
      "Optimization terminated successfully\n",
      "Optimization terminated successfully\n",
      "Optimization terminated successfully\n",
      "Optimization terminated successfully\n",
      "Optimization terminated successfully\n",
      "Optimization terminated successfully\n",
      "Optimization terminated successfully"
     ]
    },
    {
     "name": "stderr",
     "output_type": "stream",
     "text": [
      "my bars::  52%|█████▏    | 1043/2016 [00:13<00:12, 75.14it/s]"
     ]
    },
    {
     "name": "stdout",
     "output_type": "stream",
     "text": [
      "\n",
      "Optimization terminated successfully\n",
      "Optimization terminated successfully\n",
      "Optimization terminated successfully\n",
      "Optimization terminated successfully\n",
      "Optimization terminated successfully\n",
      "Optimization terminated successfully\n",
      "Optimization terminated successfully\n",
      "Optimization terminated successfully\n",
      "Optimization terminated successfully\n",
      "Optimization terminated successfully\n",
      "Optimization terminated successfully\n",
      "Optimization terminated successfully\n",
      "Optimization terminated successfully\n",
      "Optimization terminated successfully\n",
      "Optimization terminated successfully\n"
     ]
    },
    {
     "name": "stderr",
     "output_type": "stream",
     "text": [
      "my bars::  53%|█████▎    | 1060/2016 [00:13<00:12, 76.53it/s]"
     ]
    },
    {
     "name": "stdout",
     "output_type": "stream",
     "text": [
      "Optimization terminated successfully\n",
      "Optimization terminated successfully\n",
      "Optimization terminated successfully\n",
      "Optimization terminated successfully\n",
      "Optimization terminated successfully\n",
      "Optimization terminated successfully\n",
      "Optimization terminated successfully\n",
      "Optimization terminated successfully\n",
      "Optimization terminated successfully\n",
      "Optimization terminated successfully\n",
      "Optimization terminated successfully\n",
      "Optimization terminated successfully\n",
      "Optimization terminated successfully\n",
      "Optimization terminated successfully\n",
      "Optimization terminated successfully\n",
      "Optimization terminated successfully\n",
      "Optimization terminated successfully\n",
      "Optimization terminated successfully"
     ]
    },
    {
     "name": "stderr",
     "output_type": "stream",
     "text": [
      "my bars::  53%|█████▎    | 1076/2016 [00:14<00:12, 76.08it/s]"
     ]
    },
    {
     "name": "stdout",
     "output_type": "stream",
     "text": [
      "\n",
      "Optimization terminated successfully\n",
      "Optimization terminated successfully\n",
      "Optimization terminated successfully\n",
      "Optimization terminated successfully\n",
      "Optimization terminated successfully\n",
      "Optimization terminated successfully\n",
      "Optimization terminated successfully\n",
      "Optimization terminated successfully\n",
      "Optimization terminated successfully\n",
      "Optimization terminated successfully\n",
      "Optimization terminated successfully\n",
      "Optimization terminated successfully\n",
      "Optimization terminated successfully\n",
      "Optimization terminated successfully\n",
      "Optimization terminated successfully\n"
     ]
    },
    {
     "name": "stderr",
     "output_type": "stream",
     "text": [
      "my bars::  54%|█████▍    | 1093/2016 [00:14<00:12, 75.42it/s]"
     ]
    },
    {
     "name": "stdout",
     "output_type": "stream",
     "text": [
      "Optimization terminated successfully\n",
      "Optimization terminated successfully\n",
      "Optimization terminated successfully\n",
      "Optimization terminated successfully\n",
      "Optimization terminated successfully\n",
      "Optimization terminated successfully\n",
      "Optimization terminated successfully\n",
      "Optimization terminated successfully\n",
      "Optimization terminated successfully\n",
      "Optimization terminated successfully\n",
      "Optimization terminated successfully\n",
      "Optimization terminated successfully\n",
      "Optimization terminated successfully\n",
      "Optimization terminated successfully\n",
      "Optimization terminated successfully\n",
      "Optimization terminated successfully"
     ]
    },
    {
     "name": "stderr",
     "output_type": "stream",
     "text": [
      "my bars::  55%|█████▌    | 1109/2016 [00:14<00:11, 75.81it/s]"
     ]
    },
    {
     "name": "stdout",
     "output_type": "stream",
     "text": [
      "\n",
      "Optimization terminated successfully\n",
      "Optimization terminated successfully\n",
      "Optimization terminated successfully\n",
      "Optimization terminated successfully\n",
      "Optimization terminated successfully\n",
      "Optimization terminated successfully\n",
      "Optimization terminated successfully\n",
      "Optimization terminated successfully\n",
      "Optimization terminated successfully\n",
      "Optimization terminated successfully\n",
      "Optimization terminated successfully\n",
      "Optimization terminated successfully\n",
      "Optimization terminated successfully\n",
      "Optimization terminated successfully"
     ]
    },
    {
     "name": "stderr",
     "output_type": "stream",
     "text": [
      "my bars::  56%|█████▌    | 1125/2016 [00:14<00:12, 73.09it/s]"
     ]
    },
    {
     "name": "stdout",
     "output_type": "stream",
     "text": [
      "\n",
      "Optimization terminated successfully\n",
      "Optimization terminated successfully\n",
      "Optimization terminated successfully\n",
      "Optimization terminated successfully\n",
      "Optimization terminated successfully\n",
      "Optimization terminated successfully\n",
      "Optimization terminated successfully\n",
      "Optimization terminated successfully\n",
      "Optimization terminated successfully\n",
      "Optimization terminated successfully\n",
      "Optimization terminated successfully\n",
      "Optimization terminated successfully\n",
      "Optimization terminated successfully\n"
     ]
    },
    {
     "name": "stderr",
     "output_type": "stream",
     "text": [
      "my bars::  57%|█████▋    | 1141/2016 [00:14<00:11, 73.29it/s]"
     ]
    },
    {
     "name": "stdout",
     "output_type": "stream",
     "text": [
      "Optimization terminated successfully\n",
      "Optimization terminated successfully\n",
      "Optimization terminated successfully\n",
      "Optimization terminated successfully\n",
      "Optimization terminated successfully\n",
      "Optimization terminated successfully\n",
      "Optimization terminated successfully\n",
      "Optimization terminated successfully\n",
      "Optimization terminated successfully\n",
      "Optimization terminated successfully\n",
      "Optimization terminated successfully\n",
      "Optimization terminated successfully\n",
      "Optimization terminated successfully\n",
      "Optimization terminated successfully\n",
      "Optimization terminated successfully\n",
      "Optimization terminated successfully\n",
      "Optimization terminated successfully"
     ]
    },
    {
     "name": "stderr",
     "output_type": "stream",
     "text": [
      "my bars::  57%|█████▋    | 1159/2016 [00:15<00:11, 77.85it/s]"
     ]
    },
    {
     "name": "stdout",
     "output_type": "stream",
     "text": [
      "\n",
      "Optimization terminated successfully\n",
      "Optimization terminated successfully\n",
      "Optimization terminated successfully\n",
      "Optimization terminated successfully\n",
      "Optimization terminated successfully\n",
      "Optimization terminated successfully\n",
      "Optimization terminated successfully\n",
      "Optimization terminated successfully\n",
      "Optimization terminated successfully\n",
      "Optimization terminated successfully\n",
      "Optimization terminated successfully\n",
      "Optimization terminated successfully\n",
      "Optimization terminated successfully\n",
      "Optimization terminated successfully\n"
     ]
    },
    {
     "name": "stderr",
     "output_type": "stream",
     "text": [
      "my bars::  58%|█████▊    | 1175/2016 [00:15<00:11, 73.83it/s]"
     ]
    },
    {
     "name": "stdout",
     "output_type": "stream",
     "text": [
      "Optimization terminated successfully\n",
      "Optimization terminated successfully\n",
      "Optimization terminated successfully\n",
      "Optimization terminated successfully\n",
      "Optimization terminated successfully\n",
      "Optimization terminated successfully\n",
      "Optimization terminated successfully\n",
      "Optimization terminated successfully\n",
      "Optimization terminated successfully\n",
      "Optimization terminated successfully\n",
      "Optimization terminated successfully\n",
      "Optimization terminated successfully\n",
      "Optimization terminated successfully\n",
      "Optimization terminated successfully\n",
      "Optimization terminated successfully\n"
     ]
    },
    {
     "name": "stderr",
     "output_type": "stream",
     "text": [
      "my bars::  59%|█████▉    | 1191/2016 [00:15<00:11, 74.34it/s]"
     ]
    },
    {
     "name": "stdout",
     "output_type": "stream",
     "text": [
      "Optimization terminated successfully\n",
      "Optimization terminated successfully\n",
      "Optimization terminated successfully\n",
      "Optimization terminated successfully\n",
      "Optimization terminated successfully\n",
      "Optimization terminated successfully\n",
      "Optimization terminated successfully\n",
      "Optimization terminated successfully\n",
      "Optimization terminated successfully\n",
      "Optimization terminated successfully\n",
      "Optimization terminated successfully\n",
      "Optimization terminated successfully\n",
      "Optimization terminated successfully\n",
      "Optimization terminated successfully\n",
      "Optimization terminated successfully\n",
      "Optimization terminated successfully\n",
      "Optimization terminated successfully\n",
      "Optimization terminated successfully\n"
     ]
    },
    {
     "name": "stderr",
     "output_type": "stream",
     "text": [
      "my bars::  60%|█████▉    | 1208/2016 [00:15<00:10, 77.24it/s]"
     ]
    },
    {
     "name": "stdout",
     "output_type": "stream",
     "text": [
      "Optimization terminated successfully\n",
      "Optimization terminated successfully\n",
      "Optimization terminated successfully\n",
      "Optimization terminated successfully\n",
      "Optimization terminated successfully\n",
      "Optimization terminated successfully\n",
      "Optimization terminated successfully\n",
      "Optimization terminated successfully\n",
      "Optimization terminated successfully\n",
      "Optimization terminated successfully\n",
      "Optimization terminated successfully\n",
      "Optimization terminated successfully\n",
      "Optimization terminated successfully\n",
      "Optimization terminated successfully\n",
      "Optimization terminated successfully\n",
      "Optimization terminated successfully\n"
     ]
    },
    {
     "name": "stderr",
     "output_type": "stream",
     "text": [
      "my bars::  61%|██████    | 1224/2016 [00:16<00:10, 74.99it/s]"
     ]
    },
    {
     "name": "stdout",
     "output_type": "stream",
     "text": [
      "Optimization terminated successfully\n",
      "Optimization terminated successfully\n",
      "Optimization terminated successfully\n",
      "Optimization terminated successfully\n",
      "Optimization terminated successfully\n",
      "Optimization terminated successfully\n",
      "Optimization terminated successfully\n",
      "Optimization terminated successfully\n",
      "Optimization terminated successfully\n",
      "Optimization terminated successfully\n",
      "Optimization terminated successfully\n",
      "Optimization terminated successfully\n",
      "Optimization terminated successfully\n",
      "Optimization terminated successfully\n",
      "Optimization terminated successfully\n",
      "Optimization terminated successfully\n",
      "Optimization terminated successfully\n"
     ]
    },
    {
     "name": "stderr",
     "output_type": "stream",
     "text": [
      "my bars::  62%|██████▏   | 1240/2016 [00:16<00:10, 74.68it/s]"
     ]
    },
    {
     "name": "stdout",
     "output_type": "stream",
     "text": [
      "Optimization terminated successfully\n",
      "Optimization terminated successfully\n",
      "Optimization terminated successfully\n",
      "Optimization terminated successfully\n",
      "Optimization terminated successfully\n",
      "Optimization terminated successfully\n",
      "Optimization terminated successfully\n",
      "Optimization terminated successfully\n",
      "Optimization terminated successfully\n",
      "Optimization terminated successfully\n",
      "Optimization terminated successfully\n",
      "Optimization terminated successfully\n",
      "Optimization terminated successfully\n",
      "Optimization terminated successfully\n",
      "Optimization terminated successfully\n",
      "Optimization terminated successfully\n",
      "Optimization terminated successfully\n"
     ]
    },
    {
     "name": "stderr",
     "output_type": "stream",
     "text": [
      "my bars::  62%|██████▏   | 1256/2016 [00:16<00:10, 74.91it/s]"
     ]
    },
    {
     "name": "stdout",
     "output_type": "stream",
     "text": [
      "Optimization terminated successfully\n",
      "Optimization terminated successfully\n",
      "Optimization terminated successfully\n",
      "Optimization terminated successfully\n",
      "Optimization terminated successfully\n",
      "Optimization terminated successfully\n",
      "Optimization terminated successfully\n",
      "Optimization terminated successfully\n",
      "Optimization terminated successfully\n",
      "Optimization terminated successfully\n",
      "Optimization terminated successfully\n",
      "Optimization terminated successfully\n",
      "Optimization terminated successfully\n",
      "Optimization terminated successfully\n",
      "Optimization terminated successfully\n",
      "Optimization terminated successfully\n"
     ]
    },
    {
     "name": "stderr",
     "output_type": "stream",
     "text": [
      "my bars::  63%|██████▎   | 1274/2016 [00:16<00:09, 80.07it/s]"
     ]
    },
    {
     "name": "stdout",
     "output_type": "stream",
     "text": [
      "Optimization terminated successfully\n",
      "Optimization terminated successfully\n",
      "Optimization terminated successfully\n",
      "Optimization terminated successfully\n",
      "Optimization terminated successfully\n",
      "Optimization terminated successfully\n",
      "Optimization terminated successfully\n",
      "Optimization terminated successfully\n",
      "Optimization terminated successfully\n",
      "Optimization terminated successfully\n",
      "Optimization terminated successfully\n",
      "Optimization terminated successfully\n",
      "Optimization terminated successfully\n",
      "Optimization terminated successfully\n",
      "Optimization terminated successfully\n",
      "Optimization terminated successfully\n",
      "Optimization terminated successfully"
     ]
    },
    {
     "name": "stderr",
     "output_type": "stream",
     "text": [
      "my bars::  64%|██████▍   | 1290/2016 [00:16<00:09, 78.98it/s]"
     ]
    },
    {
     "name": "stdout",
     "output_type": "stream",
     "text": [
      "\n",
      "Optimization terminated successfully\n",
      "Optimization terminated successfully\n",
      "Optimization terminated successfully\n",
      "Optimization terminated successfully\n",
      "Optimization terminated successfully\n",
      "Optimization terminated successfully\n",
      "Optimization terminated successfully\n",
      "Optimization terminated successfully\n",
      "Optimization terminated successfully\n",
      "Optimization terminated successfully\n",
      "Optimization terminated successfully\n",
      "Optimization terminated successfully\n",
      "Optimization terminated successfully\n",
      "Optimization terminated successfully\n",
      "Optimization terminated successfully\n"
     ]
    },
    {
     "name": "stderr",
     "output_type": "stream",
     "text": [
      "my bars::  65%|██████▍   | 1307/2016 [00:17<00:08, 79.03it/s]"
     ]
    },
    {
     "name": "stdout",
     "output_type": "stream",
     "text": [
      "Optimization terminated successfully\n",
      "Optimization terminated successfully\n",
      "Optimization terminated successfully\n",
      "Optimization terminated successfully\n",
      "Optimization terminated successfully\n",
      "Optimization terminated successfully\n",
      "Optimization terminated successfully\n",
      "Optimization terminated successfully\n",
      "Optimization terminated successfully\n",
      "Optimization terminated successfully\n",
      "Optimization terminated successfully\n",
      "Optimization terminated successfully\n",
      "Optimization terminated successfully\n",
      "Optimization terminated successfully\n",
      "Optimization terminated successfully\n",
      "Optimization terminated successfully\n",
      "Optimization terminated successfully"
     ]
    },
    {
     "name": "stderr",
     "output_type": "stream",
     "text": [
      "my bars::  66%|██████▌   | 1324/2016 [00:17<00:08, 78.93it/s]"
     ]
    },
    {
     "name": "stdout",
     "output_type": "stream",
     "text": [
      "\n",
      "Optimization terminated successfully\n",
      "Optimization terminated successfully\n",
      "Optimization terminated successfully\n",
      "Optimization terminated successfully\n",
      "Optimization terminated successfully\n",
      "Optimization terminated successfully\n",
      "Optimization terminated successfully\n",
      "Optimization terminated successfully\n",
      "Optimization terminated successfully\n",
      "Optimization terminated successfully\n",
      "Optimization terminated successfully\n",
      "Optimization terminated successfully\n",
      "Optimization terminated successfully\n",
      "Optimization terminated successfully\n",
      "Optimization terminated successfully\n",
      "Optimization terminated successfully\n"
     ]
    },
    {
     "name": "stderr",
     "output_type": "stream",
     "text": [
      "my bars::  67%|██████▋   | 1341/2016 [00:17<00:08, 80.15it/s]"
     ]
    },
    {
     "name": "stdout",
     "output_type": "stream",
     "text": [
      "Optimization terminated successfully\n",
      "Optimization terminated successfully\n",
      "Optimization terminated successfully\n",
      "Optimization terminated successfully\n",
      "Optimization terminated successfully\n",
      "Optimization terminated successfully\n",
      "Optimization terminated successfully\n",
      "Optimization terminated successfully\n",
      "Optimization terminated successfully\n",
      "Optimization terminated successfully\n",
      "Optimization terminated successfully\n",
      "Optimization terminated successfully\n",
      "Optimization terminated successfully\n",
      "Optimization terminated successfully\n",
      "Optimization terminated successfully\n",
      "Optimization terminated successfully\n"
     ]
    },
    {
     "name": "stderr",
     "output_type": "stream",
     "text": [
      "my bars::  67%|██████▋   | 1358/2016 [00:17<00:08, 78.72it/s]"
     ]
    },
    {
     "name": "stdout",
     "output_type": "stream",
     "text": [
      "Optimization terminated successfully\n",
      "Optimization terminated successfully\n",
      "Optimization terminated successfully\n",
      "Optimization terminated successfully\n",
      "Optimization terminated successfully\n",
      "Optimization terminated successfully\n",
      "Optimization terminated successfully\n",
      "Optimization terminated successfully\n",
      "Optimization terminated successfully\n",
      "Optimization terminated successfully\n",
      "Optimization terminated successfully\n",
      "Optimization terminated successfully\n",
      "Optimization terminated successfully\n",
      "Optimization terminated successfully\n",
      "Optimization terminated successfully\n",
      "Optimization terminated successfully\n",
      "Optimization terminated successfully"
     ]
    },
    {
     "name": "stderr",
     "output_type": "stream",
     "text": [
      "my bars::  68%|██████▊   | 1377/2016 [00:18<00:07, 82.00it/s]"
     ]
    },
    {
     "name": "stdout",
     "output_type": "stream",
     "text": [
      "\n",
      "Optimization terminated successfully\n",
      "Optimization terminated successfully\n",
      "Optimization terminated successfully\n",
      "Optimization terminated successfully\n",
      "Optimization terminated successfully\n",
      "Optimization terminated successfully\n",
      "Optimization terminated successfully\n",
      "Optimization terminated successfully\n",
      "Optimization terminated successfully\n",
      "Optimization terminated successfully\n",
      "Optimization terminated successfully\n",
      "Optimization terminated successfully\n",
      "Optimization terminated successfully\n",
      "Optimization terminated successfully\n",
      "Optimization terminated successfully\n",
      "Optimization terminated successfully\n",
      "Optimization terminated successfully"
     ]
    },
    {
     "name": "stderr",
     "output_type": "stream",
     "text": [
      "my bars::  69%|██████▉   | 1397/2016 [00:18<00:07, 86.92it/s]"
     ]
    },
    {
     "name": "stdout",
     "output_type": "stream",
     "text": [
      "\n",
      "Optimization terminated successfully\n",
      "Optimization terminated successfully\n",
      "Optimization terminated successfully\n",
      "Optimization terminated successfully\n",
      "Optimization terminated successfully\n",
      "Optimization terminated successfully\n",
      "Optimization terminated successfully\n",
      "Optimization terminated successfully\n",
      "Optimization terminated successfully\n",
      "Optimization terminated successfully\n",
      "Optimization terminated successfully\n",
      "Optimization terminated successfully\n",
      "Optimization terminated successfully\n",
      "Optimization terminated successfully\n",
      "Optimization terminated successfully\n",
      "Optimization terminated successfully\n",
      "Optimization terminated successfully"
     ]
    },
    {
     "name": "stderr",
     "output_type": "stream",
     "text": [
      "my bars::  70%|███████   | 1416/2016 [00:18<00:06, 88.46it/s]"
     ]
    },
    {
     "name": "stdout",
     "output_type": "stream",
     "text": [
      "\n",
      "Optimization terminated successfully\n",
      "Optimization terminated successfully\n",
      "Optimization terminated successfully\n",
      "Optimization terminated successfully\n",
      "Optimization terminated successfully\n",
      "Optimization terminated successfully\n",
      "Optimization terminated successfully\n",
      "Optimization terminated successfully\n",
      "Optimization terminated successfully\n",
      "Optimization terminated successfully\n",
      "Optimization terminated successfully\n",
      "Optimization terminated successfully\n",
      "Optimization terminated successfully\n",
      "Optimization terminated successfully\n",
      "Optimization terminated successfully\n",
      "Optimization terminated successfully\n",
      "Optimization terminated successfully\n",
      "Optimization terminated successfully"
     ]
    },
    {
     "name": "stderr",
     "output_type": "stream",
     "text": [
      "my bars::  71%|███████   | 1434/2016 [00:18<00:06, 85.42it/s]"
     ]
    },
    {
     "name": "stdout",
     "output_type": "stream",
     "text": [
      "\n",
      "Optimization terminated successfully\n",
      "Optimization terminated successfully\n",
      "Optimization terminated successfully\n",
      "Optimization terminated successfully\n",
      "Optimization terminated successfully\n",
      "Optimization terminated successfully\n",
      "Optimization terminated successfully\n",
      "Optimization terminated successfully\n",
      "Optimization terminated successfully\n",
      "Optimization terminated successfully\n",
      "Optimization terminated successfully\n",
      "Optimization terminated successfully\n",
      "Optimization terminated successfully\n",
      "Optimization terminated successfully\n",
      "Optimization terminated successfully\n",
      "Optimization terminated successfully\n",
      "Optimization terminated successfully\n"
     ]
    },
    {
     "name": "stderr",
     "output_type": "stream",
     "text": [
      "my bars::  72%|███████▏  | 1453/2016 [00:18<00:06, 86.92it/s]"
     ]
    },
    {
     "name": "stdout",
     "output_type": "stream",
     "text": [
      "Optimization terminated successfully\n",
      "Optimization terminated successfully\n",
      "Optimization terminated successfully\n",
      "Optimization terminated successfully\n",
      "Optimization terminated successfully\n",
      "Optimization terminated successfully\n",
      "Optimization terminated successfully\n",
      "Optimization terminated successfully\n",
      "Optimization terminated successfully\n",
      "Optimization terminated successfully\n",
      "Optimization terminated successfully\n",
      "Optimization terminated successfully\n",
      "Optimization terminated successfully\n",
      "Optimization terminated successfully\n",
      "Optimization terminated successfully\n",
      "Optimization terminated successfully\n",
      "Optimization terminated successfully\n",
      "Optimization terminated successfully\n",
      "Optimization terminated successfully"
     ]
    },
    {
     "name": "stderr",
     "output_type": "stream",
     "text": [
      "my bars::  73%|███████▎  | 1472/2016 [00:19<00:06, 88.67it/s]"
     ]
    },
    {
     "name": "stdout",
     "output_type": "stream",
     "text": [
      "\n",
      "Optimization terminated successfully\n",
      "Optimization terminated successfully\n",
      "Optimization terminated successfully\n",
      "Optimization terminated successfully\n",
      "Optimization terminated successfully\n",
      "Optimization terminated successfully\n",
      "Optimization terminated successfully\n",
      "Optimization terminated successfully\n",
      "Optimization terminated successfully\n",
      "Optimization terminated successfully\n",
      "Optimization terminated successfully\n",
      "Optimization terminated successfully\n",
      "Optimization terminated successfully\n",
      "Optimization terminated successfully\n",
      "Optimization terminated successfully\n",
      "Optimization terminated successfully\n",
      "Optimization terminated successfully\n",
      "Optimization terminated successfully"
     ]
    },
    {
     "name": "stderr",
     "output_type": "stream",
     "text": [
      "my bars::  74%|███████▍  | 1492/2016 [00:19<00:05, 91.85it/s]"
     ]
    },
    {
     "name": "stdout",
     "output_type": "stream",
     "text": [
      "\n",
      "Optimization terminated successfully\n",
      "Optimization terminated successfully\n",
      "Optimization terminated successfully\n",
      "Optimization terminated successfully\n",
      "Optimization terminated successfully\n",
      "Optimization terminated successfully\n",
      "Optimization terminated successfully\n",
      "Optimization terminated successfully\n",
      "Optimization terminated successfully\n",
      "Optimization terminated successfully\n",
      "Optimization terminated successfully\n",
      "Optimization terminated successfully\n",
      "Optimization terminated successfully\n",
      "Optimization terminated successfully\n",
      "Optimization terminated successfully\n",
      "Optimization terminated successfully\n",
      "Optimization terminated successfully\n"
     ]
    },
    {
     "name": "stderr",
     "output_type": "stream",
     "text": [
      "my bars::  75%|███████▌  | 1513/2016 [00:19<00:05, 94.16it/s]"
     ]
    },
    {
     "name": "stdout",
     "output_type": "stream",
     "text": [
      "Optimization terminated successfully\n",
      "Optimization terminated successfully\n",
      "Optimization terminated successfully\n",
      "Optimization terminated successfully\n",
      "Optimization terminated successfully\n",
      "Optimization terminated successfully\n",
      "Optimization terminated successfully\n",
      "Optimization terminated successfully\n",
      "Optimization terminated successfully\n",
      "Optimization terminated successfully\n",
      "Optimization terminated successfully\n",
      "Optimization terminated successfully\n",
      "Optimization terminated successfully\n",
      "Optimization terminated successfully\n",
      "Optimization terminated successfully\n",
      "Optimization terminated successfully\n",
      "Optimization terminated successfully\n",
      "Optimization terminated successfully\n"
     ]
    },
    {
     "name": "stderr",
     "output_type": "stream",
     "text": [
      "my bars::  76%|███████▌  | 1533/2016 [00:19<00:05, 91.03it/s]"
     ]
    },
    {
     "name": "stdout",
     "output_type": "stream",
     "text": [
      "Optimization terminated successfully\n",
      "Optimization terminated successfully\n",
      "Optimization terminated successfully\n",
      "Optimization terminated successfully\n",
      "Optimization terminated successfully\n",
      "Optimization terminated successfully\n",
      "Optimization terminated successfully\n",
      "Optimization terminated successfully\n",
      "Optimization terminated successfully\n",
      "Optimization terminated successfully\n",
      "Optimization terminated successfully\n",
      "Optimization terminated successfully\n",
      "Optimization terminated successfully\n",
      "Optimization terminated successfully\n",
      "Optimization terminated successfully\n",
      "Optimization terminated successfully\n",
      "Optimization terminated successfully\n",
      "Optimization terminated successfully"
     ]
    },
    {
     "name": "stderr",
     "output_type": "stream",
     "text": [
      "my bars::  77%|███████▋  | 1553/2016 [00:19<00:05, 89.33it/s]"
     ]
    },
    {
     "name": "stdout",
     "output_type": "stream",
     "text": [
      "\n",
      "Optimization terminated successfully\n",
      "Optimization terminated successfully\n",
      "Optimization terminated successfully\n",
      "Optimization terminated successfully\n",
      "Optimization terminated successfully\n",
      "Optimization terminated successfully\n",
      "Optimization terminated successfully\n",
      "Optimization terminated successfully\n",
      "Optimization terminated successfully\n",
      "Optimization terminated successfully\n",
      "Optimization terminated successfully\n",
      "Optimization terminated successfully\n",
      "Optimization terminated successfully\n",
      "Optimization terminated successfully\n",
      "Optimization terminated successfully\n",
      "Optimization terminated successfully\n",
      "Optimization terminated successfully\n",
      "Optimization terminated successfully\n",
      "Optimization terminated successfully"
     ]
    },
    {
     "name": "stderr",
     "output_type": "stream",
     "text": [
      "my bars::  78%|███████▊  | 1573/2016 [00:20<00:04, 92.14it/s]"
     ]
    },
    {
     "name": "stdout",
     "output_type": "stream",
     "text": [
      "\n",
      "Optimization terminated successfully\n",
      "Optimization terminated successfully\n",
      "Optimization terminated successfully\n",
      "Optimization terminated successfully\n",
      "Optimization terminated successfully\n",
      "Optimization terminated successfully\n",
      "Optimization terminated successfully\n",
      "Optimization terminated successfully\n",
      "Optimization terminated successfully\n",
      "Optimization terminated successfully\n",
      "Optimization terminated successfully\n",
      "Optimization terminated successfully\n",
      "Optimization terminated successfully\n",
      "Optimization terminated successfully\n",
      "Optimization terminated successfully\n",
      "Optimization terminated successfully\n"
     ]
    },
    {
     "name": "stderr",
     "output_type": "stream",
     "text": [
      "my bars::  79%|███████▉  | 1595/2016 [00:20<00:04, 94.25it/s]"
     ]
    },
    {
     "name": "stdout",
     "output_type": "stream",
     "text": [
      "Optimization terminated successfully\n",
      "Optimization terminated successfully\n",
      "Optimization terminated successfully\n",
      "Optimization terminated successfully\n",
      "Optimization terminated successfully\n",
      "Optimization terminated successfully\n",
      "Optimization terminated successfully\n",
      "Optimization terminated successfully\n",
      "Optimization terminated successfully\n",
      "Optimization terminated successfully\n",
      "Optimization terminated successfully\n",
      "Optimization terminated successfully\n",
      "Optimization terminated successfully\n",
      "Optimization terminated successfully\n",
      "Optimization terminated successfully\n",
      "Optimization terminated successfully\n",
      "Optimization terminated successfully\n",
      "Optimization terminated successfully\n",
      "Optimization terminated successfully\n",
      "Optimization terminated successfully"
     ]
    },
    {
     "name": "stderr",
     "output_type": "stream",
     "text": [
      "my bars::  80%|████████  | 1616/2016 [00:20<00:04, 98.15it/s]"
     ]
    },
    {
     "name": "stdout",
     "output_type": "stream",
     "text": [
      "\n",
      "Optimization terminated successfully\n",
      "Optimization terminated successfully\n",
      "Optimization terminated successfully\n",
      "Optimization terminated successfully\n",
      "Optimization terminated successfully\n",
      "Optimization terminated successfully\n",
      "Optimization terminated successfully\n",
      "Optimization terminated successfully\n",
      "Optimization terminated successfully\n",
      "Optimization terminated successfully\n",
      "Optimization terminated successfully\n",
      "Optimization terminated successfully\n",
      "Optimization terminated successfully\n",
      "Optimization terminated successfully\n",
      "Optimization terminated successfully\n",
      "Optimization terminated successfully\n",
      "Optimization terminated successfully\n",
      "Optimization terminated successfully\n",
      "Optimization terminated successfully"
     ]
    },
    {
     "name": "stderr",
     "output_type": "stream",
     "text": [
      "my bars::  81%|████████▏ | 1638/2016 [00:20<00:03, 96.08it/s] "
     ]
    },
    {
     "name": "stdout",
     "output_type": "stream",
     "text": [
      "\n",
      "Optimization terminated successfully\n",
      "Optimization terminated successfully\n",
      "Optimization terminated successfully\n",
      "Optimization terminated successfully\n",
      "Optimization terminated successfully\n",
      "Optimization terminated successfully\n",
      "Optimization terminated successfully\n",
      "Optimization terminated successfully\n",
      "Optimization terminated successfully\n",
      "Optimization terminated successfully\n",
      "Optimization terminated successfully\n",
      "Optimization terminated successfully\n",
      "Optimization terminated successfully\n",
      "Optimization terminated successfully\n",
      "Optimization terminated successfully\n",
      "Optimization terminated successfully\n"
     ]
    },
    {
     "name": "stderr",
     "output_type": "stream",
     "text": [
      "my bars::  82%|████████▏ | 1658/2016 [00:21<00:03, 96.67it/s]"
     ]
    },
    {
     "name": "stdout",
     "output_type": "stream",
     "text": [
      "Optimization terminated successfully\n",
      "Optimization terminated successfully\n",
      "Optimization terminated successfully\n",
      "Optimization terminated successfully\n",
      "Optimization terminated successfully\n",
      "Optimization terminated successfully\n",
      "Optimization terminated successfully\n",
      "Optimization terminated successfully\n",
      "Optimization terminated successfully\n",
      "Optimization terminated successfully\n",
      "Optimization terminated successfully\n",
      "Optimization terminated successfully\n",
      "Optimization terminated successfully\n",
      "Optimization terminated successfully\n",
      "Optimization terminated successfully\n",
      "Optimization terminated successfully\n",
      "Optimization terminated successfully\n",
      "Optimization terminated successfully"
     ]
    },
    {
     "name": "stderr",
     "output_type": "stream",
     "text": [
      "my bars::  83%|████████▎ | 1678/2016 [00:21<00:03, 92.89it/s]"
     ]
    },
    {
     "name": "stdout",
     "output_type": "stream",
     "text": [
      "\n",
      "Optimization terminated successfully\n",
      "Optimization terminated successfully\n",
      "Optimization terminated successfully\n",
      "Optimization terminated successfully\n",
      "Optimization terminated successfully\n",
      "Optimization terminated successfully\n",
      "Optimization terminated successfully\n",
      "Optimization terminated successfully\n",
      "Optimization terminated successfully\n",
      "Optimization terminated successfully\n",
      "Optimization terminated successfully\n",
      "Optimization terminated successfully\n",
      "Optimization terminated successfully\n",
      "Optimization terminated successfully\n",
      "Optimization terminated successfully\n",
      "Optimization terminated successfully\n",
      "Optimization terminated successfully\n",
      "Optimization terminated successfully\n",
      "Optimization terminated successfully"
     ]
    },
    {
     "name": "stderr",
     "output_type": "stream",
     "text": [
      "my bars::  84%|████████▍ | 1698/2016 [00:21<00:03, 91.69it/s]"
     ]
    },
    {
     "name": "stdout",
     "output_type": "stream",
     "text": [
      "\n",
      "Optimization terminated successfully\n",
      "Optimization terminated successfully\n",
      "Optimization terminated successfully\n",
      "Optimization terminated successfully\n",
      "Optimization terminated successfully\n",
      "Optimization terminated successfully\n",
      "Optimization terminated successfully\n",
      "Optimization terminated successfully\n",
      "Optimization terminated successfully\n",
      "Optimization terminated successfully\n",
      "Optimization terminated successfully\n",
      "Optimization terminated successfully\n",
      "Optimization terminated successfully\n",
      "Optimization terminated successfully\n",
      "Optimization terminated successfully\n",
      "Optimization terminated successfully\n",
      "Optimization terminated successfully\n",
      "Optimization terminated successfully\n"
     ]
    },
    {
     "name": "stderr",
     "output_type": "stream",
     "text": [
      "my bars::  85%|████████▌ | 1718/2016 [00:21<00:03, 93.39it/s]"
     ]
    },
    {
     "name": "stdout",
     "output_type": "stream",
     "text": [
      "Optimization terminated successfully\n",
      "Optimization terminated successfully\n",
      "Optimization terminated successfully\n",
      "Optimization terminated successfully\n",
      "Optimization terminated successfully\n",
      "Optimization terminated successfully\n",
      "Optimization terminated successfully\n",
      "Optimization terminated successfully\n",
      "Optimization terminated successfully\n",
      "Optimization terminated successfully\n",
      "Optimization terminated successfully\n",
      "Optimization terminated successfully\n",
      "Optimization terminated successfully\n",
      "Optimization terminated successfully\n",
      "Optimization terminated successfully\n",
      "Optimization terminated successfully\n",
      "Optimization terminated successfully\n",
      "Optimization terminated successfully\n",
      "Optimization terminated successfully\n"
     ]
    },
    {
     "name": "stderr",
     "output_type": "stream",
     "text": [
      "my bars::  86%|████████▋ | 1742/2016 [00:21<00:02, 102.65it/s]"
     ]
    },
    {
     "name": "stdout",
     "output_type": "stream",
     "text": [
      "Optimization terminated successfully\n",
      "Optimization terminated successfully\n",
      "Optimization terminated successfully\n",
      "Optimization terminated successfully\n",
      "Optimization terminated successfully\n",
      "Optimization terminated successfully\n",
      "Optimization terminated successfully\n",
      "Optimization terminated successfully\n",
      "Optimization terminated successfully\n",
      "Optimization terminated successfully\n",
      "Optimization terminated successfully\n",
      "Optimization terminated successfully\n",
      "Optimization terminated successfully\n",
      "Optimization terminated successfully\n",
      "Optimization terminated successfully"
     ]
    },
    {
     "name": "stderr",
     "output_type": "stream",
     "text": [
      "my bars::  88%|████████▊ | 1771/2016 [00:22<00:02, 119.04it/s]"
     ]
    },
    {
     "name": "stdout",
     "output_type": "stream",
     "text": [
      "\n",
      "Optimization terminated successfully\n",
      "Optimization terminated successfully\n",
      "Optimization terminated successfully\n",
      "Optimization terminated successfully\n",
      "Optimization terminated successfully\n",
      "Optimization terminated successfully\n",
      "Optimization terminated successfully\n",
      "Optimization terminated successfully\n",
      "Optimization terminated successfully\n",
      "Optimization terminated successfully\n",
      "Optimization terminated successfully\n",
      "Optimization terminated successfully\n",
      "Optimization terminated successfully\n",
      "Optimization terminated successfully"
     ]
    },
    {
     "name": "stderr",
     "output_type": "stream",
     "text": [
      "my bars::  92%|█████████▏| 1849/2016 [00:22<00:00, 215.76it/s]"
     ]
    },
    {
     "name": "stdout",
     "output_type": "stream",
     "text": [
      "\n",
      "Optimization terminated successfully\n",
      "Optimization terminated successfully\n"
     ]
    },
    {
     "name": "stderr",
     "output_type": "stream",
     "text": [
      "my bars::  99%|█████████▉| 2005/2016 [00:22<00:00, 287.20it/s]"
     ]
    },
    {
     "name": "stdout",
     "output_type": "stream",
     "text": [
      "Optimization terminated successfully\n",
      "Optimization terminated successfully\n",
      "Optimization terminated successfully\n"
     ]
    },
    {
     "name": "stderr",
     "output_type": "stream",
     "text": [
      "my bars:: 100%|██████████| 2016/2016 [00:23<00:00, 86.29it/s] \n"
     ]
    }
   ],
   "source": [
    "param_dict_ = {'by_rank':3, 'symmetry':True}\n",
    "# param_dict_ = {'bar':1e-3}\n",
    "strat = sabr2207.groupby('time').apply(hedge_update.Option_Split_Rank, **param_dict_)\n",
    "pcpl1 = hedge_update.Hedge_Transform(strat, etf)\n",
    "hedge_update.Global_Exist(pcpl1)\n",
    "pcpl1 = pcpl1.groupby('time').progress_apply(hedge_update.Option_Position_Add).reset_index(drop = True)\n",
    "# temp.to_csv('/Users/chenwynn/Documents/Intern_project/HTSC_Summer/sabr_vol/add.csv')\n",
    "hedge_update.Global_Exist(pcpl1)\n",
    "hedge_dict_ = {'bar':8e-4, 'delta_tolerance':5, 'vega_tolerance':5}\n",
    "pcpl1 = pcpl1.groupby('time').progress_apply(hedge_update.Hedge_Vega, **hedge_dict_).reset_index(drop = True)\n",
    "\n",
    "pcpl1['position'] = pcpl1['profit_position'] + pcpl1['hedge_position']\n",
    "\n",
    "# 手续费\n",
    "time0 = pcpl1['time'].sort_values().iloc[0]\n",
    "timen = pcpl1['time'].sort_values().iloc[-1]\n",
    "\n",
    "# 开仓价为上一个tick的close\n",
    "pcpl1['open price'] = pcpl1.groupby('code')['close'].shift()\n",
    "\n",
    "pcpl1['profit_position_diff'] = pcpl1.groupby('code')['profit_position'].diff()\n",
    "pcpl1.loc[pcpl1['time'] == time0, 'profit_position_diff'] = pcpl1.loc[pcpl1['time'] == time0, 'profit_position']\n",
    "# pcpl1.loc[pcpl1['time'] == timen, 'cash_diff'] = pcpl1.loc[pcpl1['time'] == timen, 'position'] * pcpl1.loc[pcpl1['time'] == timen, 'close']\n",
    "pcpl1['profit_cost'] = np.abs(pcpl1['profit_position_diff']) * 1.3\n",
    "pcpl1.loc[(pcpl1['position'] < 0)&(pcpl1['profit_position_diff'] < 0), 'profit_cost'] = 0\n",
    "\n",
    "pcpl1['hedge_position_diff'] = pcpl1.groupby('code')['hedge_position'].diff()\n",
    "pcpl1.loc[pcpl1['time'] == time0, 'hedge_position_diff'] = pcpl1.loc[pcpl1['time'] == time0, 'hedge_position']\n",
    "pcpl1.loc[pcpl1['type'] != 'S', 'hedge_cost'] = np.abs(pcpl1.loc[pcpl1['type'] != 'S', 'hedge_position_diff']) * 1.3\n",
    "pcpl1.loc[(pcpl1['type'] != 'S')&(pcpl1['position'] < 0)&(pcpl1['hedge_position_diff'] < 0), 'hedge_cost'] = 0\n",
    "pcpl1.loc[pcpl1['type'] == 'S', 'hedge_cost'] = np.abs(pcpl1.loc[pcpl1['type'] == 'S', 'hedge_position_diff']) * 0.4 * pcpl1.loc[pcpl1['type'] == 'S', 'close']\n",
    "pcpl1.loc[(pcpl1['type'] == 'S')&(pcpl1['hedge_position'] < 0)&(pcpl1['hedge_position_diff'] < 0), 'hedge_cost'] = np.abs(pcpl1.loc[(pcpl1['type'] == 'S')&(pcpl1['hedge_position'] < 0)&(pcpl1['hedge_position_diff'] < 0), 'hedge_position_diff']) * 3 * pcpl1.loc[(pcpl1['type'] == 'S')&(pcpl1['hedge_position'] < 0)&(pcpl1['hedge_position_diff'] < 0), 'open price']\n",
    "\n",
    "pcpl1['position_diff'] = pcpl1.groupby('code')['position'].diff()\n",
    "pcpl1.loc[pcpl1['time'] == time0, 'position_diff'] = pcpl1.loc[pcpl1['time'] == time0, 'position']\n",
    "pcpl1.loc[pcpl1['type'] != 'S', 'cost'] = np.abs(pcpl1.loc[pcpl1['type'] != 'S', 'position_diff']) * 1.3\n",
    "pcpl1.loc[(pcpl1['type'] != 'S')&(pcpl1['position'] < 0)&(pcpl1['position_diff'] < 0), 'cost'] = 0\n",
    "pcpl1.loc[pcpl1['type'] == 'S', 'cost'] = np.abs(pcpl1.loc[pcpl1['type'] == 'S', 'position_diff']) * 0.4 * pcpl1.loc[pcpl1['type'] == 'S', 'close']\n",
    "pcpl1.loc[(pcpl1['type'] == 'S')&(pcpl1['position'] < 0)&(pcpl1['position_diff'] < 0), 'cost'] = np.abs(pcpl1.loc[(pcpl1['type'] == 'S')&(pcpl1['position'] < 0)&(pcpl1['position_diff'] < 0), 'position_diff']) * 3 * pcpl1.loc[(pcpl1['type'] == 'S')&(pcpl1['position'] < 0)&(pcpl1['position_diff'] < 0), 'open price']\n",
    "\n",
    "\n",
    "# cash = pcpl1.groupby('time')['cash_diff'].sum()\n",
    "\n",
    "pcpl1['cash'] = pcpl1['close'] - pcpl1['open price']\n",
    "pcpl1['cash'] = pcpl1['cash'] * pcpl1['position'] * 10000\n",
    "pcpl1.loc[pcpl1['type'] == 'C', 'out moneyness'] = (-pcpl1.loc[pcpl1['type'] == 'C', 'close'] + pcpl1.loc[pcpl1['type'] == 'C', 'strike price']).apply(lambda x: max(x, 0))\n",
    "pcpl1.loc[pcpl1['type'] == 'P', 'out moneyness'] = (pcpl1.loc[pcpl1['type'] == 'P', 'close'] - pcpl1.loc[pcpl1['type'] == 'P', 'strike price']).apply(lambda x: max(x, 0))\n",
    "pcpl1['margin'] = pcpl1.apply(lambda x:max(-(min(x['open price'] + max(0.12*x['spot price'] - x['out moneyness'], 0.07 * x['strike price']), x['strike price'])) * 1e4 * x['position'], x['open price'] * x['position'] * 1e4), axis = 1)\n",
    "pcpl1['fund_cost'] = pcpl1['margin'] * 0.04/250/48\n",
    "pcpl1['fund_cost'] = pcpl1['fund_cost'].fillna(0)\n",
    "pcpl1['cost'] = pcpl1['cost'].fillna(0)\n",
    "pcpl1['cash_net'] = pcpl1['cash'] - pcpl1['cost'] - pcpl1['fund_cost']\n",
    "# cash = pcpl1.groupby('time')['cash'].sum()"
   ]
  },
  {
   "cell_type": "code",
   "execution_count": 26,
   "id": "00274eaa",
   "metadata": {},
   "outputs": [
    {
     "data": {
      "text/plain": [
       "<matplotlib.legend.Legend at 0x7f964848ebb0>"
      ]
     },
     "execution_count": 26,
     "metadata": {},
     "output_type": "execute_result"
    },
    {
     "data": {
      "image/png": "[encoded data removed]",
      "text/plain": [
       "<Figure size 720x360 with 1 Axes>"
      ]
     },
     "metadata": {
      "needs_background": "light"
     },
     "output_type": "display_data"
    }
   ],
   "source": [
    "plt.figure(figsize=(10, 5))\n",
    "plt.title('Return Decomposition')\n",
    "pcpl1['delta_p'] = pcpl1['delta']*pcpl1['position']\n",
    "delta_p = pcpl1.groupby('time')['delta_p'].sum()\n",
    "delta_p = (pcpl1.loc[pcpl1['type'] == 'S', 'close'].diff()).values * delta_p * 1e4\n",
    "pcpl1['vega_p'] = pcpl1.groupby('code')['sabr vol'].diff()\n",
    "pcpl1['arbi'] = pcpl1.groupby('code')['black vol'].diff() - pcpl1['vega_p']\n",
    "pcpl1['arbi'] = pcpl1['arbi'] * pcpl1['vega'].values * pcpl1['position'].values * 1e4\n",
    "pcpl1['vega_p'] = pcpl1['vega_p'] * pcpl1['vega'].values * pcpl1['position'].values * 1e4\n",
    "pcpl1['gamma_p'] = pcpl1['gamma']*pcpl1['position'].values\n",
    "gamma_p = pcpl1.groupby('time')['gamma_p'].sum()\n",
    "gamma_p = ((pcpl1.loc[pcpl1['type'] == 'S', 'close'].diff()).values)**2 * gamma_p/2 * 1e4\n",
    "pcpl1['theta_p'] = pcpl1.groupby('code')['time_to_mature'].diff()\n",
    "pcpl1['theta_p'] = pcpl1['theta_p'] * pcpl1['theta'].values * pcpl1['position'].values * 1e4\n",
    "plt.plot(delta_p.cumsum(), label='delta')\n",
    "plt.plot(pcpl1.groupby('time')['vega_p'].sum().cumsum(), label='vega')\n",
    "plt.plot(gamma_p.cumsum(), label='gamma')\n",
    "plt.plot(pcpl1.groupby('time')['theta_p'].sum().cumsum(), label='theta')\n",
    "plt.plot(pcpl1.groupby('time')['arbi'].sum().cumsum(), label = 'vol shift')\n",
    "plt.legend()"
   ]
  },
  {
   "cell_type": "code",
   "execution_count": 27,
   "id": "a4fcc0d1",
   "metadata": {},
   "outputs": [
    {
     "data": {
      "text/plain": [
       "<matplotlib.legend.Legend at 0x7f965a44c8b0>"
      ]
     },
     "execution_count": 27,
     "metadata": {},
     "output_type": "execute_result"
    },
    {
     "data": {
      "image/png": "[encoded data removed]",
      "text/plain": [
       "<Figure size 720x360 with 1 Axes>"
      ]
     },
     "metadata": {
      "needs_background": "light"
     },
     "output_type": "display_data"
    }
   ],
   "source": [
    "plt.figure(figsize = (10, 5))\n",
    "plt.title('Strategy Return')\n",
    "plt.plot(pcpl1.groupby('time')['cash'].sum().cumsum(), label = 'Return Without Cost')\n",
    "plt.plot(pcpl1.groupby('time')['cash_net'].sum().cumsum(), label = 'Return With Cost')\n",
    "plt.plot(delta_p.cumsum()+pcpl1.groupby('time')['vega_p'].sum().cumsum()+gamma_p.cumsum()+pcpl1.groupby('time')['theta_p'].sum().cumsum()+pcpl1.groupby('time')['arbi'].sum().cumsum(), label='Greeks Return')\n",
    "plt.legend()"
   ]
  },
  {
   "cell_type": "code",
   "execution_count": 28,
   "id": "3d991bc9",
   "metadata": {},
   "outputs": [
    {
     "data": {
      "text/plain": [
       "[<matplotlib.lines.Line2D at 0x7f9648563370>]"
      ]
     },
     "execution_count": 28,
     "metadata": {},
     "output_type": "execute_result"
    },
    {
     "data": {
      "image/png": "[encoded data removed]",
      "text/plain": [
       "<Figure size 720x360 with 1 Axes>"
      ]
     },
     "metadata": {
      "needs_background": "light"
     },
     "output_type": "display_data"
    }
   ],
   "source": [
    "plt.figure(figsize = (10, 5))\n",
    "plt.title('Cost Decomposition')\n",
    "plt.stackplot(np.unique(pcpl1['time']), pcpl1.groupby('time')['profit_cost'].sum().cumsum(), pcpl1.groupby('time')['hedge_cost'].sum().cumsum())\n",
    "plt.plot(pcpl1.groupby('time')['cost'].sum().cumsum(), color='r')"
   ]
  },
  {
   "cell_type": "code",
   "execution_count": 29,
   "id": "1b8ff929",
   "metadata": {},
   "outputs": [
    {
     "data": {
      "image/png": "[encoded data removed]",
      "text/plain": [
       "<Figure size 720x360 with 2 Axes>"
      ]
     },
     "metadata": {
      "needs_background": "light"
     },
     "output_type": "display_data"
    }
   ],
   "source": [
    "pcpl1['notional'] = np.abs(pcpl1['position'] * pcpl1['spot price'])\n",
    "\n",
    "fig, ax = plt.subplots(figsize=(10, 5))\n",
    "ax.plot(pcpl1.groupby('time')['notional'].sum(), c='b',ls='--',label='notional amount')\n",
    "ax.set_xlabel('time', fontsize=16)\n",
    "ax.set_ylabel('Notional Amount', color='b', fontsize=16)\n",
    "ax.tick_params('y', colors='b')\n",
    "ax.legend()\n",
    "\n",
    "ax2 = ax.twinx()\n",
    "ax2.plot(pcpl1.loc[pcpl1['position'] != 0, :].groupby('time').size(), c='r', ls=\":\",label='Position')\n",
    "ax2.set_ylabel('Contract Number',color='r', fontsize=16)\n",
    "ax2.tick_params('y', colors='r')\n",
    "ax2.legend()\n",
    "\n",
    "plt.title('Position Fluctuate', fontsize=16)\n",
    "plt.show()   "
   ]
  },
  {
   "cell_type": "code",
   "execution_count": null,
   "id": "851eb0f6",
   "metadata": {},
   "outputs": [],
   "source": []
  }
 ],
 "metadata": {
  "kernelspec": {
   "display_name": "Python 3 (ipykernel)",
   "language": "python",
   "name": "python3"
  },
  "language_info": {
   "codemirror_mode": {
    "name": "ipython",
    "version": 3
   },
   "file_extension": ".py",
   "mimetype": "text/x-python",
   "name": "python",
   "nbconvert_exporter": "python",
   "pygments_lexer": "ipython3",
   "version": "3.9.12"
  }
 },
 "nbformat": 4,
 "nbformat_minor": 5
}
