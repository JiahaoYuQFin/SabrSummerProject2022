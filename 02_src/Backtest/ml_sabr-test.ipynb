{
 "cells": [
  {
   "cell_type": "code",
   "execution_count": 2,
   "id": "46a35dbb",
   "metadata": {},
   "outputs": [],
   "source": [
    "import os\n",
    "import time\n",
    "import pandas as pd\n",
    "import numpy as np\n",
    "import warnings\n",
    "import statsmodels.api as sm\n",
    "from tqdm import tqdm\n",
    "import seaborn as sns\n",
    "import datetime\n",
    "import time\n",
    "import matplotlib.pyplot as plt\n",
    "import statsmodels.stats as stat\n",
    "import sys\n",
    "# import talib\n",
    "import scipy.stats as stat\n",
    "import sympy as sy\n",
    "from sympy.stats import Normal, cdf\n",
    "from sklearn.model_selection import GridSearchCV\n",
    "from sklearn.model_selection import StratifiedKFold,KFold\n",
    "import sklearn\n",
    "import joblib\n",
    "import pickle\n",
    "work_path = os.path.dirname(os.getcwd())\n",
    "work_path = os.path.dirname(work_path)\n",
    "sys.path.append(work_path + '\\\\02_src\\\\OptionModel')\n",
    "sys.path.append(work_path + '\\\\02_src\\\\HedgingModel')\n",
    "from sabr_bywynn import BlackScholes, SABR\n",
    "#import pickle5 as pickle\n",
    "tqdm.pandas(desc=\"my bars:\")\n",
    "warnings.filterwarnings(\"ignore\")"
   ]
  },
  {
   "cell_type": "code",
   "execution_count": null,
   "id": "cee7b6c3",
   "metadata": {},
   "outputs": [],
   "source": []
  },
  {
   "cell_type": "code",
   "execution_count": null,
   "id": "be2eb9ce",
   "metadata": {},
   "outputs": [],
   "source": []
  },
  {
   "cell_type": "code",
   "execution_count": 3,
   "id": "b683b2ac",
   "metadata": {},
   "outputs": [],
   "source": [
    "data_path = os.getcwd()\n",
    "feature_train = pd.read_csv(os.path.join(data_path, 'feature_train.csv'), index_col = 0)\n",
    "feature_test = pd.read_csv(os.path.join(data_path, 'feature_test.csv'), index_col = 0)"
   ]
  },
  {
   "cell_type": "code",
   "execution_count": 8,
   "id": "ca2a63e6",
   "metadata": {},
   "outputs": [],
   "source": [
    "raw_feature_list = [ 'open', 'high', 'low', 'close', 'volume','time_to_mature','black vol', 'sabr vol','delta', 'vega', 'theta',\n",
    "       'gamma', 'riskfree rate', 'C', 'P','sabr_value', 'moneyness','sabr_value_diff']\n",
    "X_train_raw = feature_train[raw_feature_list]\n",
    "X_test_raw = feature_test[raw_feature_list]\n",
    "X_train = feature_train.drop(['time','code','option_code','type','maturity_date','f_close_1min','f_ret_1min','f_ret_direction'],axis=1)\n",
    "X_test = feature_test.drop(['time','code','option_code','type','maturity_date','f_close_1min','f_ret_1min','f_ret_direction'],axis=1)"
   ]
  },
  {
   "cell_type": "code",
   "execution_count": 13,
   "id": "21655fc5",
   "metadata": {},
   "outputs": [
    {
     "data": {
      "text/plain": [
       "'C:\\\\Users\\\\lenovo\\\\git_intro\\\\SabrSummerProject2022'"
      ]
     },
     "execution_count": 13,
     "metadata": {},
     "output_type": "execute_result"
    }
   ],
   "source": []
  },
  {
   "cell_type": "code",
   "execution_count": 9,
   "id": "2f150ccf",
   "metadata": {},
   "outputs": [],
   "source": [
    "import lightgbm as lgb\n",
    "import sklearn as sk"
   ]
  },
  {
   "cell_type": "code",
   "execution_count": 10,
   "id": "070194a0",
   "metadata": {},
   "outputs": [],
   "source": [
    "import joblib\n",
    "lgb_model = joblib.load('best_lgbm_model.pkl')"
   ]
  },
  {
   "cell_type": "code",
   "execution_count": 11,
   "id": "55085386",
   "metadata": {},
   "outputs": [],
   "source": [
    "feature_train['model price'] = lgb_model.predict(X_train)\n",
    "feature_test['model price'] = lgb_model.predict(X_test)"
   ]
  },
  {
   "cell_type": "code",
   "execution_count": 12,
   "id": "0595476c",
   "metadata": {},
   "outputs": [],
   "source": [
    "sabr2207 = pd.concat([feature_train, feature_test])\n",
    "sabr2207['time'] = pd.to_datetime(sabr2207['time'])\n",
    "sabr2207['signal'] = sabr2207['close'] - sabr2207['model price']\n",
    "sabr2207[['signal','delta', 'vega', 'gamma', 'theta']] = sabr2207.groupby('code')[['signal','delta', 'vega', 'gamma', 'theta']].shift()\n",
    "sabr2207 = sabr2207.sort_values(['time', 'code'])"
   ]
  },
  {
   "cell_type": "code",
   "execution_count": 14,
   "id": "92596c0e",
   "metadata": {},
   "outputs": [],
   "source": [
    "path = work_path + \"\\\\02_src\\\\HedgingModel\"\n",
    "sys.path.append(path)\n",
    "import hedge_update\n",
    "\n",
    "f = open(work_path +  '\\\\03_data\\\\300etf.pkl','rb')\n",
    "etf = pickle.load(f)\n",
    "etf = etf.set_index('time').reindex(pd.Index(np.unique(sabr2207['time']))).reset_index()\n",
    "etf = etf.rename(columns = {'index':'time'})"
   ]
  },
  {
   "cell_type": "code",
   "execution_count": 15,
   "id": "817dcfef",
   "metadata": {},
   "outputs": [
    {
     "name": "stderr",
     "output_type": "stream",
     "text": [
      "my bars:: 100%|███████████████████████████████████████████████████████████████████| 1992/1992 [00:12<00:00, 156.26it/s]\n",
      "my bars::   0%|▎                                                                      | 8/1992 [00:00<01:01, 32.40it/s]"
     ]
    },
    {
     "name": "stdout",
     "output_type": "stream",
     "text": [
      "Optimization terminated successfully\n",
      "Optimization terminated successfully\n",
      "Optimization terminated successfully\n",
      "Optimization terminated successfully\n",
      "Optimization terminated successfully\n",
      "Optimization terminated successfully\n",
      "Optimization terminated successfully\n"
     ]
    },
    {
     "name": "stderr",
     "output_type": "stream",
     "text": [
      "my bars::   1%|▋                                                                     | 18/1992 [00:00<00:51, 38.13it/s]"
     ]
    },
    {
     "name": "stdout",
     "output_type": "stream",
     "text": [
      "Optimization terminated successfully\n",
      "Optimization terminated successfully\n",
      "Optimization terminated successfully\n",
      "Optimization terminated successfully\n",
      "Optimization terminated successfully\n",
      "Optimization terminated successfully\n",
      "Optimization terminated successfully\n"
     ]
    },
    {
     "name": "stderr",
     "output_type": "stream",
     "text": [
      "my bars::   1%|▉                                                                     | 28/1992 [00:00<00:48, 40.51it/s]"
     ]
    },
    {
     "name": "stdout",
     "output_type": "stream",
     "text": [
      "Optimization terminated successfully\n",
      "Optimization terminated successfully\n",
      "Optimization terminated successfully\n",
      "Optimization terminated successfully\n",
      "Optimization terminated successfully\n",
      "Optimization terminated successfully\n",
      "Optimization terminated successfully\n",
      "Optimization terminated successfully\n"
     ]
    },
    {
     "name": "stderr",
     "output_type": "stream",
     "text": [
      "my bars::   2%|█▎                                                                    | 38/1992 [00:00<00:48, 40.52it/s]"
     ]
    },
    {
     "name": "stdout",
     "output_type": "stream",
     "text": [
      "Optimization terminated successfully\n",
      "Optimization terminated successfully\n",
      "Optimization terminated successfully\n",
      "Optimization terminated successfully\n",
      "Optimization terminated successfully\n",
      "Optimization terminated successfully\n",
      "Optimization terminated successfully\n",
      "Optimization terminated successfully\n",
      "Optimization terminated successfully\n",
      "Optimization terminated successfully\n",
      "Optimization terminated successfully"
     ]
    },
    {
     "name": "stderr",
     "output_type": "stream",
     "text": [
      "my bars::   3%|█▊                                                                    | 50/1992 [00:01<00:39, 49.24it/s]"
     ]
    },
    {
     "name": "stdout",
     "output_type": "stream",
     "text": [
      "\n",
      "Optimization terminated successfully\n",
      "Optimization terminated successfully\n",
      "Optimization terminated successfully\n",
      "Optimization terminated successfully\n",
      "Optimization terminated successfully\n",
      "Optimization terminated successfully\n",
      "Optimization terminated successfully"
     ]
    },
    {
     "name": "stderr",
     "output_type": "stream",
     "text": [
      "my bars::   3%|██▏                                                                   | 61/1992 [00:01<00:47, 40.98it/s]"
     ]
    },
    {
     "name": "stdout",
     "output_type": "stream",
     "text": [
      "\n",
      "Optimization terminated successfully\n",
      "Optimization terminated successfully\n",
      "Optimization terminated successfully\n",
      "Optimization terminated successfully\n",
      "Optimization terminated successfully\n",
      "Optimization terminated successfully\n",
      "Optimization terminated successfully\n",
      "Optimization terminated successfully\n",
      "Optimization terminated successfully\n",
      "Optimization terminated successfully\n"
     ]
    },
    {
     "name": "stderr",
     "output_type": "stream",
     "text": [
      "my bars::   4%|██▍                                                                   | 71/1992 [00:01<00:48, 39.21it/s]"
     ]
    },
    {
     "name": "stdout",
     "output_type": "stream",
     "text": [
      "Optimization terminated successfully\n",
      "Optimization terminated successfully\n",
      "Optimization terminated successfully\n",
      "Optimization terminated successfully\n",
      "Optimization terminated successfully\n",
      "Optimization terminated successfully\n",
      "Optimization terminated successfully\n",
      "Optimization terminated successfully"
     ]
    },
    {
     "name": "stderr",
     "output_type": "stream",
     "text": [
      "my bars::   4%|██▉                                                                   | 82/1992 [00:02<00:47, 40.52it/s]"
     ]
    },
    {
     "name": "stdout",
     "output_type": "stream",
     "text": [
      "\n",
      "Optimization terminated successfully\n",
      "Optimization terminated successfully\n",
      "Optimization terminated successfully\n",
      "Optimization terminated successfully\n",
      "Optimization terminated successfully\n",
      "Optimization terminated successfully\n",
      "Optimization terminated successfully\n",
      "Optimization terminated successfully\n"
     ]
    },
    {
     "name": "stderr",
     "output_type": "stream",
     "text": [
      "my bars::   5%|███▏                                                                  | 92/1992 [00:02<00:47, 40.02it/s]"
     ]
    },
    {
     "name": "stdout",
     "output_type": "stream",
     "text": [
      "Optimization terminated successfully\n",
      "Optimization terminated successfully\n",
      "Optimization terminated successfully\n",
      "Optimization terminated successfully\n",
      "Optimization terminated successfully\n",
      "Optimization terminated successfully\n"
     ]
    },
    {
     "name": "stderr",
     "output_type": "stream",
     "text": [
      "my bars::   5%|███▌                                                                 | 102/1992 [00:02<00:45, 41.84it/s]"
     ]
    },
    {
     "name": "stdout",
     "output_type": "stream",
     "text": [
      "Optimization terminated successfully\n",
      "Optimization terminated successfully\n",
      "Optimization terminated successfully\n",
      "Optimization terminated successfully\n",
      "Optimization terminated successfully\n",
      "Optimization terminated successfully\n",
      "Optimization terminated successfully\n",
      "Optimization terminated successfully\n"
     ]
    },
    {
     "name": "stderr",
     "output_type": "stream",
     "text": [
      "my bars::   6%|███▉                                                                 | 113/1992 [00:02<00:41, 45.00it/s]"
     ]
    },
    {
     "name": "stdout",
     "output_type": "stream",
     "text": [
      "Optimization terminated successfully\n",
      "Optimization terminated successfully\n",
      "Optimization terminated successfully\n",
      "Optimization terminated successfully\n",
      "Optimization terminated successfully\n",
      "Optimization terminated successfully\n",
      "Optimization terminated successfully\n"
     ]
    },
    {
     "name": "stderr",
     "output_type": "stream",
     "text": [
      "my bars::   6%|████▎                                                                | 123/1992 [00:02<00:44, 41.90it/s]"
     ]
    },
    {
     "name": "stdout",
     "output_type": "stream",
     "text": [
      "Optimization terminated successfully\n",
      "Optimization terminated successfully\n",
      "Optimization terminated successfully\n",
      "Optimization terminated successfully\n",
      "Optimization terminated successfully\n",
      "Optimization terminated successfully\n",
      "Optimization terminated successfully\n",
      "Optimization terminated successfully\n",
      "Optimization terminated successfully"
     ]
    },
    {
     "name": "stderr",
     "output_type": "stream",
     "text": [
      "my bars::   7%|████▋                                                                | 135/1992 [00:03<00:39, 46.46it/s]"
     ]
    },
    {
     "name": "stdout",
     "output_type": "stream",
     "text": [
      "\n",
      "Optimization terminated successfully\n",
      "Optimization terminated successfully\n",
      "Optimization terminated successfully\n",
      "Optimization terminated successfully\n",
      "Optimization terminated successfully\n",
      "Optimization terminated successfully\n",
      "Optimization terminated successfully\n",
      "Optimization terminated successfully\n"
     ]
    },
    {
     "name": "stderr",
     "output_type": "stream",
     "text": [
      "my bars::   7%|█████                                                                | 145/1992 [00:03<00:42, 43.12it/s]"
     ]
    },
    {
     "name": "stdout",
     "output_type": "stream",
     "text": [
      "Optimization terminated successfully\n",
      "Optimization terminated successfully\n",
      "Optimization terminated successfully\n",
      "Optimization terminated successfully\n",
      "Optimization terminated successfully\n",
      "Optimization terminated successfully\n",
      "Optimization terminated successfully\n",
      "Optimization terminated successfully\n",
      "Optimization terminated successfully\n"
     ]
    },
    {
     "name": "stderr",
     "output_type": "stream",
     "text": [
      "my bars::   8%|█████▍                                                               | 156/1992 [00:03<00:40, 44.81it/s]"
     ]
    },
    {
     "name": "stdout",
     "output_type": "stream",
     "text": [
      "Optimization terminated successfully\n",
      "Optimization terminated successfully\n",
      "Optimization terminated successfully\n",
      "Optimization terminated successfully\n",
      "Optimization terminated successfully\n",
      "Optimization terminated successfully\n",
      "Optimization terminated successfully\n"
     ]
    },
    {
     "name": "stderr",
     "output_type": "stream",
     "text": [
      "\r",
      "my bars::   8%|█████▌                                                               | 161/1992 [00:03<00:43, 41.68it/s]"
     ]
    },
    {
     "name": "stdout",
     "output_type": "stream",
     "text": [
      "Optimization terminated successfully\n",
      "Optimization terminated successfully\n",
      "Optimization terminated successfully\n",
      "Optimization terminated successfully\n",
      "Optimization terminated successfully\n",
      "Optimization terminated successfully\n",
      "Optimization terminated successfully\n"
     ]
    },
    {
     "name": "stderr",
     "output_type": "stream",
     "text": [
      "my bars::   9%|█████▉                                                               | 171/1992 [00:04<00:45, 39.99it/s]"
     ]
    },
    {
     "name": "stdout",
     "output_type": "stream",
     "text": [
      "Optimization terminated successfully\n",
      "Optimization terminated successfully\n",
      "Optimization terminated successfully\n",
      "Optimization terminated successfully\n",
      "Optimization terminated successfully\n",
      "Optimization terminated successfully\n",
      "Optimization terminated successfully\n"
     ]
    },
    {
     "name": "stderr",
     "output_type": "stream",
     "text": [
      "my bars::   9%|██████▎                                                              | 183/1992 [00:04<00:37, 48.75it/s]"
     ]
    },
    {
     "name": "stdout",
     "output_type": "stream",
     "text": [
      "Optimization terminated successfully\n",
      "Optimization terminated successfully\n",
      "Optimization terminated successfully\n",
      "Optimization terminated successfully\n",
      "Optimization terminated successfully\n",
      "Optimization terminated successfully\n",
      "Optimization terminated successfully\n",
      "Optimization terminated successfully"
     ]
    },
    {
     "name": "stderr",
     "output_type": "stream",
     "text": [
      "my bars::  10%|██████▊                                                              | 195/1992 [00:04<00:40, 44.04it/s]"
     ]
    },
    {
     "name": "stdout",
     "output_type": "stream",
     "text": [
      "\n",
      "Optimization terminated successfully\n",
      "Optimization terminated successfully\n",
      "Optimization terminated successfully\n",
      "Optimization terminated successfully\n",
      "Optimization terminated successfully\n",
      "Optimization terminated successfully\n",
      "Optimization terminated successfully\n",
      "Optimization terminated successfully\n",
      "Optimization terminated successfully\n"
     ]
    },
    {
     "name": "stderr",
     "output_type": "stream",
     "text": [
      "my bars::  10%|███████                                                              | 205/1992 [00:04<00:41, 42.91it/s]"
     ]
    },
    {
     "name": "stdout",
     "output_type": "stream",
     "text": [
      "Optimization terminated successfully\n",
      "Optimization terminated successfully\n",
      "Optimization terminated successfully\n",
      "Optimization terminated successfully\n",
      "Optimization terminated successfully\n",
      "Optimization terminated successfully\n",
      "Optimization terminated successfully\n",
      "Optimization terminated successfully\n",
      "Optimization terminated successfully\n",
      "Optimization terminated successfully"
     ]
    },
    {
     "name": "stderr",
     "output_type": "stream",
     "text": [
      "my bars::  11%|███████▍                                                             | 215/1992 [00:05<00:44, 40.34it/s]"
     ]
    },
    {
     "name": "stdout",
     "output_type": "stream",
     "text": [
      "\n",
      "Optimization terminated successfully\n",
      "Optimization terminated successfully\n",
      "Optimization terminated successfully\n",
      "Optimization terminated successfully\n",
      "Optimization terminated successfully\n",
      "Optimization terminated successfully\n",
      "Optimization terminated successfully\n",
      "Optimization terminated successfully\n",
      "Optimization terminated successfully\n"
     ]
    },
    {
     "name": "stderr",
     "output_type": "stream",
     "text": [
      "my bars::  11%|███████▊                                                             | 225/1992 [00:05<00:44, 40.13it/s]"
     ]
    },
    {
     "name": "stdout",
     "output_type": "stream",
     "text": [
      "Optimization terminated successfully\n",
      "Optimization terminated successfully\n",
      "Optimization terminated successfully\n",
      "Optimization terminated successfully\n",
      "Optimization terminated successfully\n",
      "Optimization terminated successfully\n",
      "Optimization terminated successfully\n",
      "Optimization terminated successfully\n"
     ]
    },
    {
     "name": "stderr",
     "output_type": "stream",
     "text": [
      "my bars::  12%|████████▏                                                            | 236/1992 [00:05<00:38, 45.99it/s]"
     ]
    },
    {
     "name": "stdout",
     "output_type": "stream",
     "text": [
      "Optimization terminated successfully\n",
      "Optimization terminated successfully\n",
      "Optimization terminated successfully\n",
      "Optimization terminated successfully\n",
      "Optimization terminated successfully\n",
      "Optimization terminated successfully\n",
      "Optimization terminated successfully\n"
     ]
    },
    {
     "name": "stderr",
     "output_type": "stream",
     "text": [
      "\r",
      "my bars::  12%|████████▍                                                            | 243/1992 [00:05<00:33, 51.80it/s]"
     ]
    },
    {
     "name": "stdout",
     "output_type": "stream",
     "text": [
      "Optimization terminated successfully\n",
      "Optimization terminated successfully\n",
      "Optimization terminated successfully\n",
      "Optimization terminated successfully\n",
      "Optimization terminated successfully\n",
      "Optimization terminated successfully\n",
      "Optimization terminated successfully\n",
      "Optimization terminated successfully"
     ]
    },
    {
     "name": "stderr",
     "output_type": "stream",
     "text": [
      "my bars::  13%|████████▊                                                            | 255/1992 [00:05<00:37, 46.30it/s]"
     ]
    },
    {
     "name": "stdout",
     "output_type": "stream",
     "text": [
      "\n",
      "Optimization terminated successfully\n",
      "Optimization terminated successfully\n",
      "Optimization terminated successfully\n",
      "Optimization terminated successfully\n",
      "Optimization terminated successfully\n",
      "Optimization terminated successfully\n",
      "Optimization terminated successfully\n"
     ]
    },
    {
     "name": "stderr",
     "output_type": "stream",
     "text": [
      "my bars::  13%|█████████▏                                                           | 265/1992 [00:06<00:38, 45.35it/s]"
     ]
    },
    {
     "name": "stdout",
     "output_type": "stream",
     "text": [
      "Optimization terminated successfully\n",
      "Optimization terminated successfully\n",
      "Optimization terminated successfully\n",
      "Optimization terminated successfully\n",
      "Optimization terminated successfully\n",
      "Optimization terminated successfully\n",
      "Optimization terminated successfully\n"
     ]
    },
    {
     "name": "stderr",
     "output_type": "stream",
     "text": [
      "my bars::  14%|█████████▌                                                           | 275/1992 [00:06<00:37, 45.42it/s]"
     ]
    },
    {
     "name": "stdout",
     "output_type": "stream",
     "text": [
      "Optimization terminated successfully\n",
      "Optimization terminated successfully\n",
      "Optimization terminated successfully\n",
      "Optimization terminated successfully\n",
      "Optimization terminated successfully\n",
      "Optimization terminated successfully\n",
      "Optimization terminated successfully\n",
      "Optimization terminated successfully\n",
      "Optimization terminated successfully"
     ]
    },
    {
     "name": "stderr",
     "output_type": "stream",
     "text": [
      "my bars::  14%|█████████▊                                                           | 285/1992 [00:06<00:40, 42.26it/s]"
     ]
    },
    {
     "name": "stdout",
     "output_type": "stream",
     "text": [
      "\n",
      "Optimization terminated successfully\n",
      "Optimization terminated successfully\n",
      "Optimization terminated successfully\n",
      "Optimization terminated successfully\n",
      "Optimization terminated successfully\n",
      "Optimization terminated successfully\n",
      "Optimization terminated successfully\n",
      "Optimization terminated successfully\n"
     ]
    },
    {
     "name": "stderr",
     "output_type": "stream",
     "text": [
      "my bars::  15%|██████████▏                                                          | 295/1992 [00:06<00:41, 41.18it/s]"
     ]
    },
    {
     "name": "stdout",
     "output_type": "stream",
     "text": [
      "Optimization terminated successfully\n",
      "Optimization terminated successfully\n",
      "Optimization terminated successfully\n",
      "Optimization terminated successfully\n",
      "Optimization terminated successfully\n",
      "Optimization terminated successfully\n",
      "Optimization terminated successfully\n",
      "Optimization terminated successfully\n",
      "Optimization terminated successfully\n",
      "Optimization terminated successfully"
     ]
    },
    {
     "name": "stderr",
     "output_type": "stream",
     "text": [
      "my bars::  15%|██████████▌                                                          | 305/1992 [00:07<00:43, 39.18it/s]"
     ]
    },
    {
     "name": "stdout",
     "output_type": "stream",
     "text": [
      "\n",
      "Optimization terminated successfully\n",
      "Optimization terminated successfully\n",
      "Optimization terminated successfully\n",
      "Optimization terminated successfully\n",
      "Optimization terminated successfully\n",
      "Optimization terminated successfully\n",
      "Optimization terminated successfully\n",
      "Optimization terminated successfully"
     ]
    },
    {
     "name": "stderr",
     "output_type": "stream",
     "text": [
      "my bars::  16%|██████████▉                                                          | 316/1992 [00:07<00:38, 43.36it/s]"
     ]
    },
    {
     "name": "stdout",
     "output_type": "stream",
     "text": [
      "\n",
      "Optimization terminated successfully\n",
      "Optimization terminated successfully\n",
      "Optimization terminated successfully\n",
      "Optimization terminated successfully\n",
      "Optimization terminated successfully\n",
      "Optimization terminated successfully\n",
      "Optimization terminated successfully\n"
     ]
    },
    {
     "name": "stderr",
     "output_type": "stream",
     "text": [
      "\r",
      "my bars::  16%|███████████                                                          | 321/1992 [00:07<00:40, 41.74it/s]"
     ]
    },
    {
     "name": "stdout",
     "output_type": "stream",
     "text": [
      "Optimization terminated successfully\n",
      "Optimization terminated successfully\n",
      "Optimization terminated successfully\n",
      "Optimization terminated successfully\n",
      "Optimization terminated successfully\n",
      "Optimization terminated successfully\n",
      "Optimization terminated successfully\n",
      "Optimization terminated successfully\n"
     ]
    },
    {
     "name": "stderr",
     "output_type": "stream",
     "text": [
      "my bars::  17%|███████████▍                                                         | 331/1992 [00:07<00:39, 41.68it/s]"
     ]
    },
    {
     "name": "stdout",
     "output_type": "stream",
     "text": [
      "Optimization terminated successfully\n",
      "Optimization terminated successfully\n",
      "Optimization terminated successfully\n",
      "Optimization terminated successfully\n",
      "Optimization terminated successfully\n",
      "Optimization terminated successfully\n",
      "Optimization terminated successfully\n"
     ]
    },
    {
     "name": "stderr",
     "output_type": "stream",
     "text": [
      "\r",
      "my bars::  17%|███████████▋                                                         | 336/1992 [00:07<00:41, 39.76it/s]"
     ]
    },
    {
     "name": "stdout",
     "output_type": "stream",
     "text": [
      "Optimization terminated successfully\n",
      "Optimization terminated successfully\n",
      "Optimization terminated successfully\n",
      "Optimization terminated successfully\n",
      "Optimization terminated successfully\n",
      "Optimization terminated successfully\n",
      "Optimization terminated successfully"
     ]
    },
    {
     "name": "stderr",
     "output_type": "stream",
     "text": [
      "my bars::  17%|███████████▉                                                         | 345/1992 [00:08<00:43, 37.54it/s]"
     ]
    },
    {
     "name": "stdout",
     "output_type": "stream",
     "text": [
      "\n",
      "Optimization terminated successfully\n",
      "Optimization terminated successfully\n",
      "Optimization terminated successfully\n",
      "Optimization terminated successfully\n",
      "Optimization terminated successfully\n",
      "Optimization terminated successfully\n",
      "Optimization terminated successfully"
     ]
    },
    {
     "name": "stderr",
     "output_type": "stream",
     "text": [
      "my bars::  18%|████████████▎                                                        | 354/1992 [00:08<00:43, 37.47it/s]"
     ]
    },
    {
     "name": "stdout",
     "output_type": "stream",
     "text": [
      "\n",
      "Optimization terminated successfully\n",
      "Optimization terminated successfully\n",
      "Optimization terminated successfully\n",
      "Optimization terminated successfully\n",
      "Optimization terminated successfully\n",
      "Optimization terminated successfully\n",
      "Optimization terminated successfully\n"
     ]
    },
    {
     "name": "stderr",
     "output_type": "stream",
     "text": [
      "my bars::  18%|████████████▌                                                        | 364/1992 [00:08<00:40, 39.90it/s]"
     ]
    },
    {
     "name": "stdout",
     "output_type": "stream",
     "text": [
      "Optimization terminated successfully\n",
      "Optimization terminated successfully\n",
      "Optimization terminated successfully\n",
      "Optimization terminated successfully\n",
      "Optimization terminated successfully\n",
      "Optimization terminated successfully\n",
      "Optimization terminated successfully\n",
      "Optimization terminated successfully\n"
     ]
    },
    {
     "name": "stderr",
     "output_type": "stream",
     "text": [
      "my bars::  19%|████████████▉                                                        | 374/1992 [00:08<00:38, 41.86it/s]"
     ]
    },
    {
     "name": "stdout",
     "output_type": "stream",
     "text": [
      "Optimization terminated successfully\n",
      "Optimization terminated successfully\n",
      "Optimization terminated successfully\n",
      "Optimization terminated successfully\n",
      "Optimization terminated successfully\n",
      "Optimization terminated successfully\n",
      "Optimization terminated successfully\n"
     ]
    },
    {
     "name": "stderr",
     "output_type": "stream",
     "text": [
      "my bars::  19%|█████████████▍                                                       | 387/1992 [00:09<00:50, 31.57it/s]"
     ]
    },
    {
     "name": "stdout",
     "output_type": "stream",
     "text": [
      "Optimization terminated successfully\n",
      "Optimization terminated successfully\n",
      "Optimization terminated successfully\n",
      "Optimization terminated successfully\n",
      "Optimization terminated successfully\n",
      "Optimization terminated successfully\n",
      "Optimization terminated successfully\n",
      "Optimization terminated successfully\n",
      "Optimization terminated successfully\n",
      "Optimization terminated successfully\n"
     ]
    },
    {
     "name": "stderr",
     "output_type": "stream",
     "text": [
      "my bars::  20%|█████████████▋                                                       | 396/1992 [00:09<00:45, 35.20it/s]"
     ]
    },
    {
     "name": "stdout",
     "output_type": "stream",
     "text": [
      "Optimization terminated successfully\n",
      "Optimization terminated successfully\n",
      "Optimization terminated successfully\n",
      "Optimization terminated successfully\n",
      "Optimization terminated successfully\n",
      "Optimization terminated successfully\n",
      "Optimization terminated successfully\n",
      "Optimization terminated successfully\n",
      "Optimization terminated successfully\n",
      "Optimization terminated successfully\n"
     ]
    },
    {
     "name": "stderr",
     "output_type": "stream",
     "text": [
      "my bars::  20%|█████████████▉                                                       | 404/1992 [00:09<00:45, 35.29it/s]"
     ]
    },
    {
     "name": "stdout",
     "output_type": "stream",
     "text": [
      "Optimization terminated successfully\n",
      "Optimization terminated successfully\n",
      "Optimization terminated successfully\n",
      "Optimization terminated successfully\n",
      "Optimization terminated successfully\n",
      "Optimization terminated successfully\n",
      "Optimization terminated successfully\n",
      "Optimization terminated successfully\n"
     ]
    },
    {
     "name": "stderr",
     "output_type": "stream",
     "text": [
      "my bars::  21%|██████████████▍                                                      | 417/1992 [00:10<00:42, 37.26it/s]"
     ]
    },
    {
     "name": "stdout",
     "output_type": "stream",
     "text": [
      "Optimization terminated successfully\n",
      "Optimization terminated successfully\n",
      "Optimization terminated successfully\n",
      "Optimization terminated successfully\n",
      "Optimization terminated successfully\n",
      "Optimization terminated successfully\n",
      "Optimization terminated successfully\n",
      "Optimization terminated successfully\n",
      "Optimization terminated successfully\n",
      "Optimization terminated successfully\n"
     ]
    },
    {
     "name": "stderr",
     "output_type": "stream",
     "text": [
      "my bars::  21%|██████████████▊                                                      | 426/1992 [00:10<00:40, 38.45it/s]"
     ]
    },
    {
     "name": "stdout",
     "output_type": "stream",
     "text": [
      "Optimization terminated successfully\n",
      "Optimization terminated successfully\n",
      "Optimization terminated successfully\n",
      "Optimization terminated successfully\n",
      "Optimization terminated successfully\n",
      "Optimization terminated successfully\n",
      "Optimization terminated successfully\n",
      "Optimization terminated successfully\n",
      "Optimization terminated successfully\n",
      "Optimization terminated successfully"
     ]
    },
    {
     "name": "stderr",
     "output_type": "stream",
     "text": [
      "my bars::  22%|███████████████                                                      | 436/1992 [00:10<00:37, 41.13it/s]"
     ]
    },
    {
     "name": "stdout",
     "output_type": "stream",
     "text": [
      "\n",
      "Optimization terminated successfully\n",
      "Optimization terminated successfully\n",
      "Optimization terminated successfully\n",
      "Optimization terminated successfully\n",
      "Optimization terminated successfully\n",
      "Optimization terminated successfully\n",
      "Optimization terminated successfully\n",
      "Optimization terminated successfully\n"
     ]
    },
    {
     "name": "stderr",
     "output_type": "stream",
     "text": [
      "my bars::  22%|███████████████▍                                                     | 447/1992 [00:10<00:35, 43.39it/s]"
     ]
    },
    {
     "name": "stdout",
     "output_type": "stream",
     "text": [
      "Optimization terminated successfully\n",
      "Optimization terminated successfully\n",
      "Optimization terminated successfully\n",
      "Optimization terminated successfully\n",
      "Optimization terminated successfully\n",
      "Optimization terminated successfully\n",
      "Optimization terminated successfully\n",
      "Optimization terminated successfully"
     ]
    },
    {
     "name": "stderr",
     "output_type": "stream",
     "text": [
      "my bars::  23%|███████████████▊                                                     | 457/1992 [00:11<00:36, 41.89it/s]"
     ]
    },
    {
     "name": "stdout",
     "output_type": "stream",
     "text": [
      "\n",
      "Optimization terminated successfully\n",
      "Optimization terminated successfully\n",
      "Optimization terminated successfully\n",
      "Optimization terminated successfully\n",
      "Optimization terminated successfully\n",
      "Optimization terminated successfully\n",
      "Optimization terminated successfully\n",
      "Optimization terminated successfully\n",
      "Optimization terminated successfully\n"
     ]
    },
    {
     "name": "stderr",
     "output_type": "stream",
     "text": [
      "my bars::  23%|████████████████▏                                                    | 467/1992 [00:11<00:38, 40.03it/s]"
     ]
    },
    {
     "name": "stdout",
     "output_type": "stream",
     "text": [
      "Optimization terminated successfully\n",
      "Optimization terminated successfully\n",
      "Optimization terminated successfully\n",
      "Optimization terminated successfully\n",
      "Optimization terminated successfully\n",
      "Optimization terminated successfully\n",
      "Optimization terminated successfully\n",
      "Optimization terminated successfully\n"
     ]
    },
    {
     "name": "stderr",
     "output_type": "stream",
     "text": [
      "my bars::  24%|████████████████▍                                                    | 476/1992 [00:11<00:39, 37.92it/s]"
     ]
    },
    {
     "name": "stdout",
     "output_type": "stream",
     "text": [
      "Optimization terminated successfully\n",
      "Optimization terminated successfully\n",
      "Optimization terminated successfully\n",
      "Optimization terminated successfully\n",
      "Optimization terminated successfully\n",
      "Optimization terminated successfully\n",
      "Optimization terminated successfully\n",
      "Optimization terminated successfully\n",
      "Optimization terminated successfully\n"
     ]
    },
    {
     "name": "stderr",
     "output_type": "stream",
     "text": [
      "my bars::  24%|████████████████▊                                                    | 486/1992 [00:11<00:36, 41.69it/s]"
     ]
    },
    {
     "name": "stdout",
     "output_type": "stream",
     "text": [
      "Optimization terminated successfully\n",
      "Optimization terminated successfully\n",
      "Optimization terminated successfully\n",
      "Optimization terminated successfully\n",
      "Optimization terminated successfully\n",
      "Optimization terminated successfully\n",
      "Optimization terminated successfully\n",
      "Optimization terminated successfully\n",
      "Optimization terminated successfully\n"
     ]
    },
    {
     "name": "stderr",
     "output_type": "stream",
     "text": [
      "my bars::  25%|█████████████████▏                                                   | 496/1992 [00:12<00:37, 39.58it/s]"
     ]
    },
    {
     "name": "stdout",
     "output_type": "stream",
     "text": [
      "Optimization terminated successfully\n",
      "Optimization terminated successfully\n",
      "Optimization terminated successfully\n",
      "Optimization terminated successfully\n",
      "Optimization terminated successfully\n",
      "Optimization terminated successfully\n",
      "Optimization terminated successfully\n",
      "Optimization terminated successfully\n",
      "Optimization terminated successfully\n",
      "Optimization terminated successfully\n"
     ]
    },
    {
     "name": "stderr",
     "output_type": "stream",
     "text": [
      "my bars::  25%|█████████████████▌                                                   | 506/1992 [00:12<00:36, 40.60it/s]"
     ]
    },
    {
     "name": "stdout",
     "output_type": "stream",
     "text": [
      "Optimization terminated successfully\n",
      "Optimization terminated successfully\n",
      "Optimization terminated successfully\n",
      "Optimization terminated successfully\n",
      "Optimization terminated successfully\n",
      "Optimization terminated successfully\n",
      "Optimization terminated successfully\n",
      "Optimization terminated successfully\n",
      "Optimization terminated successfully\n",
      "Optimization terminated successfully\n"
     ]
    },
    {
     "name": "stderr",
     "output_type": "stream",
     "text": [
      "my bars::  26%|█████████████████▊                                                   | 516/1992 [00:12<00:36, 40.10it/s]"
     ]
    },
    {
     "name": "stdout",
     "output_type": "stream",
     "text": [
      "Optimization terminated successfully\n",
      "Optimization terminated successfully\n",
      "Optimization terminated successfully\n",
      "Optimization terminated successfully\n",
      "Optimization terminated successfully\n",
      "Optimization terminated successfully\n",
      "Optimization terminated successfully\n",
      "Optimization terminated successfully\n",
      "Optimization terminated successfully"
     ]
    },
    {
     "name": "stderr",
     "output_type": "stream",
     "text": [
      "my bars::  26%|██████████████████▏                                                  | 526/1992 [00:12<00:36, 40.47it/s]"
     ]
    },
    {
     "name": "stdout",
     "output_type": "stream",
     "text": [
      "\n",
      "Optimization terminated successfully\n",
      "Optimization terminated successfully\n",
      "Optimization terminated successfully\n",
      "Optimization terminated successfully\n",
      "Optimization terminated successfully\n",
      "Optimization terminated successfully\n",
      "Optimization terminated successfully\n",
      "Optimization terminated successfully\n",
      "Optimization terminated successfully"
     ]
    },
    {
     "name": "stderr",
     "output_type": "stream",
     "text": [
      "my bars::  27%|██████████████████▌                                                  | 536/1992 [00:13<00:35, 41.26it/s]"
     ]
    },
    {
     "name": "stdout",
     "output_type": "stream",
     "text": [
      "\n",
      "Optimization terminated successfully\n",
      "Optimization terminated successfully\n",
      "Optimization terminated successfully\n",
      "Optimization terminated successfully\n",
      "Optimization terminated successfully\n",
      "Optimization terminated successfully\n",
      "Optimization terminated successfully\n"
     ]
    },
    {
     "name": "stderr",
     "output_type": "stream",
     "text": [
      "my bars::  27%|██████████████████▉                                                  | 546/1992 [00:13<00:33, 43.12it/s]"
     ]
    },
    {
     "name": "stdout",
     "output_type": "stream",
     "text": [
      "Optimization terminated successfully\n",
      "Optimization terminated successfully\n",
      "Optimization terminated successfully\n",
      "Optimization terminated successfully\n",
      "Optimization terminated successfully\n",
      "Optimization terminated successfully\n",
      "Optimization terminated successfully\n",
      "Optimization terminated successfully\n"
     ]
    },
    {
     "name": "stderr",
     "output_type": "stream",
     "text": [
      "my bars::  28%|███████████████████▎                                                 | 556/1992 [00:13<00:36, 39.61it/s]"
     ]
    },
    {
     "name": "stdout",
     "output_type": "stream",
     "text": [
      "Optimization terminated successfully\n",
      "Optimization terminated successfully\n",
      "Optimization terminated successfully\n",
      "Optimization terminated successfully\n",
      "Optimization terminated successfully\n",
      "Optimization terminated successfully\n",
      "Optimization terminated successfully\n",
      "Optimization terminated successfully\n",
      "Optimization terminated successfully\n",
      "Optimization terminated successfully"
     ]
    },
    {
     "name": "stderr",
     "output_type": "stream",
     "text": [
      "my bars::  28%|███████████████████▌                                                 | 565/1992 [00:13<00:37, 38.50it/s]"
     ]
    },
    {
     "name": "stdout",
     "output_type": "stream",
     "text": [
      "\n",
      "Optimization terminated successfully\n",
      "Optimization terminated successfully\n",
      "Optimization terminated successfully\n",
      "Optimization terminated successfully\n",
      "Optimization terminated successfully\n",
      "Optimization terminated successfully\n",
      "Optimization terminated successfully\n",
      "Optimization terminated successfully\n"
     ]
    },
    {
     "name": "stderr",
     "output_type": "stream",
     "text": [
      "my bars::  29%|███████████████████▊                                                 | 573/1992 [00:14<00:37, 38.19it/s]"
     ]
    },
    {
     "name": "stdout",
     "output_type": "stream",
     "text": [
      "Optimization terminated successfully\n",
      "Optimization terminated successfully\n",
      "Optimization terminated successfully\n",
      "Optimization terminated successfully\n",
      "Optimization terminated successfully\n",
      "Optimization terminated successfully\n",
      "Optimization terminated successfully\n",
      "Optimization terminated successfully\n",
      "Optimization terminated successfully\n",
      "Optimization terminated successfully"
     ]
    },
    {
     "name": "stderr",
     "output_type": "stream",
     "text": [
      "my bars::  29%|████████████████████▏                                                | 581/1992 [00:14<00:37, 37.86it/s]"
     ]
    },
    {
     "name": "stdout",
     "output_type": "stream",
     "text": [
      "\n",
      "Optimization terminated successfully\n",
      "Optimization terminated successfully\n",
      "Optimization terminated successfully\n",
      "Optimization terminated successfully\n",
      "Optimization terminated successfully\n",
      "Optimization terminated successfully\n",
      "Optimization terminated successfully\n"
     ]
    },
    {
     "name": "stderr",
     "output_type": "stream",
     "text": [
      "my bars::  30%|████████████████████▍                                                | 590/1992 [00:14<00:35, 39.33it/s]"
     ]
    },
    {
     "name": "stdout",
     "output_type": "stream",
     "text": [
      "Optimization terminated successfully\n",
      "Optimization terminated successfully\n",
      "Optimization terminated successfully\n",
      "Optimization terminated successfully\n",
      "Optimization terminated successfully\n",
      "Optimization terminated successfully\n",
      "Optimization terminated successfully\n",
      "Optimization terminated successfully\n",
      "Optimization terminated successfully\n"
     ]
    },
    {
     "name": "stderr",
     "output_type": "stream",
     "text": [
      "my bars::  30%|████████████████████▋                                                | 599/1992 [00:14<00:35, 39.78it/s]"
     ]
    },
    {
     "name": "stdout",
     "output_type": "stream",
     "text": [
      "Optimization terminated successfully\n",
      "Optimization terminated successfully\n",
      "Optimization terminated successfully\n",
      "Optimization terminated successfully\n",
      "Optimization terminated successfully\n",
      "Optimization terminated successfully\n",
      "Optimization terminated successfully\n",
      "Optimization terminated successfully\n",
      "Optimization terminated successfully\n",
      "Optimization terminated successfully"
     ]
    },
    {
     "name": "stderr",
     "output_type": "stream",
     "text": [
      "my bars::  31%|█████████████████████                                                | 609/1992 [00:14<00:34, 39.82it/s]"
     ]
    },
    {
     "name": "stdout",
     "output_type": "stream",
     "text": [
      "\n",
      "Optimization terminated successfully\n",
      "Optimization terminated successfully\n",
      "Optimization terminated successfully\n",
      "Optimization terminated successfully\n",
      "Optimization terminated successfully\n",
      "Optimization terminated successfully\n",
      "Optimization terminated successfully\n",
      "Optimization terminated successfully\n"
     ]
    },
    {
     "name": "stderr",
     "output_type": "stream",
     "text": [
      "my bars::  31%|█████████████████████▎                                               | 617/1992 [00:15<00:36, 37.44it/s]"
     ]
    },
    {
     "name": "stdout",
     "output_type": "stream",
     "text": [
      "Optimization terminated successfully\n",
      "Optimization terminated successfully\n",
      "Optimization terminated successfully\n",
      "Optimization terminated successfully\n",
      "Optimization terminated successfully\n",
      "Optimization terminated successfully\n",
      "Optimization terminated successfully\n",
      "Optimization terminated successfully\n"
     ]
    },
    {
     "name": "stderr",
     "output_type": "stream",
     "text": [
      "my bars::  31%|█████████████████████▋                                               | 627/1992 [00:15<00:33, 40.47it/s]"
     ]
    },
    {
     "name": "stdout",
     "output_type": "stream",
     "text": [
      "Optimization terminated successfully\n",
      "Optimization terminated successfully\n",
      "Optimization terminated successfully\n",
      "Optimization terminated successfully\n",
      "Optimization terminated successfully\n",
      "Optimization terminated successfully\n",
      "Optimization terminated successfully\n",
      "Optimization terminated successfully\n",
      "Optimization terminated successfully\n",
      "Optimization terminated successfully\n"
     ]
    },
    {
     "name": "stderr",
     "output_type": "stream",
     "text": [
      "my bars::  32%|██████████████████████                                               | 637/1992 [00:15<00:31, 43.37it/s]"
     ]
    },
    {
     "name": "stdout",
     "output_type": "stream",
     "text": [
      "Optimization terminated successfully\n",
      "Optimization terminated successfully\n",
      "Optimization terminated successfully\n",
      "Optimization terminated successfully\n",
      "Optimization terminated successfully\n",
      "Optimization terminated successfully\n",
      "Optimization terminated successfully\n",
      "Optimization terminated successfully\n",
      "Optimization terminated successfully\n",
      "Optimization terminated successfully\n",
      "Optimization terminated successfully\n"
     ]
    },
    {
     "name": "stderr",
     "output_type": "stream",
     "text": [
      "my bars::  32%|██████████████████████▍                                              | 647/1992 [00:15<00:32, 41.61it/s]"
     ]
    },
    {
     "name": "stdout",
     "output_type": "stream",
     "text": [
      "Optimization terminated successfully\n",
      "Optimization terminated successfully\n",
      "Optimization terminated successfully\n",
      "Optimization terminated successfully\n",
      "Optimization terminated successfully\n",
      "Optimization terminated successfully\n",
      "Optimization terminated successfully\n",
      "Optimization terminated successfully\n",
      "Optimization terminated successfully\n"
     ]
    },
    {
     "name": "stderr",
     "output_type": "stream",
     "text": [
      "my bars::  33%|██████████████████████▊                                              | 657/1992 [00:16<00:33, 39.59it/s]"
     ]
    },
    {
     "name": "stdout",
     "output_type": "stream",
     "text": [
      "Optimization terminated successfully\n",
      "Optimization terminated successfully\n",
      "Optimization terminated successfully\n",
      "Optimization terminated successfully\n",
      "Optimization terminated successfully\n",
      "Optimization terminated successfully\n",
      "Optimization terminated successfully\n",
      "Optimization terminated successfully\n",
      "Optimization terminated successfully\n"
     ]
    },
    {
     "name": "stderr",
     "output_type": "stream",
     "text": [
      "\r",
      "my bars::  33%|██████████████████████▉                                              | 662/1992 [00:16<00:33, 40.13it/s]"
     ]
    },
    {
     "name": "stdout",
     "output_type": "stream",
     "text": [
      "Optimization terminated successfully\n",
      "Optimization terminated successfully\n",
      "Optimization terminated successfully\n",
      "Optimization terminated successfully\n",
      "Optimization terminated successfully\n",
      "Optimization terminated successfully\n",
      "Optimization terminated successfully\n",
      "Optimization terminated successfully\n"
     ]
    },
    {
     "name": "stderr",
     "output_type": "stream",
     "text": [
      "my bars::  34%|███████████████████████▎                                             | 672/1992 [00:16<00:31, 41.64it/s]"
     ]
    },
    {
     "name": "stdout",
     "output_type": "stream",
     "text": [
      "Optimization terminated successfully\n",
      "Optimization terminated successfully\n",
      "Optimization terminated successfully\n",
      "Optimization terminated successfully\n",
      "Optimization terminated successfully\n",
      "Optimization terminated successfully\n",
      "Optimization terminated successfully\n"
     ]
    },
    {
     "name": "stderr",
     "output_type": "stream",
     "text": [
      "my bars::  34%|███████████████████████▌                                             | 682/1992 [00:16<00:31, 41.50it/s]"
     ]
    },
    {
     "name": "stdout",
     "output_type": "stream",
     "text": [
      "Optimization terminated successfully\n",
      "Optimization terminated successfully\n",
      "Optimization terminated successfully\n",
      "Optimization terminated successfully\n",
      "Optimization terminated successfully\n",
      "Optimization terminated successfully\n",
      "Optimization terminated successfully\n",
      "Optimization terminated successfully"
     ]
    },
    {
     "name": "stderr",
     "output_type": "stream",
     "text": [
      "my bars::  35%|███████████████████████▉                                             | 692/1992 [00:16<00:32, 39.62it/s]"
     ]
    },
    {
     "name": "stdout",
     "output_type": "stream",
     "text": [
      "\n",
      "Optimization terminated successfully\n",
      "Optimization terminated successfully\n",
      "Optimization terminated successfully\n",
      "Optimization terminated successfully\n",
      "Optimization terminated successfully\n",
      "Optimization terminated successfully\n",
      "Optimization terminated successfully\n"
     ]
    },
    {
     "name": "stderr",
     "output_type": "stream",
     "text": [
      "my bars::  35%|████████████████████████▏                                            | 700/1992 [00:17<00:33, 38.11it/s]"
     ]
    },
    {
     "name": "stdout",
     "output_type": "stream",
     "text": [
      "Optimization terminated successfully\n",
      "Optimization terminated successfully\n",
      "Optimization terminated successfully\n",
      "Optimization terminated successfully\n",
      "Optimization terminated successfully\n",
      "Optimization terminated successfully\n",
      "Optimization terminated successfully\n"
     ]
    },
    {
     "name": "stderr",
     "output_type": "stream",
     "text": [
      "my bars::  36%|████████████████████████▌                                            | 709/1992 [00:17<00:33, 38.48it/s]"
     ]
    },
    {
     "name": "stdout",
     "output_type": "stream",
     "text": [
      "Optimization terminated successfully\n",
      "Optimization terminated successfully\n",
      "Optimization terminated successfully\n",
      "Optimization terminated successfully\n",
      "Optimization terminated successfully\n",
      "Optimization terminated successfully\n",
      "Optimization terminated successfully\n",
      "Optimization terminated successfully\n"
     ]
    },
    {
     "name": "stderr",
     "output_type": "stream",
     "text": [
      "my bars::  36%|█████████████████████████                                            | 722/1992 [00:17<00:34, 37.00it/s]"
     ]
    },
    {
     "name": "stdout",
     "output_type": "stream",
     "text": [
      "Optimization terminated successfully\n",
      "Optimization terminated successfully\n",
      "Optimization terminated successfully\n",
      "Optimization terminated successfully\n",
      "Optimization terminated successfully\n",
      "Optimization terminated successfully\n",
      "Optimization terminated successfully\n",
      "Optimization terminated successfully\n",
      "Optimization terminated successfully\n",
      "Optimization terminated successfully\n",
      "Optimization terminated successfully\n",
      "Optimization terminated successfully\n"
     ]
    },
    {
     "name": "stderr",
     "output_type": "stream",
     "text": [
      "my bars::  37%|█████████████████████████▎                                           | 730/1992 [00:18<00:36, 34.60it/s]"
     ]
    },
    {
     "name": "stdout",
     "output_type": "stream",
     "text": [
      "Optimization terminated successfully\n",
      "Optimization terminated successfully\n",
      "Optimization terminated successfully\n",
      "Optimization terminated successfully\n",
      "Optimization terminated successfully\n",
      "Optimization terminated successfully\n",
      "Optimization terminated successfully\n",
      "Optimization terminated successfully\n",
      "Optimization terminated successfully\n"
     ]
    },
    {
     "name": "stderr",
     "output_type": "stream",
     "text": [
      "my bars::  37%|█████████████████████████▌                                           | 738/1992 [00:18<00:40, 30.92it/s]"
     ]
    },
    {
     "name": "stdout",
     "output_type": "stream",
     "text": [
      "Optimization terminated successfully\n",
      "Optimization terminated successfully\n",
      "Optimization terminated successfully\n",
      "Optimization terminated successfully\n",
      "Optimization terminated successfully\n",
      "Optimization terminated successfully\n",
      "Optimization terminated successfully\n"
     ]
    },
    {
     "name": "stderr",
     "output_type": "stream",
     "text": [
      "my bars::  37%|█████████████████████████▊                                           | 746/1992 [00:18<00:40, 30.81it/s]"
     ]
    },
    {
     "name": "stdout",
     "output_type": "stream",
     "text": [
      "Optimization terminated successfully\n",
      "Optimization terminated successfully\n",
      "Optimization terminated successfully\n",
      "Optimization terminated successfully\n",
      "Optimization terminated successfully\n",
      "Optimization terminated successfully\n",
      "Optimization terminated successfully\n",
      "Optimization terminated successfully\n",
      "Optimization terminated successfully\n"
     ]
    },
    {
     "name": "stderr",
     "output_type": "stream",
     "text": [
      "my bars::  38%|██████████████████████████                                           | 754/1992 [00:18<00:39, 31.36it/s]"
     ]
    },
    {
     "name": "stdout",
     "output_type": "stream",
     "text": [
      "Optimization terminated successfully\n",
      "Optimization terminated successfully\n",
      "Optimization terminated successfully\n",
      "Optimization terminated successfully\n",
      "Optimization terminated successfully\n",
      "Optimization terminated successfully\n",
      "Optimization terminated successfully\n",
      "Optimization terminated successfully\n"
     ]
    },
    {
     "name": "stderr",
     "output_type": "stream",
     "text": [
      "my bars::  38%|██████████████████████████▎                                          | 761/1992 [00:19<00:42, 28.67it/s]"
     ]
    },
    {
     "name": "stdout",
     "output_type": "stream",
     "text": [
      "Optimization terminated successfully\n",
      "Optimization terminated successfully\n",
      "Optimization terminated successfully\n",
      "Optimization terminated successfully\n",
      "Optimization terminated successfully\n",
      "Optimization terminated successfully\n"
     ]
    },
    {
     "name": "stderr",
     "output_type": "stream",
     "text": [
      "my bars::  39%|██████████████████████████▋                                          | 770/1992 [00:19<00:35, 34.65it/s]"
     ]
    },
    {
     "name": "stdout",
     "output_type": "stream",
     "text": [
      "Optimization terminated successfully\n",
      "Optimization terminated successfully\n",
      "Optimization terminated successfully\n",
      "Optimization terminated successfully\n",
      "Optimization terminated successfully\n",
      "Optimization terminated successfully\n",
      "Optimization terminated successfully\n",
      "Optimization terminated successfully\n",
      "Optimization terminated successfully\n",
      "Optimization terminated successfully"
     ]
    },
    {
     "name": "stderr",
     "output_type": "stream",
     "text": [
      "my bars::  39%|███████████████████████████                                          | 780/1992 [00:19<00:31, 38.78it/s]"
     ]
    },
    {
     "name": "stdout",
     "output_type": "stream",
     "text": [
      "\n",
      "Optimization terminated successfully\n",
      "Optimization terminated successfully\n",
      "Optimization terminated successfully\n",
      "Optimization terminated successfully\n",
      "Optimization terminated successfully\n",
      "Optimization terminated successfully\n"
     ]
    },
    {
     "name": "stderr",
     "output_type": "stream",
     "text": [
      "my bars::  40%|███████████████████████████▎                                         | 788/1992 [00:19<00:33, 35.69it/s]"
     ]
    },
    {
     "name": "stdout",
     "output_type": "stream",
     "text": [
      "Optimization terminated successfully\n",
      "Optimization terminated successfully\n",
      "Optimization terminated successfully\n",
      "Optimization terminated successfully\n",
      "Optimization terminated successfully\n",
      "Optimization terminated successfully\n"
     ]
    },
    {
     "name": "stderr",
     "output_type": "stream",
     "text": [
      "\r",
      "my bars::  40%|███████████████████████████▍                                         | 792/1992 [00:19<00:34, 34.66it/s]"
     ]
    },
    {
     "name": "stdout",
     "output_type": "stream",
     "text": [
      "Optimization terminated successfully\n",
      "Optimization terminated successfully\n",
      "Optimization terminated successfully\n",
      "Optimization terminated successfully\n",
      "Optimization terminated successfully\n",
      "Optimization terminated successfully\n",
      "Optimization terminated successfully\n"
     ]
    },
    {
     "name": "stderr",
     "output_type": "stream",
     "text": [
      "my bars::  40%|███████████████████████████▋                                         | 800/1992 [00:20<00:35, 34.03it/s]"
     ]
    },
    {
     "name": "stdout",
     "output_type": "stream",
     "text": [
      "Optimization terminated successfully\n",
      "Optimization terminated successfully\n",
      "Optimization terminated successfully\n",
      "Optimization terminated successfully\n",
      "Optimization terminated successfully\n"
     ]
    },
    {
     "name": "stderr",
     "output_type": "stream",
     "text": [
      "my bars::  41%|███████████████████████████▉                                         | 808/1992 [00:20<00:35, 33.34it/s]"
     ]
    },
    {
     "name": "stdout",
     "output_type": "stream",
     "text": [
      "Optimization terminated successfully\n",
      "Optimization terminated successfully\n",
      "Optimization terminated successfully\n",
      "Optimization terminated successfully\n",
      "Optimization terminated successfully\n",
      "Optimization terminated successfully\n",
      "Optimization terminated successfully\n",
      "Optimization terminated successfully\n",
      "Optimization terminated successfully\n"
     ]
    },
    {
     "name": "stderr",
     "output_type": "stream",
     "text": [
      "my bars::  41%|████████████████████████████▎                                        | 816/1992 [00:20<00:34, 34.26it/s]"
     ]
    },
    {
     "name": "stdout",
     "output_type": "stream",
     "text": [
      "Optimization terminated successfully\n",
      "Optimization terminated successfully\n",
      "Optimization terminated successfully\n",
      "Optimization terminated successfully\n",
      "Optimization terminated successfully\n",
      "Optimization terminated successfully\n",
      "Optimization terminated successfully\n"
     ]
    },
    {
     "name": "stderr",
     "output_type": "stream",
     "text": [
      "my bars::  41%|████████████████████████████▌                                        | 824/1992 [00:20<00:38, 30.65it/s]"
     ]
    },
    {
     "name": "stdout",
     "output_type": "stream",
     "text": [
      "Optimization terminated successfully\n",
      "Optimization terminated successfully\n",
      "Optimization terminated successfully\n",
      "Optimization terminated successfully\n",
      "Optimization terminated successfully\n",
      "Optimization terminated successfully\n",
      "Optimization terminated successfully\n"
     ]
    },
    {
     "name": "stderr",
     "output_type": "stream",
     "text": [
      "my bars::  42%|████████████████████████████▊                                        | 832/1992 [00:21<00:34, 33.21it/s]"
     ]
    },
    {
     "name": "stdout",
     "output_type": "stream",
     "text": [
      "Optimization terminated successfully\n",
      "Optimization terminated successfully\n",
      "Optimization terminated successfully\n",
      "Optimization terminated successfully\n",
      "Optimization terminated successfully\n",
      "Optimization terminated successfully\n",
      "Optimization terminated successfully\n"
     ]
    },
    {
     "name": "stderr",
     "output_type": "stream",
     "text": [
      "my bars::  42%|█████████████████████████████▏                                       | 841/1992 [00:21<00:32, 35.79it/s]"
     ]
    },
    {
     "name": "stdout",
     "output_type": "stream",
     "text": [
      "Optimization terminated successfully\n",
      "Optimization terminated successfully\n",
      "Optimization terminated successfully\n",
      "Optimization terminated successfully\n",
      "Optimization terminated successfully\n",
      "Optimization terminated successfully\n",
      "Optimization terminated successfully\n",
      "Optimization terminated successfully\n",
      "Optimization terminated successfully\n"
     ]
    },
    {
     "name": "stderr",
     "output_type": "stream",
     "text": [
      "my bars::  43%|█████████████████████████████▍                                       | 850/1992 [00:21<00:30, 37.26it/s]"
     ]
    },
    {
     "name": "stdout",
     "output_type": "stream",
     "text": [
      "Optimization terminated successfully\n",
      "Optimization terminated successfully\n",
      "Optimization terminated successfully\n",
      "Optimization terminated successfully\n",
      "Optimization terminated successfully\n",
      "Optimization terminated successfully\n",
      "Optimization terminated successfully\n",
      "Optimization terminated successfully\n"
     ]
    },
    {
     "name": "stderr",
     "output_type": "stream",
     "text": [
      "my bars::  43%|█████████████████████████████▋                                       | 858/1992 [00:21<00:33, 33.66it/s]"
     ]
    },
    {
     "name": "stdout",
     "output_type": "stream",
     "text": [
      "Optimization terminated successfully\n",
      "Optimization terminated successfully\n",
      "Optimization terminated successfully\n",
      "Optimization terminated successfully\n",
      "Optimization terminated successfully\n",
      "Optimization terminated successfully\n"
     ]
    },
    {
     "name": "stderr",
     "output_type": "stream",
     "text": [
      "\r",
      "my bars::  43%|█████████████████████████████▊                                       | 862/1992 [00:22<00:35, 31.96it/s]"
     ]
    },
    {
     "name": "stdout",
     "output_type": "stream",
     "text": [
      "Optimization terminated successfully\n",
      "Optimization terminated successfully\n",
      "Optimization terminated successfully\n",
      "Optimization terminated successfully\n",
      "Optimization terminated successfully\n",
      "Optimization terminated successfully\n"
     ]
    },
    {
     "name": "stderr",
     "output_type": "stream",
     "text": [
      "my bars::  44%|██████████████████████████████▏                                      | 871/1992 [00:22<00:33, 33.90it/s]"
     ]
    },
    {
     "name": "stdout",
     "output_type": "stream",
     "text": [
      "Optimization terminated successfully\n",
      "Optimization terminated successfully\n",
      "Optimization terminated successfully\n",
      "Optimization terminated successfully\n",
      "Optimization terminated successfully\n",
      "Optimization terminated successfully\n",
      "Optimization terminated successfully\n",
      "Optimization terminated successfully"
     ]
    },
    {
     "name": "stderr",
     "output_type": "stream",
     "text": [
      "my bars::  44%|██████████████████████████████▍                                      | 879/1992 [00:22<00:35, 31.49it/s]"
     ]
    },
    {
     "name": "stdout",
     "output_type": "stream",
     "text": [
      "\n",
      "Optimization terminated successfully\n",
      "Optimization terminated successfully\n",
      "Optimization terminated successfully\n",
      "Optimization terminated successfully\n",
      "Optimization terminated successfully\n",
      "Optimization terminated successfully\n"
     ]
    },
    {
     "name": "stderr",
     "output_type": "stream",
     "text": [
      "my bars::  45%|██████████████████████████████▋                                      | 887/1992 [00:22<00:35, 30.85it/s]"
     ]
    },
    {
     "name": "stdout",
     "output_type": "stream",
     "text": [
      "Optimization terminated successfully\n",
      "Optimization terminated successfully\n",
      "Optimization terminated successfully\n",
      "Optimization terminated successfully\n",
      "Optimization terminated successfully\n",
      "Optimization terminated successfully\n",
      "Optimization terminated successfully\n",
      "Optimization terminated successfully\n"
     ]
    },
    {
     "name": "stderr",
     "output_type": "stream",
     "text": [
      "my bars::  45%|███████████████████████████████                                      | 895/1992 [00:23<00:36, 30.40it/s]"
     ]
    },
    {
     "name": "stdout",
     "output_type": "stream",
     "text": [
      "Optimization terminated successfully\n",
      "Optimization terminated successfully\n",
      "Optimization terminated successfully\n",
      "Optimization terminated successfully\n",
      "Optimization terminated successfully\n",
      "Optimization terminated successfully\n",
      "Optimization terminated successfully\n"
     ]
    },
    {
     "name": "stderr",
     "output_type": "stream",
     "text": [
      "\r",
      "my bars::  45%|███████████████████████████████▏                                     | 899/1992 [00:23<00:36, 30.09it/s]"
     ]
    },
    {
     "name": "stdout",
     "output_type": "stream",
     "text": [
      "Optimization terminated successfully\n",
      "Optimization terminated successfully\n",
      "Optimization terminated successfully\n",
      "Optimization terminated successfully\n",
      "Optimization terminated successfully\n",
      "Optimization terminated successfully\n",
      "Optimization terminated successfully\n",
      "Optimization terminated successfully\n"
     ]
    },
    {
     "name": "stderr",
     "output_type": "stream",
     "text": [
      "my bars::  46%|███████████████████████████████▌                                     | 911/1992 [00:23<00:32, 32.80it/s]"
     ]
    },
    {
     "name": "stdout",
     "output_type": "stream",
     "text": [
      "Optimization terminated successfully\n",
      "Optimization terminated successfully\n",
      "Optimization terminated successfully\n",
      "Optimization terminated successfully\n",
      "Optimization terminated successfully\n",
      "Optimization terminated successfully\n",
      "Optimization terminated successfully\n",
      "Optimization terminated successfully\n"
     ]
    },
    {
     "name": "stderr",
     "output_type": "stream",
     "text": [
      "my bars::  46%|███████████████████████████████▉                                     | 923/1992 [00:23<00:31, 33.60it/s]"
     ]
    },
    {
     "name": "stdout",
     "output_type": "stream",
     "text": [
      "Optimization terminated successfully\n",
      "Optimization terminated successfully\n",
      "Optimization terminated successfully\n",
      "Optimization terminated successfully\n",
      "Optimization terminated successfully\n",
      "Optimization terminated successfully\n",
      "Optimization terminated successfully\n",
      "Optimization terminated successfully\n",
      "Optimization terminated successfully\n",
      "Optimization terminated successfully\n",
      "Optimization terminated successfully\n"
     ]
    },
    {
     "name": "stderr",
     "output_type": "stream",
     "text": [
      "my bars::  47%|████████████████████████████████▏                                    | 931/1992 [00:24<00:31, 33.35it/s]"
     ]
    },
    {
     "name": "stdout",
     "output_type": "stream",
     "text": [
      "Optimization terminated successfully\n",
      "Optimization terminated successfully\n",
      "Optimization terminated successfully\n",
      "Optimization terminated successfully\n",
      "Optimization terminated successfully\n",
      "Optimization terminated successfully\n",
      "Optimization terminated successfully\n",
      "Optimization terminated successfully\n"
     ]
    },
    {
     "name": "stderr",
     "output_type": "stream",
     "text": [
      "\r",
      "my bars::  47%|████████████████████████████████▍                                    | 935/1992 [00:24<00:34, 30.83it/s]"
     ]
    },
    {
     "name": "stdout",
     "output_type": "stream",
     "text": [
      "Optimization terminated successfully\n",
      "Optimization terminated successfully\n",
      "Optimization terminated successfully\n",
      "Optimization terminated successfully\n",
      "Optimization terminated successfully\n",
      "Optimization terminated successfully\n"
     ]
    },
    {
     "name": "stderr",
     "output_type": "stream",
     "text": [
      "my bars::  47%|████████████████████████████████▋                                    | 943/1992 [00:24<00:34, 30.74it/s]"
     ]
    },
    {
     "name": "stdout",
     "output_type": "stream",
     "text": [
      "Optimization terminated successfully\n",
      "Optimization terminated successfully\n",
      "Optimization terminated successfully\n",
      "Optimization terminated successfully\n",
      "Optimization terminated successfully\n",
      "Optimization terminated successfully\n",
      "Optimization terminated successfully\n",
      "Optimization terminated successfully\n",
      "Optimization terminated successfully\n"
     ]
    },
    {
     "name": "stderr",
     "output_type": "stream",
     "text": [
      "my bars::  48%|█████████████████████████████████                                    | 956/1992 [00:24<00:28, 35.99it/s]"
     ]
    },
    {
     "name": "stdout",
     "output_type": "stream",
     "text": [
      "Optimization terminated successfully\n",
      "Optimization terminated successfully\n",
      "Optimization terminated successfully\n",
      "Optimization terminated successfully\n",
      "Optimization terminated successfully\n",
      "Optimization terminated successfully\n",
      "Optimization terminated successfully\n"
     ]
    },
    {
     "name": "stderr",
     "output_type": "stream",
     "text": [
      "my bars::  48%|█████████████████████████████████▍                                   | 965/1992 [00:25<00:27, 37.72it/s]"
     ]
    },
    {
     "name": "stdout",
     "output_type": "stream",
     "text": [
      "Optimization terminated successfully\n",
      "Optimization terminated successfully\n",
      "Optimization terminated successfully\n",
      "Optimization terminated successfully\n",
      "Optimization terminated successfully\n",
      "Optimization terminated successfully\n",
      "Optimization terminated successfully\n",
      "Optimization terminated successfully\n",
      "Optimization terminated successfully\n",
      "Optimization terminated successfully\n",
      "Optimization terminated successfully\n"
     ]
    },
    {
     "name": "stderr",
     "output_type": "stream",
     "text": [
      "my bars::  49%|█████████████████████████████████▋                                   | 974/1992 [00:25<00:27, 36.75it/s]"
     ]
    },
    {
     "name": "stdout",
     "output_type": "stream",
     "text": [
      "Optimization terminated successfully\n",
      "Optimization terminated successfully\n",
      "Optimization terminated successfully\n",
      "Optimization terminated successfully\n",
      "Optimization terminated successfully\n",
      "Optimization terminated successfully\n",
      "Optimization terminated successfully\n",
      "Optimization terminated successfully\n"
     ]
    },
    {
     "name": "stderr",
     "output_type": "stream",
     "text": [
      "my bars::  49%|██████████████████████████████████                                   | 983/1992 [00:25<00:27, 36.66it/s]"
     ]
    },
    {
     "name": "stdout",
     "output_type": "stream",
     "text": [
      "Optimization terminated successfully\n",
      "Optimization terminated successfully\n",
      "Optimization terminated successfully\n",
      "Optimization terminated successfully\n",
      "Optimization terminated successfully\n",
      "Optimization terminated successfully\n",
      "Optimization terminated successfully\n",
      "Optimization terminated successfully\n",
      "Optimization terminated successfully\n"
     ]
    },
    {
     "name": "stderr",
     "output_type": "stream",
     "text": [
      "my bars::  50%|██████████████████████████████████▎                                  | 992/1992 [00:25<00:25, 39.11it/s]"
     ]
    },
    {
     "name": "stdout",
     "output_type": "stream",
     "text": [
      "Optimization terminated successfully\n",
      "Optimization terminated successfully\n",
      "Optimization terminated successfully\n",
      "Optimization terminated successfully\n",
      "Optimization terminated successfully\n",
      "Optimization terminated successfully\n",
      "Optimization terminated successfully\n",
      "Optimization terminated successfully\n",
      "Optimization terminated successfully\n"
     ]
    },
    {
     "name": "stderr",
     "output_type": "stream",
     "text": [
      "my bars::  50%|██████████████████████████████████▏                                 | 1002/1992 [00:26<00:24, 41.09it/s]"
     ]
    },
    {
     "name": "stdout",
     "output_type": "stream",
     "text": [
      "Optimization terminated successfully\n",
      "Optimization terminated successfully\n",
      "Optimization terminated successfully\n",
      "Optimization terminated successfully\n",
      "Optimization terminated successfully\n",
      "Optimization terminated successfully\n",
      "Optimization terminated successfully\n",
      "Optimization terminated successfully\n",
      "Optimization terminated successfully\n"
     ]
    },
    {
     "name": "stderr",
     "output_type": "stream",
     "text": [
      "my bars::  51%|██████████████████████████████████▌                                 | 1012/1992 [00:26<00:26, 36.43it/s]"
     ]
    },
    {
     "name": "stdout",
     "output_type": "stream",
     "text": [
      "Optimization terminated successfully\n",
      "Optimization terminated successfully\n",
      "Optimization terminated successfully\n",
      "Optimization terminated successfully\n",
      "Optimization terminated successfully\n",
      "Optimization terminated successfully\n",
      "Optimization terminated successfully\n",
      "Optimization terminated successfully\n",
      "Optimization terminated successfully\n"
     ]
    },
    {
     "name": "stderr",
     "output_type": "stream",
     "text": [
      "my bars::  51%|██████████████████████████████████▊                                 | 1021/1992 [00:26<00:26, 37.11it/s]"
     ]
    },
    {
     "name": "stdout",
     "output_type": "stream",
     "text": [
      "Optimization terminated successfully\n",
      "Optimization terminated successfully\n",
      "Optimization terminated successfully\n",
      "Optimization terminated successfully\n",
      "Optimization terminated successfully\n",
      "Optimization terminated successfully\n",
      "Optimization terminated successfully\n",
      "Optimization terminated successfully\n"
     ]
    },
    {
     "name": "stderr",
     "output_type": "stream",
     "text": [
      "my bars::  52%|███████████████████████████████████▏                                | 1029/1992 [00:26<00:26, 36.84it/s]"
     ]
    },
    {
     "name": "stdout",
     "output_type": "stream",
     "text": [
      "Optimization terminated successfully\n",
      "Optimization terminated successfully\n",
      "Optimization terminated successfully\n",
      "Optimization terminated successfully\n",
      "Optimization terminated successfully\n",
      "Optimization terminated successfully\n",
      "Optimization terminated successfully\n",
      "Optimization terminated successfully\n",
      "Optimization terminated successfully\n"
     ]
    },
    {
     "name": "stderr",
     "output_type": "stream",
     "text": [
      "my bars::  52%|███████████████████████████████████▍                                | 1037/1992 [00:27<00:25, 36.96it/s]"
     ]
    },
    {
     "name": "stdout",
     "output_type": "stream",
     "text": [
      "Optimization terminated successfully\n",
      "Optimization terminated successfully\n",
      "Optimization terminated successfully\n",
      "Optimization terminated successfully\n",
      "Optimization terminated successfully\n",
      "Optimization terminated successfully\n",
      "Optimization terminated successfully\n",
      "Optimization terminated successfully\n",
      "Optimization terminated successfully\n"
     ]
    },
    {
     "name": "stderr",
     "output_type": "stream",
     "text": [
      "my bars::  52%|███████████████████████████████████▋                                | 1045/1992 [00:27<00:29, 32.03it/s]"
     ]
    },
    {
     "name": "stdout",
     "output_type": "stream",
     "text": [
      "Optimization terminated successfully\n",
      "Optimization terminated successfully\n",
      "Optimization terminated successfully\n",
      "Optimization terminated successfully\n",
      "Optimization terminated successfully\n",
      "Optimization terminated successfully\n"
     ]
    },
    {
     "name": "stderr",
     "output_type": "stream",
     "text": [
      "my bars::  53%|███████████████████████████████████▉                                | 1053/1992 [00:27<00:27, 34.63it/s]"
     ]
    },
    {
     "name": "stdout",
     "output_type": "stream",
     "text": [
      "Optimization terminated successfully\n",
      "Optimization terminated successfully\n",
      "Optimization terminated successfully\n",
      "Optimization terminated successfully\n",
      "Optimization terminated successfully\n",
      "Optimization terminated successfully\n",
      "Optimization terminated successfully\n",
      "Optimization terminated successfully\n"
     ]
    },
    {
     "name": "stderr",
     "output_type": "stream",
     "text": [
      "my bars::  53%|████████████████████████████████████▎                               | 1062/1992 [00:27<00:25, 36.17it/s]"
     ]
    },
    {
     "name": "stdout",
     "output_type": "stream",
     "text": [
      "Optimization terminated successfully\n",
      "Optimization terminated successfully\n",
      "Optimization terminated successfully\n",
      "Optimization terminated successfully\n",
      "Optimization terminated successfully\n",
      "Optimization terminated successfully\n",
      "Optimization terminated successfully\n",
      "Optimization terminated successfully\n",
      "Optimization terminated successfully\n",
      "Optimization terminated successfully\n"
     ]
    },
    {
     "name": "stderr",
     "output_type": "stream",
     "text": [
      "my bars::  54%|████████████████████████████████████▌                               | 1070/1992 [00:28<00:25, 36.06it/s]"
     ]
    },
    {
     "name": "stdout",
     "output_type": "stream",
     "text": [
      "Optimization terminated successfully\n",
      "Optimization terminated successfully\n",
      "Optimization terminated successfully\n",
      "Optimization terminated successfully\n",
      "Optimization terminated successfully\n",
      "Optimization terminated successfully\n",
      "Optimization terminated successfully\n",
      "Optimization terminated successfully"
     ]
    },
    {
     "name": "stderr",
     "output_type": "stream",
     "text": [
      "my bars::  54%|████████████████████████████████████▊                               | 1079/1992 [00:28<00:24, 37.81it/s]"
     ]
    },
    {
     "name": "stdout",
     "output_type": "stream",
     "text": [
      "\n",
      "Optimization terminated successfully\n",
      "Optimization terminated successfully\n",
      "Optimization terminated successfully\n",
      "Optimization terminated successfully\n",
      "Optimization terminated successfully\n",
      "Optimization terminated successfully\n",
      "Optimization terminated successfully\n"
     ]
    },
    {
     "name": "stderr",
     "output_type": "stream",
     "text": [
      "my bars::  55%|█████████████████████████████████████                               | 1087/1992 [00:28<00:25, 35.09it/s]"
     ]
    },
    {
     "name": "stdout",
     "output_type": "stream",
     "text": [
      "Optimization terminated successfully\n",
      "Optimization terminated successfully\n",
      "Optimization terminated successfully\n",
      "Optimization terminated successfully\n",
      "Optimization terminated successfully\n",
      "Optimization terminated successfully\n",
      "Optimization terminated successfully\n"
     ]
    },
    {
     "name": "stderr",
     "output_type": "stream",
     "text": [
      "my bars::  55%|█████████████████████████████████████▍                              | 1095/1992 [00:28<00:25, 35.18it/s]"
     ]
    },
    {
     "name": "stdout",
     "output_type": "stream",
     "text": [
      "Optimization terminated successfully\n",
      "Optimization terminated successfully\n",
      "Optimization terminated successfully\n",
      "Optimization terminated successfully\n",
      "Optimization terminated successfully\n",
      "Optimization terminated successfully\n",
      "Optimization terminated successfully\n",
      "Optimization terminated successfully\n",
      "Optimization terminated successfully\n",
      "Optimization terminated successfully\n"
     ]
    },
    {
     "name": "stderr",
     "output_type": "stream",
     "text": [
      "my bars::  55%|█████████████████████████████████████▋                              | 1103/1992 [00:28<00:25, 34.40it/s]"
     ]
    },
    {
     "name": "stdout",
     "output_type": "stream",
     "text": [
      "Optimization terminated successfully\n",
      "Optimization terminated successfully\n",
      "Optimization terminated successfully\n",
      "Optimization terminated successfully\n",
      "Optimization terminated successfully\n",
      "Optimization terminated successfully\n",
      "Optimization terminated successfully\n"
     ]
    },
    {
     "name": "stderr",
     "output_type": "stream",
     "text": [
      "my bars::  56%|█████████████████████████████████████▉                              | 1111/1992 [00:29<00:26, 33.66it/s]"
     ]
    },
    {
     "name": "stdout",
     "output_type": "stream",
     "text": [
      "Optimization terminated successfully\n",
      "Optimization terminated successfully\n",
      "Optimization terminated successfully\n",
      "Optimization terminated successfully\n",
      "Optimization terminated successfully\n",
      "Optimization terminated successfully\n",
      "Optimization terminated successfully\n",
      "Optimization terminated successfully\n"
     ]
    },
    {
     "name": "stderr",
     "output_type": "stream",
     "text": [
      "my bars::  56%|██████████████████████████████████████▏                             | 1120/1992 [00:29<00:23, 37.48it/s]"
     ]
    },
    {
     "name": "stdout",
     "output_type": "stream",
     "text": [
      "Optimization terminated successfully\n",
      "Optimization terminated successfully\n",
      "Optimization terminated successfully\n",
      "Optimization terminated successfully\n",
      "Optimization terminated successfully\n",
      "Optimization terminated successfully\n",
      "Optimization terminated successfully\n",
      "Optimization terminated successfully\n"
     ]
    },
    {
     "name": "stderr",
     "output_type": "stream",
     "text": [
      "my bars::  57%|██████████████████████████████████████▌                             | 1128/1992 [00:29<00:23, 36.57it/s]"
     ]
    },
    {
     "name": "stdout",
     "output_type": "stream",
     "text": [
      "Optimization terminated successfully\n",
      "Optimization terminated successfully\n",
      "Optimization terminated successfully\n",
      "Optimization terminated successfully\n",
      "Optimization terminated successfully\n",
      "Optimization terminated successfully\n",
      "Optimization terminated successfully"
     ]
    },
    {
     "name": "stderr",
     "output_type": "stream",
     "text": [
      "my bars::  57%|██████████████████████████████████████▊                             | 1136/1992 [00:29<00:24, 35.46it/s]"
     ]
    },
    {
     "name": "stdout",
     "output_type": "stream",
     "text": [
      "\n",
      "Optimization terminated successfully\n",
      "Optimization terminated successfully\n",
      "Optimization terminated successfully\n",
      "Optimization terminated successfully\n",
      "Optimization terminated successfully\n",
      "Optimization terminated successfully\n",
      "Optimization terminated successfully\n",
      "Optimization terminated successfully\n",
      "Optimization terminated successfully\n"
     ]
    },
    {
     "name": "stderr",
     "output_type": "stream",
     "text": [
      "my bars::  57%|███████████████████████████████████████                             | 1145/1992 [00:30<00:22, 37.99it/s]"
     ]
    },
    {
     "name": "stdout",
     "output_type": "stream",
     "text": [
      "Optimization terminated successfully\n",
      "Optimization terminated successfully\n",
      "Optimization terminated successfully\n",
      "Optimization terminated successfully\n",
      "Optimization terminated successfully\n",
      "Optimization terminated successfully\n",
      "Optimization terminated successfully\n"
     ]
    },
    {
     "name": "stderr",
     "output_type": "stream",
     "text": [
      "my bars::  58%|███████████████████████████████████████▎                            | 1153/1992 [00:30<00:23, 36.18it/s]"
     ]
    },
    {
     "name": "stdout",
     "output_type": "stream",
     "text": [
      "Optimization terminated successfully\n",
      "Optimization terminated successfully\n",
      "Optimization terminated successfully\n",
      "Optimization terminated successfully\n",
      "Optimization terminated successfully\n",
      "Optimization terminated successfully\n",
      "Optimization terminated successfully\n",
      "Optimization terminated successfully\n"
     ]
    },
    {
     "name": "stderr",
     "output_type": "stream",
     "text": [
      "my bars::  58%|███████████████████████████████████████▋                            | 1162/1992 [00:30<00:22, 36.97it/s]"
     ]
    },
    {
     "name": "stdout",
     "output_type": "stream",
     "text": [
      "Optimization terminated successfully\n",
      "Optimization terminated successfully\n",
      "Optimization terminated successfully\n",
      "Optimization terminated successfully\n",
      "Optimization terminated successfully\n",
      "Optimization terminated successfully\n",
      "Optimization terminated successfully\n",
      "Optimization terminated successfully\n"
     ]
    },
    {
     "name": "stderr",
     "output_type": "stream",
     "text": [
      "my bars::  59%|███████████████████████████████████████▉                            | 1170/1992 [00:30<00:23, 35.06it/s]"
     ]
    },
    {
     "name": "stdout",
     "output_type": "stream",
     "text": [
      "Optimization terminated successfully\n",
      "Optimization terminated successfully\n",
      "Optimization terminated successfully\n",
      "Optimization terminated successfully\n",
      "Optimization terminated successfully\n",
      "Optimization terminated successfully\n",
      "Optimization terminated successfully\n",
      "Optimization terminated successfully\n"
     ]
    },
    {
     "name": "stderr",
     "output_type": "stream",
     "text": [
      "my bars::  59%|████████████████████████████████████████▏                           | 1179/1992 [00:31<00:22, 36.37it/s]"
     ]
    },
    {
     "name": "stdout",
     "output_type": "stream",
     "text": [
      "Optimization terminated successfully\n",
      "Optimization terminated successfully\n",
      "Optimization terminated successfully\n",
      "Optimization terminated successfully\n",
      "Optimization terminated successfully\n",
      "Optimization terminated successfully\n",
      "Optimization terminated successfully\n",
      "Optimization terminated successfully\n",
      "Optimization terminated successfully\n"
     ]
    },
    {
     "name": "stderr",
     "output_type": "stream",
     "text": [
      "my bars::  60%|████████████████████████████████████████▌                           | 1188/1992 [00:31<00:20, 38.63it/s]"
     ]
    },
    {
     "name": "stdout",
     "output_type": "stream",
     "text": [
      "Optimization terminated successfully\n",
      "Optimization terminated successfully\n",
      "Optimization terminated successfully\n",
      "Optimization terminated successfully\n",
      "Optimization terminated successfully\n",
      "Optimization terminated successfully\n",
      "Optimization terminated successfully\n",
      "Optimization terminated successfully"
     ]
    },
    {
     "name": "stderr",
     "output_type": "stream",
     "text": [
      "my bars::  60%|████████████████████████████████████████▊                           | 1196/1992 [00:31<00:20, 38.43it/s]"
     ]
    },
    {
     "name": "stdout",
     "output_type": "stream",
     "text": [
      "\n",
      "Optimization terminated successfully\n",
      "Optimization terminated successfully\n",
      "Optimization terminated successfully\n",
      "Optimization terminated successfully\n",
      "Optimization terminated successfully\n",
      "Optimization terminated successfully\n",
      "Optimization terminated successfully\n",
      "Optimization terminated successfully\n"
     ]
    },
    {
     "name": "stderr",
     "output_type": "stream",
     "text": [
      "my bars::  61%|█████████████████████████████████████████▏                          | 1206/1992 [00:31<00:18, 41.62it/s]"
     ]
    },
    {
     "name": "stdout",
     "output_type": "stream",
     "text": [
      "Optimization terminated successfully\n",
      "Optimization terminated successfully\n",
      "Optimization terminated successfully\n",
      "Optimization terminated successfully\n",
      "Optimization terminated successfully\n",
      "Optimization terminated successfully\n",
      "Optimization terminated successfully\n"
     ]
    },
    {
     "name": "stderr",
     "output_type": "stream",
     "text": [
      "my bars::  61%|█████████████████████████████████████████▌                          | 1216/1992 [00:31<00:20, 38.66it/s]"
     ]
    },
    {
     "name": "stdout",
     "output_type": "stream",
     "text": [
      "Optimization terminated successfully\n",
      "Optimization terminated successfully\n",
      "Optimization terminated successfully\n",
      "Optimization terminated successfully\n",
      "Optimization terminated successfully\n",
      "Optimization terminated successfully\n",
      "Optimization terminated successfully\n",
      "Optimization terminated successfully\n",
      "Optimization terminated successfully\n"
     ]
    },
    {
     "name": "stderr",
     "output_type": "stream",
     "text": [
      "my bars::  61%|█████████████████████████████████████████▊                          | 1224/1992 [00:32<00:20, 38.17it/s]"
     ]
    },
    {
     "name": "stdout",
     "output_type": "stream",
     "text": [
      "Optimization terminated successfully\n",
      "Optimization terminated successfully\n",
      "Optimization terminated successfully\n",
      "Optimization terminated successfully\n",
      "Optimization terminated successfully\n",
      "Optimization terminated successfully\n",
      "Optimization terminated successfully\n",
      "Optimization terminated successfully\n",
      "Optimization terminated successfully\n"
     ]
    },
    {
     "name": "stderr",
     "output_type": "stream",
     "text": [
      "my bars::  62%|██████████████████████████████████████████                          | 1232/1992 [00:32<00:20, 37.73it/s]"
     ]
    },
    {
     "name": "stdout",
     "output_type": "stream",
     "text": [
      "Optimization terminated successfully\n",
      "Optimization terminated successfully\n",
      "Optimization terminated successfully\n",
      "Optimization terminated successfully\n",
      "Optimization terminated successfully\n",
      "Optimization terminated successfully\n",
      "Optimization terminated successfully\n",
      "Optimization terminated successfully\n",
      "Optimization terminated successfully\n"
     ]
    },
    {
     "name": "stderr",
     "output_type": "stream",
     "text": [
      "my bars::  62%|██████████████████████████████████████████▍                         | 1243/1992 [00:32<00:16, 44.39it/s]"
     ]
    },
    {
     "name": "stdout",
     "output_type": "stream",
     "text": [
      "Optimization terminated successfully\n",
      "Optimization terminated successfully\n",
      "Optimization terminated successfully\n",
      "Optimization terminated successfully\n",
      "Optimization terminated successfully\n",
      "Optimization terminated successfully\n",
      "Optimization terminated successfully\n"
     ]
    },
    {
     "name": "stderr",
     "output_type": "stream",
     "text": [
      "my bars::  63%|██████████████████████████████████████████▊                         | 1253/1992 [00:32<00:16, 44.22it/s]"
     ]
    },
    {
     "name": "stdout",
     "output_type": "stream",
     "text": [
      "Optimization terminated successfully\n",
      "Optimization terminated successfully\n",
      "Optimization terminated successfully\n",
      "Optimization terminated successfully\n",
      "Optimization terminated successfully\n",
      "Optimization terminated successfully\n",
      "Optimization terminated successfully\n",
      "Optimization terminated successfully\n",
      "Optimization terminated successfully\n"
     ]
    },
    {
     "name": "stderr",
     "output_type": "stream",
     "text": [
      "my bars::  63%|███████████████████████████████████████████                         | 1263/1992 [00:33<00:17, 40.94it/s]"
     ]
    },
    {
     "name": "stdout",
     "output_type": "stream",
     "text": [
      "Optimization terminated successfully\n",
      "Optimization terminated successfully\n",
      "Optimization terminated successfully\n",
      "Optimization terminated successfully\n",
      "Optimization terminated successfully\n",
      "Optimization terminated successfully\n",
      "Optimization terminated successfully\n",
      "Optimization terminated successfully\n",
      "Optimization terminated successfully"
     ]
    },
    {
     "name": "stderr",
     "output_type": "stream",
     "text": [
      "my bars::  64%|███████████████████████████████████████████▍                        | 1274/1992 [00:33<00:15, 45.13it/s]"
     ]
    },
    {
     "name": "stdout",
     "output_type": "stream",
     "text": [
      "\n",
      "Optimization terminated successfully\n",
      "Optimization terminated successfully\n",
      "Optimization terminated successfully\n",
      "Optimization terminated successfully\n",
      "Optimization terminated successfully\n",
      "Optimization terminated successfully\n",
      "Optimization terminated successfully\n",
      "Optimization terminated successfully\n",
      "Optimization terminated successfully\n",
      "Optimization terminated successfully\n"
     ]
    },
    {
     "name": "stderr",
     "output_type": "stream",
     "text": [
      "my bars::  65%|███████████████████████████████████████████▊                        | 1285/1992 [00:33<00:15, 45.34it/s]"
     ]
    },
    {
     "name": "stdout",
     "output_type": "stream",
     "text": [
      "Optimization terminated successfully\n",
      "Optimization terminated successfully\n",
      "Optimization terminated successfully\n",
      "Optimization terminated successfully\n",
      "Optimization terminated successfully\n",
      "Optimization terminated successfully\n",
      "Optimization terminated successfully\n",
      "Optimization terminated successfully\n",
      "Optimization terminated successfully\n"
     ]
    },
    {
     "name": "stderr",
     "output_type": "stream",
     "text": [
      "my bars::  65%|████████████████████████████████████████████▏                       | 1295/1992 [00:33<00:15, 44.23it/s]"
     ]
    },
    {
     "name": "stdout",
     "output_type": "stream",
     "text": [
      "Optimization terminated successfully\n",
      "Optimization terminated successfully\n",
      "Optimization terminated successfully\n",
      "Optimization terminated successfully\n",
      "Optimization terminated successfully\n",
      "Optimization terminated successfully\n",
      "Optimization terminated successfully\n",
      "Optimization terminated successfully"
     ]
    },
    {
     "name": "stderr",
     "output_type": "stream",
     "text": [
      "my bars::  66%|████████████████████████████████████████████▌                       | 1305/1992 [00:34<00:17, 38.24it/s]"
     ]
    },
    {
     "name": "stdout",
     "output_type": "stream",
     "text": [
      "\n",
      "Optimization terminated successfully\n",
      "Optimization terminated successfully\n",
      "Optimization terminated successfully\n",
      "Optimization terminated successfully\n",
      "Optimization terminated successfully\n",
      "Optimization terminated successfully\n",
      "Optimization terminated successfully\n",
      "Optimization terminated successfully\n",
      "Optimization terminated successfully\n",
      "Optimization terminated successfully\n"
     ]
    },
    {
     "name": "stderr",
     "output_type": "stream",
     "text": [
      "my bars::  66%|████████████████████████████████████████████▉                       | 1315/1992 [00:34<00:16, 40.78it/s]"
     ]
    },
    {
     "name": "stdout",
     "output_type": "stream",
     "text": [
      "Optimization terminated successfully\n",
      "Optimization terminated successfully\n",
      "Optimization terminated successfully\n",
      "Optimization terminated successfully\n",
      "Optimization terminated successfully\n",
      "Optimization terminated successfully\n",
      "Optimization terminated successfully\n",
      "Optimization terminated successfully\n",
      "Optimization terminated successfully\n"
     ]
    },
    {
     "name": "stderr",
     "output_type": "stream",
     "text": [
      "my bars::  67%|█████████████████████████████████████████████▎                      | 1327/1992 [00:34<00:14, 45.72it/s]"
     ]
    },
    {
     "name": "stdout",
     "output_type": "stream",
     "text": [
      "Optimization terminated successfully\n",
      "Optimization terminated successfully\n",
      "Optimization terminated successfully\n",
      "Optimization terminated successfully\n",
      "Optimization terminated successfully\n",
      "Optimization terminated successfully\n",
      "Optimization terminated successfully\n"
     ]
    },
    {
     "name": "stderr",
     "output_type": "stream",
     "text": [
      "my bars::  67%|█████████████████████████████████████████████▋                      | 1338/1992 [00:34<00:14, 45.94it/s]"
     ]
    },
    {
     "name": "stdout",
     "output_type": "stream",
     "text": [
      "Optimization terminated successfully\n",
      "Optimization terminated successfully\n",
      "Optimization terminated successfully\n",
      "Optimization terminated successfully\n",
      "Optimization terminated successfully\n",
      "Optimization terminated successfully\n",
      "Optimization terminated successfully\n",
      "Optimization terminated successfully\n",
      "Optimization terminated successfully\n"
     ]
    },
    {
     "name": "stderr",
     "output_type": "stream",
     "text": [
      "my bars::  68%|██████████████████████████████████████████████                      | 1348/1992 [00:35<00:15, 40.66it/s]"
     ]
    },
    {
     "name": "stdout",
     "output_type": "stream",
     "text": [
      "Optimization terminated successfully\n",
      "Optimization terminated successfully\n",
      "Optimization terminated successfully\n",
      "Optimization terminated successfully\n",
      "Optimization terminated successfully\n",
      "Optimization terminated successfully\n",
      "Optimization terminated successfully\n",
      "Optimization terminated successfully\n",
      "Optimization terminated successfully\n"
     ]
    },
    {
     "name": "stderr",
     "output_type": "stream",
     "text": [
      "my bars::  68%|██████████████████████████████████████████████▎                     | 1358/1992 [00:35<00:15, 41.27it/s]"
     ]
    },
    {
     "name": "stdout",
     "output_type": "stream",
     "text": [
      "Optimization terminated successfully\n",
      "Optimization terminated successfully\n",
      "Optimization terminated successfully\n",
      "Optimization terminated successfully\n",
      "Optimization terminated successfully\n",
      "Optimization terminated successfully\n",
      "Optimization terminated successfully\n",
      "Optimization terminated successfully\n"
     ]
    },
    {
     "name": "stderr",
     "output_type": "stream",
     "text": [
      "my bars::  69%|██████████████████████████████████████████████▋                     | 1368/1992 [00:35<00:15, 41.30it/s]"
     ]
    },
    {
     "name": "stdout",
     "output_type": "stream",
     "text": [
      "Optimization terminated successfully\n",
      "Optimization terminated successfully\n",
      "Optimization terminated successfully\n",
      "Optimization terminated successfully\n",
      "Optimization terminated successfully\n",
      "Optimization terminated successfully\n",
      "Optimization terminated successfully\n",
      "Optimization terminated successfully\n",
      "Optimization terminated successfully\n",
      "Optimization terminated successfully\n",
      "Optimization terminated successfully"
     ]
    },
    {
     "name": "stderr",
     "output_type": "stream",
     "text": [
      "my bars::  69%|███████████████████████████████████████████████                     | 1377/1992 [00:35<00:15, 39.28it/s]"
     ]
    },
    {
     "name": "stdout",
     "output_type": "stream",
     "text": [
      "\n",
      "Optimization terminated successfully\n",
      "Optimization terminated successfully\n",
      "Optimization terminated successfully\n",
      "Optimization terminated successfully\n",
      "Optimization terminated successfully\n",
      "Optimization terminated successfully\n",
      "Optimization terminated successfully\n",
      "Optimization terminated successfully\n",
      "Optimization terminated successfully\n",
      "Optimization terminated successfully\n"
     ]
    },
    {
     "name": "stderr",
     "output_type": "stream",
     "text": [
      "my bars::  70%|███████████████████████████████████████████████▍                    | 1388/1992 [00:36<00:14, 43.04it/s]"
     ]
    },
    {
     "name": "stdout",
     "output_type": "stream",
     "text": [
      "Optimization terminated successfully\n",
      "Optimization terminated successfully\n",
      "Optimization terminated successfully\n",
      "Optimization terminated successfully\n",
      "Optimization terminated successfully\n",
      "Optimization terminated successfully\n",
      "Optimization terminated successfully\n",
      "Optimization terminated successfully\n"
     ]
    },
    {
     "name": "stderr",
     "output_type": "stream",
     "text": [
      "my bars::  70%|███████████████████████████████████████████████▋                    | 1398/1992 [00:36<00:14, 41.68it/s]"
     ]
    },
    {
     "name": "stdout",
     "output_type": "stream",
     "text": [
      "Optimization terminated successfully\n",
      "Optimization terminated successfully\n",
      "Optimization terminated successfully\n",
      "Optimization terminated successfully\n",
      "Optimization terminated successfully\n",
      "Optimization terminated successfully\n",
      "Optimization terminated successfully\n",
      "Optimization terminated successfully\n",
      "Optimization terminated successfully\n",
      "Optimization terminated successfully\n"
     ]
    },
    {
     "name": "stderr",
     "output_type": "stream",
     "text": [
      "my bars::  71%|████████████████████████████████████████████████                    | 1407/1992 [00:36<00:14, 39.10it/s]"
     ]
    },
    {
     "name": "stdout",
     "output_type": "stream",
     "text": [
      "Optimization terminated successfully\n",
      "Optimization terminated successfully\n",
      "Optimization terminated successfully\n",
      "Optimization terminated successfully\n",
      "Optimization terminated successfully\n",
      "Optimization terminated successfully\n",
      "Optimization terminated successfully\n",
      "Optimization terminated successfully\n",
      "Optimization terminated successfully\n"
     ]
    },
    {
     "name": "stderr",
     "output_type": "stream",
     "text": [
      "my bars::  71%|████████████████████████████████████████████████▎                   | 1417/1992 [00:36<00:14, 40.82it/s]"
     ]
    },
    {
     "name": "stdout",
     "output_type": "stream",
     "text": [
      "Optimization terminated successfully\n",
      "Optimization terminated successfully\n",
      "Optimization terminated successfully\n",
      "Optimization terminated successfully\n",
      "Optimization terminated successfully\n",
      "Optimization terminated successfully\n",
      "Optimization terminated successfully\n",
      "Optimization terminated successfully\n",
      "Optimization terminated successfully\n",
      "Optimization terminated successfully"
     ]
    },
    {
     "name": "stderr",
     "output_type": "stream",
     "text": [
      "my bars::  72%|████████████████████████████████████████████████▋                   | 1427/1992 [00:36<00:13, 41.85it/s]"
     ]
    },
    {
     "name": "stdout",
     "output_type": "stream",
     "text": [
      "\n",
      "Optimization terminated successfully\n",
      "Optimization terminated successfully\n",
      "Optimization terminated successfully\n",
      "Optimization terminated successfully\n",
      "Optimization terminated successfully\n",
      "Optimization terminated successfully\n",
      "Optimization terminated successfully\n",
      "Optimization terminated successfully\n",
      "Optimization terminated successfully"
     ]
    },
    {
     "name": "stderr",
     "output_type": "stream",
     "text": [
      "my bars::  72%|█████████████████████████████████████████████████                   | 1437/1992 [00:37<00:12, 42.81it/s]"
     ]
    },
    {
     "name": "stdout",
     "output_type": "stream",
     "text": [
      "\n",
      "Optimization terminated successfully\n",
      "Optimization terminated successfully\n",
      "Optimization terminated successfully\n",
      "Optimization terminated successfully\n",
      "Optimization terminated successfully\n",
      "Optimization terminated successfully\n",
      "Optimization terminated successfully\n",
      "Optimization terminated successfully"
     ]
    },
    {
     "name": "stderr",
     "output_type": "stream",
     "text": [
      "my bars::  73%|█████████████████████████████████████████████████▍                  | 1448/1992 [00:37<00:11, 46.46it/s]"
     ]
    },
    {
     "name": "stdout",
     "output_type": "stream",
     "text": [
      "\n",
      "Optimization terminated successfully\n",
      "Optimization terminated successfully\n",
      "Optimization terminated successfully\n",
      "Optimization terminated successfully\n",
      "Optimization terminated successfully\n",
      "Optimization terminated successfully\n",
      "Optimization terminated successfully\n",
      "Optimization terminated successfully\n"
     ]
    },
    {
     "name": "stderr",
     "output_type": "stream",
     "text": [
      "my bars::  73%|█████████████████████████████████████████████████▊                  | 1461/1992 [00:37<00:10, 52.43it/s]"
     ]
    },
    {
     "name": "stdout",
     "output_type": "stream",
     "text": [
      "Optimization terminated successfully\n",
      "Optimization terminated successfully\n",
      "Optimization terminated successfully\n",
      "Optimization terminated successfully\n",
      "Optimization terminated successfully\n",
      "Optimization terminated successfully\n",
      "Optimization terminated successfully\n",
      "Optimization terminated successfully\n",
      "Optimization terminated successfully\n"
     ]
    },
    {
     "name": "stderr",
     "output_type": "stream",
     "text": [
      "my bars::  74%|██████████████████████████████████████████████████▎                 | 1473/1992 [00:37<00:10, 48.14it/s]"
     ]
    },
    {
     "name": "stdout",
     "output_type": "stream",
     "text": [
      "Optimization terminated successfully\n",
      "Optimization terminated successfully\n",
      "Optimization terminated successfully\n",
      "Optimization terminated successfully\n",
      "Optimization terminated successfully\n",
      "Optimization terminated successfully\n",
      "Optimization terminated successfully\n",
      "Optimization terminated successfully\n",
      "Optimization terminated successfully\n",
      "Optimization terminated successfully\n"
     ]
    },
    {
     "name": "stderr",
     "output_type": "stream",
     "text": [
      "\r",
      "my bars::  74%|██████████████████████████████████████████████████▍                 | 1478/1992 [00:38<00:10, 47.43it/s]"
     ]
    },
    {
     "name": "stdout",
     "output_type": "stream",
     "text": [
      "Optimization terminated successfully\n",
      "Optimization terminated successfully\n",
      "Optimization terminated successfully\n",
      "Optimization terminated successfully\n",
      "Optimization terminated successfully\n",
      "Optimization terminated successfully\n",
      "Optimization terminated successfully\n"
     ]
    },
    {
     "name": "stderr",
     "output_type": "stream",
     "text": [
      "my bars::  75%|██████████████████████████████████████████████████▊                 | 1488/1992 [00:38<00:11, 44.52it/s]"
     ]
    },
    {
     "name": "stdout",
     "output_type": "stream",
     "text": [
      "Optimization terminated successfully\n",
      "Optimization terminated successfully\n",
      "Optimization terminated successfully\n",
      "Optimization terminated successfully\n",
      "Optimization terminated successfully\n",
      "Optimization terminated successfully\n",
      "Optimization terminated successfully\n",
      "Optimization terminated successfully\n",
      "Optimization terminated successfully\n",
      "Optimization terminated successfully\n",
      "Optimization terminated successfully"
     ]
    },
    {
     "name": "stderr",
     "output_type": "stream",
     "text": [
      "my bars::  75%|███████████████████████████████████████████████████▏                | 1499/1992 [00:38<00:11, 44.06it/s]"
     ]
    },
    {
     "name": "stdout",
     "output_type": "stream",
     "text": [
      "\n",
      "Optimization terminated successfully\n",
      "Optimization terminated successfully\n",
      "Optimization terminated successfully\n",
      "Optimization terminated successfully\n",
      "Optimization terminated successfully\n",
      "Optimization terminated successfully\n",
      "Optimization terminated successfully\n",
      "Optimization terminated successfully\n"
     ]
    },
    {
     "name": "stderr",
     "output_type": "stream",
     "text": [
      "my bars::  76%|███████████████████████████████████████████████████▌                | 1510/1992 [00:38<00:10, 46.70it/s]"
     ]
    },
    {
     "name": "stdout",
     "output_type": "stream",
     "text": [
      "Optimization terminated successfully\n",
      "Optimization terminated successfully\n",
      "Optimization terminated successfully\n",
      "Optimization terminated successfully\n",
      "Optimization terminated successfully\n",
      "Optimization terminated successfully\n",
      "Optimization terminated successfully\n",
      "Optimization terminated successfully\n",
      "Optimization terminated successfully\n",
      "Optimization terminated successfully\n",
      "Optimization terminated successfully"
     ]
    },
    {
     "name": "stderr",
     "output_type": "stream",
     "text": [
      "my bars::  76%|███████████████████████████████████████████████████▉                | 1520/1992 [00:38<00:10, 43.40it/s]"
     ]
    },
    {
     "name": "stdout",
     "output_type": "stream",
     "text": [
      "\n",
      "Optimization terminated successfully\n",
      "Optimization terminated successfully\n",
      "Optimization terminated successfully\n",
      "Optimization terminated successfully\n",
      "Optimization terminated successfully\n",
      "Optimization terminated successfully\n",
      "Optimization terminated successfully\n",
      "Optimization terminated successfully\n",
      "Optimization terminated successfully\n"
     ]
    },
    {
     "name": "stderr",
     "output_type": "stream",
     "text": [
      "my bars::  77%|████████████████████████████████████████████████████▎               | 1531/1992 [00:39<00:09, 46.81it/s]"
     ]
    },
    {
     "name": "stdout",
     "output_type": "stream",
     "text": [
      "Optimization terminated successfully\n",
      "Optimization terminated successfully\n",
      "Optimization terminated successfully\n",
      "Optimization terminated successfully\n",
      "Optimization terminated successfully\n",
      "Optimization terminated successfully\n",
      "Optimization terminated successfully\n",
      "Optimization terminated successfully\n"
     ]
    },
    {
     "name": "stderr",
     "output_type": "stream",
     "text": [
      "my bars::  77%|████████████████████████████████████████████████████▌               | 1541/1992 [00:39<00:10, 44.66it/s]"
     ]
    },
    {
     "name": "stdout",
     "output_type": "stream",
     "text": [
      "Optimization terminated successfully\n",
      "Optimization terminated successfully\n",
      "Optimization terminated successfully\n",
      "Optimization terminated successfully\n",
      "Optimization terminated successfully\n",
      "Optimization terminated successfully\n",
      "Optimization terminated successfully\n",
      "Optimization terminated successfully\n"
     ]
    },
    {
     "name": "stderr",
     "output_type": "stream",
     "text": [
      "my bars::  78%|████████████████████████████████████████████████████▉               | 1551/1992 [00:39<00:09, 44.68it/s]"
     ]
    },
    {
     "name": "stdout",
     "output_type": "stream",
     "text": [
      "Optimization terminated successfully\n",
      "Optimization terminated successfully\n",
      "Optimization terminated successfully\n",
      "Optimization terminated successfully\n",
      "Optimization terminated successfully\n",
      "Optimization terminated successfully\n",
      "Optimization terminated successfully\n",
      "Optimization terminated successfully\n",
      "Optimization terminated successfully\n",
      "Optimization terminated successfully\n"
     ]
    },
    {
     "name": "stderr",
     "output_type": "stream",
     "text": [
      "my bars::  78%|█████████████████████████████████████████████████████▎              | 1561/1992 [00:39<00:10, 42.81it/s]"
     ]
    },
    {
     "name": "stdout",
     "output_type": "stream",
     "text": [
      "Optimization terminated successfully\n",
      "Optimization terminated successfully\n",
      "Optimization terminated successfully\n",
      "Optimization terminated successfully\n",
      "Optimization terminated successfully\n",
      "Optimization terminated successfully\n",
      "Optimization terminated successfully\n",
      "Optimization terminated successfully\n",
      "Optimization terminated successfully\n",
      "Optimization terminated successfully\n"
     ]
    },
    {
     "name": "stderr",
     "output_type": "stream",
     "text": [
      "my bars::  79%|█████████████████████████████████████████████████████▋              | 1571/1992 [00:40<00:09, 43.53it/s]"
     ]
    },
    {
     "name": "stdout",
     "output_type": "stream",
     "text": [
      "Optimization terminated successfully\n",
      "Optimization terminated successfully\n",
      "Optimization terminated successfully\n",
      "Optimization terminated successfully\n",
      "Optimization terminated successfully\n",
      "Optimization terminated successfully\n",
      "Optimization terminated successfully\n",
      "Optimization terminated successfully\n"
     ]
    },
    {
     "name": "stderr",
     "output_type": "stream",
     "text": [
      "my bars::  79%|██████████████████████████████████████████████████████              | 1582/1992 [00:40<00:09, 45.27it/s]"
     ]
    },
    {
     "name": "stdout",
     "output_type": "stream",
     "text": [
      "Optimization terminated successfully\n",
      "Optimization terminated successfully\n",
      "Optimization terminated successfully\n",
      "Optimization terminated successfully\n",
      "Optimization terminated successfully\n",
      "Optimization terminated successfully\n",
      "Optimization terminated successfully\n",
      "Optimization terminated successfully\n",
      "Optimization terminated successfully\n",
      "Optimization terminated successfully\n"
     ]
    },
    {
     "name": "stderr",
     "output_type": "stream",
     "text": [
      "my bars::  80%|██████████████████████████████████████████████████████▎             | 1592/1992 [00:40<00:09, 42.98it/s]"
     ]
    },
    {
     "name": "stdout",
     "output_type": "stream",
     "text": [
      "Optimization terminated successfully\n",
      "Optimization terminated successfully\n",
      "Optimization terminated successfully\n",
      "Optimization terminated successfully\n",
      "Optimization terminated successfully\n",
      "Optimization terminated successfully\n",
      "Optimization terminated successfully\n",
      "Optimization terminated successfully\n",
      "Optimization terminated successfully\n",
      "Optimization terminated successfully\n"
     ]
    },
    {
     "name": "stderr",
     "output_type": "stream",
     "text": [
      "my bars::  80%|██████████████████████████████████████████████████████▋             | 1602/1992 [00:40<00:09, 42.65it/s]"
     ]
    },
    {
     "name": "stdout",
     "output_type": "stream",
     "text": [
      "Optimization terminated successfully\n",
      "Optimization terminated successfully\n",
      "Optimization terminated successfully\n",
      "Optimization terminated successfully\n",
      "Optimization terminated successfully\n",
      "Optimization terminated successfully\n",
      "Optimization terminated successfully\n",
      "Optimization terminated successfully\n",
      "Optimization terminated successfully\n"
     ]
    },
    {
     "name": "stderr",
     "output_type": "stream",
     "text": [
      "my bars::  81%|███████████████████████████████████████████████████████▏            | 1615/1992 [00:41<00:07, 49.86it/s]"
     ]
    },
    {
     "name": "stdout",
     "output_type": "stream",
     "text": [
      "Optimization terminated successfully\n",
      "Optimization terminated successfully\n",
      "Optimization terminated successfully\n",
      "Optimization terminated successfully\n",
      "Optimization terminated successfully\n",
      "Optimization terminated successfully\n",
      "Optimization terminated successfully\n",
      "Optimization terminated successfully\n",
      "Optimization terminated successfully\n",
      "Optimization terminated successfully\n"
     ]
    },
    {
     "name": "stderr",
     "output_type": "stream",
     "text": [
      "my bars::  82%|███████████████████████████████████████████████████████▌            | 1629/1992 [00:41<00:06, 55.63it/s]"
     ]
    },
    {
     "name": "stdout",
     "output_type": "stream",
     "text": [
      "Optimization terminated successfully\n",
      "Optimization terminated successfully\n",
      "Optimization terminated successfully\n",
      "Optimization terminated successfully\n",
      "Optimization terminated successfully\n",
      "Optimization terminated successfully\n",
      "Optimization terminated successfully\n",
      "Optimization terminated successfully\n",
      "Optimization terminated successfully\n",
      "Optimization terminated successfully\n"
     ]
    },
    {
     "name": "stderr",
     "output_type": "stream",
     "text": [
      "my bars::  82%|████████████████████████████████████████████████████████            | 1643/1992 [00:41<00:05, 60.47it/s]"
     ]
    },
    {
     "name": "stdout",
     "output_type": "stream",
     "text": [
      "Optimization terminated successfully\n",
      "Optimization terminated successfully\n",
      "Optimization terminated successfully\n",
      "Optimization terminated successfully\n",
      "Optimization terminated successfully\n",
      "Optimization terminated successfully\n",
      "Optimization terminated successfully\n",
      "Optimization terminated successfully\n",
      "Optimization terminated successfully\n"
     ]
    },
    {
     "name": "stderr",
     "output_type": "stream",
     "text": [
      "my bars::  83%|████████████████████████████████████████████████████████▌           | 1657/1992 [00:41<00:05, 59.07it/s]"
     ]
    },
    {
     "name": "stdout",
     "output_type": "stream",
     "text": [
      "Optimization terminated successfully\n",
      "Optimization terminated successfully\n",
      "Optimization terminated successfully\n",
      "Optimization terminated successfully\n",
      "Optimization terminated successfully\n",
      "Optimization terminated successfully\n",
      "Optimization terminated successfully\n",
      "Optimization terminated successfully\n"
     ]
    },
    {
     "name": "stderr",
     "output_type": "stream",
     "text": [
      "my bars::  84%|█████████████████████████████████████████████████████████           | 1673/1992 [00:41<00:05, 61.52it/s]"
     ]
    },
    {
     "name": "stdout",
     "output_type": "stream",
     "text": [
      "Optimization terminated successfully\n",
      "Optimization terminated successfully\n",
      "Optimization terminated successfully\n",
      "Optimization terminated successfully\n",
      "Optimization terminated successfully\n",
      "Optimization terminated successfully\n",
      "Optimization terminated successfully\n",
      "Optimization terminated successfully\n",
      "Optimization terminated successfully\n",
      "Optimization terminated successfully\n"
     ]
    },
    {
     "name": "stderr",
     "output_type": "stream",
     "text": [
      "my bars::  85%|█████████████████████████████████████████████████████████▋          | 1689/1992 [00:42<00:04, 62.12it/s]"
     ]
    },
    {
     "name": "stdout",
     "output_type": "stream",
     "text": [
      "Optimization terminated successfully\n",
      "Optimization terminated successfully\n",
      "Optimization terminated successfully\n",
      "Optimization terminated successfully\n",
      "Optimization terminated successfully\n",
      "Optimization terminated successfully\n",
      "Optimization terminated successfully\n",
      "Optimization terminated successfully\n",
      "Optimization terminated successfully\n"
     ]
    },
    {
     "name": "stderr",
     "output_type": "stream",
     "text": [
      "my bars::  86%|██████████████████████████████████████████████████████████▏         | 1704/1992 [00:42<00:04, 61.50it/s]"
     ]
    },
    {
     "name": "stdout",
     "output_type": "stream",
     "text": [
      "Optimization terminated successfully\n",
      "Optimization terminated successfully\n",
      "Optimization terminated successfully\n",
      "Optimization terminated successfully\n",
      "Optimization terminated successfully\n",
      "Optimization terminated successfully\n",
      "Optimization terminated successfully\n",
      "Optimization terminated successfully\n",
      "Optimization terminated successfully\n",
      "Optimization terminated successfully\n"
     ]
    },
    {
     "name": "stderr",
     "output_type": "stream",
     "text": [
      "my bars::  86%|██████████████████████████████████████████████████████████▋         | 1718/1992 [00:42<00:04, 61.39it/s]"
     ]
    },
    {
     "name": "stdout",
     "output_type": "stream",
     "text": [
      "Optimization terminated successfully\n",
      "Optimization terminated successfully\n",
      "Optimization terminated successfully\n",
      "Optimization terminated successfully\n",
      "Optimization terminated successfully\n",
      "Optimization terminated successfully\n",
      "Optimization terminated successfully\n",
      "Optimization terminated successfully\n",
      "Optimization terminated successfully\n",
      "Optimization terminated successfully\n",
      "Optimization terminated successfully\n",
      "Optimization terminated successfully"
     ]
    },
    {
     "name": "stderr",
     "output_type": "stream",
     "text": [
      "my bars::  87%|███████████████████████████████████████████████████████████▏        | 1733/1992 [00:42<00:03, 65.46it/s]"
     ]
    },
    {
     "name": "stdout",
     "output_type": "stream",
     "text": [
      "\n",
      "Optimization terminated successfully\n",
      "Optimization terminated successfully\n",
      "Optimization terminated successfully\n",
      "Optimization terminated successfully\n",
      "Optimization terminated successfully\n",
      "Optimization terminated successfully\n",
      "Optimization terminated successfully\n",
      "Optimization terminated successfully\n",
      "Optimization terminated successfully\n"
     ]
    },
    {
     "name": "stderr",
     "output_type": "stream",
     "text": [
      "my bars::  88%|███████████████████████████████████████████████████████████▋        | 1747/1992 [00:43<00:04, 59.46it/s]"
     ]
    },
    {
     "name": "stdout",
     "output_type": "stream",
     "text": [
      "Optimization terminated successfully\n",
      "Optimization terminated successfully\n",
      "Optimization terminated successfully\n",
      "Optimization terminated successfully\n",
      "Optimization terminated successfully\n",
      "Optimization terminated successfully\n",
      "Optimization terminated successfully\n",
      "Optimization terminated successfully\n",
      "Optimization terminated successfully\n",
      "Optimization terminated successfully\n"
     ]
    },
    {
     "name": "stderr",
     "output_type": "stream",
     "text": [
      "my bars::  89%|████████████████████████████████████████████████████████████▎       | 1766/1992 [00:43<00:03, 72.04it/s]"
     ]
    },
    {
     "name": "stdout",
     "output_type": "stream",
     "text": [
      "Optimization terminated successfully\n",
      "Optimization terminated successfully\n",
      "Optimization terminated successfully\n",
      "Optimization terminated successfully\n",
      "Optimization terminated successfully\n",
      "Optimization terminated successfully\n",
      "Optimization terminated successfully"
     ]
    },
    {
     "name": "stderr",
     "output_type": "stream",
     "text": [
      "my bars::  90%|████████████████████████████████████████████████████████████▉       | 1786/1992 [00:43<00:02, 83.14it/s]"
     ]
    },
    {
     "name": "stdout",
     "output_type": "stream",
     "text": [
      "\n",
      "Optimization terminated successfully\n",
      "Optimization terminated successfully\n",
      "Optimization terminated successfully\n",
      "Optimization terminated successfully\n",
      "Optimization terminated successfully\n",
      "Optimization terminated successfully\n",
      "Optimization terminated successfully\n",
      "Optimization terminated successfully\n"
     ]
    },
    {
     "name": "stderr",
     "output_type": "stream",
     "text": [
      "my bars::  91%|█████████████████████████████████████████████████████████████▌      | 1804/1992 [00:43<00:02, 68.17it/s]"
     ]
    },
    {
     "name": "stdout",
     "output_type": "stream",
     "text": [
      "Optimization terminated successfully\n",
      "Optimization terminated successfully\n",
      "Optimization terminated successfully\n",
      "Optimization terminated successfully\n",
      "Optimization terminated successfully\n",
      "Optimization terminated successfully\n",
      "Optimization terminated successfully\n",
      "Optimization terminated successfully\n"
     ]
    },
    {
     "name": "stderr",
     "output_type": "stream",
     "text": [
      "my bars::  91%|██████████████████████████████████████████████████████████████▏     | 1820/1992 [00:44<00:02, 72.12it/s]"
     ]
    },
    {
     "name": "stdout",
     "output_type": "stream",
     "text": [
      "Optimization terminated successfully\n",
      "Optimization terminated successfully\n",
      "Optimization terminated successfully\n",
      "Optimization terminated successfully\n",
      "Optimization terminated successfully\n",
      "Optimization terminated successfully\n",
      "Optimization terminated successfully\n",
      "Optimization terminated successfully\n",
      "Optimization terminated successfully\n",
      "Optimization terminated successfully\n"
     ]
    },
    {
     "name": "stderr",
     "output_type": "stream",
     "text": [
      "my bars::  92%|██████████████████████████████████████████████████████████████▋     | 1837/1992 [00:44<00:02, 74.75it/s]"
     ]
    },
    {
     "name": "stdout",
     "output_type": "stream",
     "text": [
      "Optimization terminated successfully\n",
      "Optimization terminated successfully\n",
      "Optimization terminated successfully\n",
      "Optimization terminated successfully\n",
      "Optimization terminated successfully\n",
      "Optimization terminated successfully\n",
      "Optimization terminated successfully\n"
     ]
    },
    {
     "name": "stderr",
     "output_type": "stream",
     "text": [
      "my bars::  93%|███████████████████████████████████████████████████████████████▌    | 1861/1992 [00:44<00:01, 93.74it/s]"
     ]
    },
    {
     "name": "stdout",
     "output_type": "stream",
     "text": [
      "Optimization terminated successfully\n",
      "Optimization terminated successfully\n",
      "Optimization terminated successfully\n",
      "Optimization terminated successfully\n",
      "Optimization terminated successfully\n",
      "Optimization terminated successfully\n",
      "Optimization terminated successfully\n"
     ]
    },
    {
     "name": "stderr",
     "output_type": "stream",
     "text": [
      "my bars::  95%|███████████████████████████████████████████████████████████████▊   | 1898/1992 [00:44<00:00, 109.53it/s]"
     ]
    },
    {
     "name": "stdout",
     "output_type": "stream",
     "text": [
      "Optimization terminated successfully\n",
      "Optimization terminated successfully\n",
      "Optimization terminated successfully\n",
      "Optimization terminated successfully\n",
      "Optimization terminated successfully\n"
     ]
    },
    {
     "name": "stderr",
     "output_type": "stream",
     "text": [
      "my bars::  97%|████████████████████████████████████████████████████████████████▋  | 1923/1992 [00:45<00:00, 111.51it/s]"
     ]
    },
    {
     "name": "stdout",
     "output_type": "stream",
     "text": [
      "Optimization terminated successfully\n",
      "Optimization terminated successfully\n",
      "Optimization terminated successfully\n",
      "Optimization terminated successfully\n"
     ]
    },
    {
     "name": "stderr",
     "output_type": "stream",
     "text": [
      "my bars:: 100%|██████████████████████████████████████████████████████████████████▊| 1985/1992 [00:45<00:00, 141.38it/s]"
     ]
    },
    {
     "name": "stdout",
     "output_type": "stream",
     "text": [
      "Optimization terminated successfully\n"
     ]
    },
    {
     "name": "stderr",
     "output_type": "stream",
     "text": [
      "my bars:: 100%|████████████████████████████████████████████████████████████████████| 1992/1992 [00:46<00:00, 43.21it/s]\n"
     ]
    }
   ],
   "source": [
    "param_dict_ = {'by_rank':2, 'symmetry':True}\n",
    "# param_dict_ = {'bar':1e-3}\n",
    "strat = sabr2207.groupby('time').apply(hedge_update.Option_Split_Rank, **param_dict_)\n",
    "pcpl1 = hedge_update.Hedge_Transform(strat, etf)\n",
    "hedge_update.Global_Exist(pcpl1)\n",
    "pcpl1 = pcpl1.groupby('time').progress_apply(hedge_update.Option_Position_Add).reset_index(drop = True)\n",
    "# temp.to_csv('/Users/chenwynn/Documents/Intern_project/HTSC_Summer/sabr_vol/add.csv')\n",
    "hedge_update.Global_Exist(pcpl1)\n",
    "hedge_dict_ = {'bar':8e-4, 'delta_tolerance':5, 'vega_tolerance':5}\n",
    "pcpl1 = pcpl1.groupby('time').progress_apply(hedge_update.Hedge_Vega, **hedge_dict_).reset_index(drop = True)\n",
    "\n",
    "pcpl1['position'] = pcpl1['profit_position'] + pcpl1['hedge_position']"
   ]
  },
  {
   "cell_type": "code",
   "execution_count": 16,
   "id": "eba5ccf2",
   "metadata": {},
   "outputs": [
    {
     "ename": "NameError",
     "evalue": "name 'pcp11' is not defined",
     "output_type": "error",
     "traceback": [
      "\u001b[1;31m---------------------------------------------------------------------------\u001b[0m",
      "\u001b[1;31mNameError\u001b[0m                                 Traceback (most recent call last)",
      "Input \u001b[1;32mIn [16]\u001b[0m, in \u001b[0;36m<cell line: 26>\u001b[1;34m()\u001b[0m\n\u001b[0;32m     24\u001b[0m pcpl1\u001b[38;5;241m.\u001b[39mloc[pcpl1[\u001b[38;5;124m'\u001b[39m\u001b[38;5;124mtype\u001b[39m\u001b[38;5;124m'\u001b[39m] \u001b[38;5;241m==\u001b[39m \u001b[38;5;124m'\u001b[39m\u001b[38;5;124mS\u001b[39m\u001b[38;5;124m'\u001b[39m, \u001b[38;5;124m'\u001b[39m\u001b[38;5;124mcost\u001b[39m\u001b[38;5;124m'\u001b[39m] \u001b[38;5;241m=\u001b[39m np\u001b[38;5;241m.\u001b[39mabs(pcpl1\u001b[38;5;241m.\u001b[39mloc[pcpl1[\u001b[38;5;124m'\u001b[39m\u001b[38;5;124mtype\u001b[39m\u001b[38;5;124m'\u001b[39m] \u001b[38;5;241m==\u001b[39m \u001b[38;5;124m'\u001b[39m\u001b[38;5;124mS\u001b[39m\u001b[38;5;124m'\u001b[39m, \u001b[38;5;124m'\u001b[39m\u001b[38;5;124mposition_diff\u001b[39m\u001b[38;5;124m'\u001b[39m]) \u001b[38;5;241m*\u001b[39m \u001b[38;5;241m0.4\u001b[39m \u001b[38;5;241m*\u001b[39m pcpl1\u001b[38;5;241m.\u001b[39mloc[pcpl1[\u001b[38;5;124m'\u001b[39m\u001b[38;5;124mtype\u001b[39m\u001b[38;5;124m'\u001b[39m] \u001b[38;5;241m==\u001b[39m \u001b[38;5;124m'\u001b[39m\u001b[38;5;124mS\u001b[39m\u001b[38;5;124m'\u001b[39m, \u001b[38;5;124m'\u001b[39m\u001b[38;5;124mclose\u001b[39m\u001b[38;5;124m'\u001b[39m]\n\u001b[0;32m     25\u001b[0m pcpl1\u001b[38;5;241m.\u001b[39mloc[(pcpl1[\u001b[38;5;124m'\u001b[39m\u001b[38;5;124mtype\u001b[39m\u001b[38;5;124m'\u001b[39m] \u001b[38;5;241m==\u001b[39m \u001b[38;5;124m'\u001b[39m\u001b[38;5;124mS\u001b[39m\u001b[38;5;124m'\u001b[39m)\u001b[38;5;241m&\u001b[39m(pcpl1[\u001b[38;5;124m'\u001b[39m\u001b[38;5;124mposition\u001b[39m\u001b[38;5;124m'\u001b[39m] \u001b[38;5;241m<\u001b[39m \u001b[38;5;241m0\u001b[39m)\u001b[38;5;241m&\u001b[39m(pcpl1[\u001b[38;5;124m'\u001b[39m\u001b[38;5;124mposition_diff\u001b[39m\u001b[38;5;124m'\u001b[39m] \u001b[38;5;241m<\u001b[39m \u001b[38;5;241m0\u001b[39m), \u001b[38;5;124m'\u001b[39m\u001b[38;5;124mcost\u001b[39m\u001b[38;5;124m'\u001b[39m] \u001b[38;5;241m=\u001b[39m np\u001b[38;5;241m.\u001b[39mabs(pcpl1\u001b[38;5;241m.\u001b[39mloc[(pcpl1[\u001b[38;5;124m'\u001b[39m\u001b[38;5;124mtype\u001b[39m\u001b[38;5;124m'\u001b[39m] \u001b[38;5;241m==\u001b[39m \u001b[38;5;124m'\u001b[39m\u001b[38;5;124mS\u001b[39m\u001b[38;5;124m'\u001b[39m)\u001b[38;5;241m&\u001b[39m(pcpl1[\u001b[38;5;124m'\u001b[39m\u001b[38;5;124mposition\u001b[39m\u001b[38;5;124m'\u001b[39m] \u001b[38;5;241m<\u001b[39m \u001b[38;5;241m0\u001b[39m)\u001b[38;5;241m&\u001b[39m(pcpl1[\u001b[38;5;124m'\u001b[39m\u001b[38;5;124mposition_diff\u001b[39m\u001b[38;5;124m'\u001b[39m] \u001b[38;5;241m<\u001b[39m \u001b[38;5;241m0\u001b[39m), \u001b[38;5;124m'\u001b[39m\u001b[38;5;124mposition_diff\u001b[39m\u001b[38;5;124m'\u001b[39m]) \u001b[38;5;241m*\u001b[39m \u001b[38;5;241m3\u001b[39m \u001b[38;5;241m*\u001b[39m pcpl1\u001b[38;5;241m.\u001b[39mloc[(pcpl1[\u001b[38;5;124m'\u001b[39m\u001b[38;5;124mtype\u001b[39m\u001b[38;5;124m'\u001b[39m] \u001b[38;5;241m==\u001b[39m \u001b[38;5;124m'\u001b[39m\u001b[38;5;124mS\u001b[39m\u001b[38;5;124m'\u001b[39m)\u001b[38;5;241m&\u001b[39m(pcpl1[\u001b[38;5;124m'\u001b[39m\u001b[38;5;124mposition\u001b[39m\u001b[38;5;124m'\u001b[39m] \u001b[38;5;241m<\u001b[39m \u001b[38;5;241m0\u001b[39m)\u001b[38;5;241m&\u001b[39m(pcpl1[\u001b[38;5;124m'\u001b[39m\u001b[38;5;124mposition_diff\u001b[39m\u001b[38;5;124m'\u001b[39m] \u001b[38;5;241m<\u001b[39m \u001b[38;5;241m0\u001b[39m), \u001b[38;5;124m'\u001b[39m\u001b[38;5;124mopen price\u001b[39m\u001b[38;5;124m'\u001b[39m]\n\u001b[1;32m---> 26\u001b[0m \u001b[43mpcp11\u001b[49m\u001b[38;5;241m.\u001b[39mto_csv(\u001b[38;5;124m\"\u001b[39m\u001b[38;5;124mlgbm_close_31_strat.csv\u001b[39m\u001b[38;5;124m\"\u001b[39m)\n\u001b[0;32m     28\u001b[0m \u001b[38;5;66;03m# cash = pcpl1.groupby('time')['cash_diff'].sum()\u001b[39;00m\n\u001b[0;32m     30\u001b[0m pcpl1[\u001b[38;5;124m'\u001b[39m\u001b[38;5;124mcash\u001b[39m\u001b[38;5;124m'\u001b[39m] \u001b[38;5;241m=\u001b[39m pcpl1[\u001b[38;5;124m'\u001b[39m\u001b[38;5;124mclose\u001b[39m\u001b[38;5;124m'\u001b[39m] \u001b[38;5;241m-\u001b[39m pcpl1[\u001b[38;5;124m'\u001b[39m\u001b[38;5;124mopen price\u001b[39m\u001b[38;5;124m'\u001b[39m]\n",
      "\u001b[1;31mNameError\u001b[0m: name 'pcp11' is not defined"
     ]
    }
   ],
   "source": [
    "time0 = pcpl1['time'].sort_values().iloc[0]\n",
    "timen = pcpl1['time'].sort_values().iloc[-1]\n",
    "\n",
    "# 开仓价为上一个tick的close\n",
    "pcpl1['open price'] = pcpl1.groupby('code')['close'].shift()\n",
    "\n",
    "pcpl1['profit_position_diff'] = pcpl1.groupby('code')['profit_position'].diff()\n",
    "pcpl1.loc[pcpl1['time'] == time0, 'profit_position_diff'] = pcpl1.loc[pcpl1['time'] == time0, 'profit_position']\n",
    "# pcpl1.loc[pcpl1['time'] == timen, 'cash_diff'] = pcpl1.loc[pcpl1['time'] == timen, 'position'] * pcpl1.loc[pcpl1['time'] == timen, 'close']\n",
    "pcpl1['profit_cost'] = np.abs(pcpl1['profit_position_diff']) * 1.3\n",
    "pcpl1.loc[(pcpl1['position'] < 0)&(pcpl1['profit_position_diff'] < 0), 'profit_cost'] = 0\n",
    "\n",
    "pcpl1['hedge_position_diff'] = pcpl1.groupby('code')['hedge_position'].diff()\n",
    "pcpl1.loc[pcpl1['time'] == time0, 'hedge_position_diff'] = pcpl1.loc[pcpl1['time'] == time0, 'hedge_position']\n",
    "pcpl1.loc[pcpl1['type'] != 'S', 'hedge_cost'] = np.abs(pcpl1.loc[pcpl1['type'] != 'S', 'hedge_position_diff']) * 1.3\n",
    "pcpl1.loc[(pcpl1['type'] != 'S')&(pcpl1['position'] < 0)&(pcpl1['hedge_position_diff'] < 0), 'hedge_cost'] = 0\n",
    "pcpl1.loc[pcpl1['type'] == 'S', 'hedge_cost'] = np.abs(pcpl1.loc[pcpl1['type'] == 'S', 'hedge_position_diff']) * 0.4 * pcpl1.loc[pcpl1['type'] == 'S', 'close']\n",
    "pcpl1.loc[(pcpl1['type'] == 'S')&(pcpl1['hedge_position'] < 0)&(pcpl1['hedge_position_diff'] < 0), 'hedge_cost'] = np.abs(pcpl1.loc[(pcpl1['type'] == 'S')&(pcpl1['hedge_position'] < 0)&(pcpl1['hedge_position_diff'] < 0), 'hedge_position_diff']) * 3 * pcpl1.loc[(pcpl1['type'] == 'S')&(pcpl1['hedge_position'] < 0)&(pcpl1['hedge_position_diff'] < 0), 'open price']\n",
    "\n",
    "pcpl1['position_diff'] = pcpl1.groupby('code')['position'].diff()\n",
    "pcpl1.loc[pcpl1['time'] == time0, 'position_diff'] = pcpl1.loc[pcpl1['time'] == time0, 'position']\n",
    "pcpl1.loc[pcpl1['type'] != 'S', 'cost'] = np.abs(pcpl1.loc[pcpl1['type'] != 'S', 'position_diff']) * 1.3\n",
    "pcpl1.loc[(pcpl1['type'] != 'S')&(pcpl1['position'] < 0)&(pcpl1['position_diff'] < 0), 'cost'] = 0\n",
    "pcpl1.loc[pcpl1['type'] == 'S', 'cost'] = np.abs(pcpl1.loc[pcpl1['type'] == 'S', 'position_diff']) * 0.4 * pcpl1.loc[pcpl1['type'] == 'S', 'close']\n",
    "pcpl1.loc[(pcpl1['type'] == 'S')&(pcpl1['position'] < 0)&(pcpl1['position_diff'] < 0), 'cost'] = np.abs(pcpl1.loc[(pcpl1['type'] == 'S')&(pcpl1['position'] < 0)&(pcpl1['position_diff'] < 0), 'position_diff']) * 3 * pcpl1.loc[(pcpl1['type'] == 'S')&(pcpl1['position'] < 0)&(pcpl1['position_diff'] < 0), 'open price']\n",
    "\n",
    "# cash = pcpl1.groupby('time')['cash_diff'].sum()\n",
    "\n",
    "pcpl1['cash'] = pcpl1['close'] - pcpl1['open price']\n",
    "pcpl1['cash'] = pcpl1['cash'] * pcpl1['position'] * 10000\n",
    "pcpl1.loc[pcpl1['type'] == 'C', 'out moneyness'] = (-pcpl1.loc[pcpl1['type'] == 'C', 'close'] + pcpl1.loc[pcpl1['type'] == 'C', 'strike price']).apply(lambda x: max(x, 0))\n",
    "pcpl1.loc[pcpl1['type'] == 'P', 'out moneyness'] = (pcpl1.loc[pcpl1['type'] == 'P', 'close'] - pcpl1.loc[pcpl1['type'] == 'P', 'strike price']).apply(lambda x: max(x, 0))\n",
    "pcpl1['margin'] = pcpl1.apply(lambda x:max(-(min(x['open price'] + max(0.12*x['spot price'] - x['out moneyness'], 0.07 * x['strike price']), x['strike price'])) * 1e4 * x['position'], x['open price'] * x['position'] * 1e4), axis = 1)\n",
    "pcpl1['fund_cost'] = pcpl1['margin'] * 0.04/250/48\n",
    "pcpl1['fund_cost'] = pcpl1['fund_cost'].fillna(0)\n",
    "pcpl1['cost'] = pcpl1['cost'].fillna(0)\n",
    "pcpl1['cash_net'] = pcpl1['cash'] - pcpl1['cost'] - pcpl1['fund_cost']"
   ]
  },
  {
   "cell_type": "code",
   "execution_count": 20,
   "id": "66e2005d",
   "metadata": {},
   "outputs": [],
   "source": [
    "pcpl1.to_csv(\"lgbm_close_31_strat.csv\")"
   ]
  },
  {
   "cell_type": "code",
   "execution_count": 147,
   "id": "4b53efce",
   "metadata": {},
   "outputs": [
    {
     "data": {
      "text/plain": [
       "<matplotlib.legend.Legend at 0x7f94ee7b88b0>"
      ]
     },
     "execution_count": 147,
     "metadata": {},
     "output_type": "execute_result"
    },
    {
     "data": {
      "image/png": "[encoded data removed]",
      "text/plain": [
       "<Figure size 720x360 with 1 Axes>"
      ]
     },
     "metadata": {
      "needs_background": "light"
     },
     "output_type": "display_data"
    }
   ],
   "source": [
    "plt.figure(figsize=(10, 5))\n",
    "plt.title('Return Decomposition')\n",
    "pcpl1['delta_p'] = pcpl1['delta']*pcpl1['position']\n",
    "delta_p = pcpl1.groupby('time')['delta_p'].sum()\n",
    "delta_p = (pcpl1.loc[pcpl1['type'] == 'S', 'close'].diff()).values * delta_p * 1e4\n",
    "pcpl1['vega_p'] = pcpl1.groupby('code')['sabr vol'].diff()\n",
    "pcpl1['arbi'] = pcpl1.groupby('code')['black vol'].diff() - pcpl1['vega_p']\n",
    "pcpl1['arbi'] = pcpl1['arbi'] * pcpl1['vega'].values * pcpl1['position'].values * 1e4\n",
    "pcpl1['vega_p'] = pcpl1['vega_p'] * pcpl1['vega'].values * pcpl1['position'].values * 1e4\n",
    "pcpl1['gamma_p'] = pcpl1['gamma']*pcpl1['position'].values\n",
    "gamma_p = pcpl1.groupby('time')['gamma_p'].sum()\n",
    "gamma_p = ((pcpl1.loc[pcpl1['type'] == 'S', 'close'].diff()).values)**2 * gamma_p/2 * 1e4\n",
    "pcpl1['theta_p'] = pcpl1.groupby('code')['time_to_mature'].diff()\n",
    "pcpl1['theta_p'] = pcpl1['theta_p'] * pcpl1['theta'].values * pcpl1['position'].values * 1e4\n",
    "plt.plot(delta_p.cumsum(), label='delta')\n",
    "plt.plot(pcpl1.groupby('time')['vega_p'].sum().cumsum(), label='vega')\n",
    "plt.plot(gamma_p.cumsum(), label='gamma')\n",
    "plt.plot(pcpl1.groupby('time')['theta_p'].sum().cumsum(), label='theta')\n",
    "plt.plot(pcpl1.groupby('time')['arbi'].sum().cumsum(), label = 'vol shift')\n",
    "plt.legend()"
   ]
  },
  {
   "cell_type": "code",
   "execution_count": 148,
   "id": "5f3b11b9",
   "metadata": {},
   "outputs": [
    {
     "data": {
      "text/plain": [
       "<matplotlib.legend.Legend at 0x7f946bf5c4c0>"
      ]
     },
     "execution_count": 148,
     "metadata": {},
     "output_type": "execute_result"
    },
    {
     "data": {
      "image/png": "[encoded data removed]",
      "text/plain": [
       "<Figure size 720x360 with 1 Axes>"
      ]
     },
     "metadata": {
      "needs_background": "light"
     },
     "output_type": "display_data"
    }
   ],
   "source": [
    "plt.figure(figsize = (10, 5))\n",
    "plt.title('Strategy Return')\n",
    "plt.plot(pcpl1.groupby('time')['cash'].sum().cumsum(), label = 'Return Without Cost')\n",
    "plt.plot(pcpl1.groupby('time')['cash_net'].sum().cumsum(), label = 'Return With Cost')\n",
    "plt.plot(delta_p.cumsum()+pcpl1.groupby('time')['vega_p'].sum().cumsum()+gamma_p.cumsum()+pcpl1.groupby('time')['theta_p'].sum().cumsum()+pcpl1.groupby('time')['arbi'].sum().cumsum(), label='Greeks Return')\n",
    "plt.legend()"
   ]
  },
  {
   "cell_type": "code",
   "execution_count": 149,
   "id": "feae06b5",
   "metadata": {},
   "outputs": [
    {
     "data": {
      "text/plain": [
       "[<matplotlib.lines.Line2D at 0x7f94dabe4d30>]"
      ]
     },
     "execution_count": 149,
     "metadata": {},
     "output_type": "execute_result"
    },
    {
     "data": {
      "image/png": "[encoded data removed]",
      "text/plain": [
       "<Figure size 720x360 with 1 Axes>"
      ]
     },
     "metadata": {
      "needs_background": "light"
     },
     "output_type": "display_data"
    }
   ],
   "source": [
    "plt.figure(figsize = (10, 5))\n",
    "plt.title('Cost Decomposition')\n",
    "plt.stackplot(np.unique(pcpl1['time']), pcpl1.groupby('time')['profit_cost'].sum().cumsum(), pcpl1.groupby('time')['hedge_cost'].sum().cumsum())\n",
    "plt.plot(pcpl1.groupby('time')['cost'].sum().cumsum(), color='r')"
   ]
  },
  {
   "cell_type": "code",
   "execution_count": 150,
   "id": "ee122fd6",
   "metadata": {},
   "outputs": [
    {
     "data": {
      "image/png": "[encoded data removed]",
      "text/plain": [
       "<Figure size 720x360 with 2 Axes>"
      ]
     },
     "metadata": {
      "needs_background": "light"
     },
     "output_type": "display_data"
    }
   ],
   "source": [
    "pcpl1['notional'] = np.abs(pcpl1['position'] * pcpl1['spot price'])\n",
    "\n",
    "fig, ax = plt.subplots(figsize=(10, 5))\n",
    "ax.plot(pcpl1.groupby('time')['notional'].sum(), c='b',ls='--',label='notional amount')\n",
    "ax.set_xlabel('time', fontsize=16)\n",
    "ax.set_ylabel('Notional Amount', color='b', fontsize=16)\n",
    "ax.tick_params('y', colors='b')\n",
    "ax.legend()\n",
    "\n",
    "ax2 = ax.twinx()\n",
    "ax2.plot(pcpl1.loc[pcpl1['position'] != 0, :].groupby('time').size(), c='r', ls=\":\",label='Position')\n",
    "ax2.set_ylabel('Contract Number',color='r', fontsize=16)\n",
    "ax2.tick_params('y', colors='r')\n",
    "ax2.legend()\n",
    "\n",
    "plt.title('Position Fluctuate', fontsize=16)\n",
    "plt.show() "
   ]
  },
  {
   "cell_type": "code",
   "execution_count": 151,
   "id": "11bfb29c",
   "metadata": {},
   "outputs": [
    {
     "data": {
      "text/plain": [
       "time\n",
       "2022-05-26 13:30:00    45.5\n",
       "2022-05-26 13:35:00    45.5\n",
       "2022-05-26 13:40:00    45.5\n",
       "2022-05-26 13:45:00    45.5\n",
       "2022-05-26 13:50:00    45.5\n",
       "                       ... \n",
       "2022-07-26 09:40:00    45.5\n",
       "2022-07-26 09:45:00    45.5\n",
       "2022-07-26 09:50:00    45.5\n",
       "2022-07-26 09:55:00    45.5\n",
       "2022-07-26 10:00:00    45.5\n",
       "Length: 1993, dtype: float64"
      ]
     },
     "execution_count": 151,
     "metadata": {},
     "output_type": "execute_result"
    }
   ],
   "source": [
    "pcpl1.groupby('time')['cash_net'].sum().cumsum() + pcpl1.groupby('time')['cost'].sum().cumsum() + pcpl1.groupby('time')['fund_cost'].sum().cumsum() - pcpl1.groupby('time')['cash'].sum().cumsum()"
   ]
  },
  {
   "cell_type": "code",
   "execution_count": 152,
   "id": "0685ae72",
   "metadata": {},
   "outputs": [
    {
     "data": {
      "text/plain": [
       "time\n",
       "2022-05-26 13:30:00       0.000000\n",
       "2022-05-26 13:35:00    -891.296510\n",
       "2022-05-26 13:40:00   -2372.021437\n",
       "2022-05-26 13:45:00    1071.800350\n",
       "2022-05-26 13:50:00     186.967704\n",
       "                          ...     \n",
       "2022-07-26 09:40:00    4487.558869\n",
       "2022-07-26 09:45:00   -8583.753147\n",
       "2022-07-26 09:50:00    2885.063672\n",
       "2022-07-26 09:55:00   -1626.968557\n",
       "2022-07-26 10:00:00   -6545.736904\n",
       "Name: cash_net, Length: 1993, dtype: float64"
      ]
     },
     "execution_count": 152,
     "metadata": {},
     "output_type": "execute_result"
    }
   ],
   "source": [
    "pcpl1.groupby('time')['cash_net'].sum()"
   ]
  },
  {
   "cell_type": "code",
   "execution_count": 153,
   "id": "a5f3fc46",
   "metadata": {},
   "outputs": [
    {
     "data": {
      "text/plain": [
       "time\n",
       "2022-05-26 13:30:00         0.000000\n",
       "2022-05-26 13:35:00      -891.296510\n",
       "2022-05-26 13:40:00     -3263.317947\n",
       "2022-05-26 13:45:00     -2191.517597\n",
       "2022-05-26 13:50:00     -2004.549893\n",
       "                           ...      \n",
       "2022-07-26 09:40:00   -281571.256095\n",
       "2022-07-26 09:45:00   -290155.009241\n",
       "2022-07-26 09:50:00   -287269.945569\n",
       "2022-07-26 09:55:00   -288896.914127\n",
       "2022-07-26 10:00:00   -295442.651031\n",
       "Name: cash_net, Length: 1993, dtype: float64"
      ]
     },
     "execution_count": 153,
     "metadata": {},
     "output_type": "execute_result"
    }
   ],
   "source": [
    "pcpl1.groupby('time')['cash_net'].sum().cumsum()"
   ]
  },
  {
   "cell_type": "markdown",
   "id": "7eeed69e",
   "metadata": {},
   "source": [
    "### benchmark"
   ]
  },
  {
   "cell_type": "code",
   "execution_count": 154,
   "id": "a43894d4",
   "metadata": {},
   "outputs": [],
   "source": [
    "from sabr_bywynn import BlackScholes, SABR"
   ]
  },
  {
   "cell_type": "code",
   "execution_count": 155,
   "id": "83246f17",
   "metadata": {},
   "outputs": [],
   "source": [
    "data_path = '/Users/chenwynn/Documents/Intern_project/HTSC_Summer/team/SabrSummerProject2022/03_data'\n",
    "f = open(os.path.join(data_path, '300etf_2207_sabr_v1.pkl'),'rb')\n",
    "sabr2207 = pickle.load(f)\n",
    "sabr2207 = sabr2207.loc[:26173, :]\n",
    "#f = open(os.path.join(data_path, '300etf_2208_sabr_v1.pkl'),'rb')\n",
    "#sabr2207 = pickle.load(f)\n",
    "\n",
    "'''\n",
    "f = open(os.path.join(data_path, 'greeks_2207_v1.pkl'),'rb')\n",
    "sabr2207s = pickle.load(f)\n",
    "sabr2207s = sabr2207s.rename(columns = {'bs_iv':'black vol', 'sabr_iv':'sabr vol', 'strike':'strike price'})\n",
    "sabr2207s = sabr2207s.reset_index()\n",
    "'''\n",
    "\n",
    "f = open(os.path.join(data_path, '300etf.pkl'),'rb')\n",
    "etf = pickle.load(f)\n",
    "etf = etf.set_index('time').reindex(pd.Index(np.unique(sabr2207['time']))).reset_index()\n",
    "etf = etf.rename(columns = {'index':'time'})\n",
    "\n",
    "'''\n",
    "volatility spread to generate expected price spread\n",
    "'''\n",
    "sabr2207 = sabr2207.loc[(np.abs(sabr2207['delta']) < 0.9)&(np.abs(sabr2207['delta']) > 0.1), :]\n",
    "\n",
    "def gen_price(x):\n",
    "    isCall = x['type'].apply(lambda x: True if x == 'C' else False)\n",
    "    bs = BlackScholes(x['strike price'], x['time_to_mature'].values[0], x['spot price'].values[0], x['riskfree rate'].values[0], isCall)\n",
    "    x['price'] = bs.black(x['sabr vol'])   \n",
    "    return x\n",
    "\n",
    "sabr2207 = sabr2207.groupby('time').apply(gen_price)\n",
    "\n",
    "#time0 = np.unique(sabr2207['time'])[0]\n",
    "#time1 = np.unique(sabr2207['time'])[480]\n",
    "#try1 = sabr2207.loc[(sabr2207['time']>=time0)&(sabr2207['time']<time1), :]\n",
    "sabr2207['signal'] = sabr2207['close'] - sabr2207['price']\n",
    "sabr2207[['signal','delta', 'vega', 'gamma', 'theta']] = sabr2207.groupby('code')[['signal','delta', 'vega', 'gamma', 'theta']].shift()"
   ]
  },
  {
   "cell_type": "code",
   "execution_count": 156,
   "id": "f3d98bc9",
   "metadata": {},
   "outputs": [
    {
     "name": "stderr",
     "output_type": "stream",
     "text": [
      "my bars:: 100%|██████████| 2016/2016 [00:07<00:00, 275.19it/s]\n",
      "my bars::   1%|          | 23/2016 [00:00<00:18, 105.01it/s]"
     ]
    },
    {
     "name": "stdout",
     "output_type": "stream",
     "text": [
      "Optimization terminated successfully\n",
      "Optimization terminated successfully\n",
      "Optimization terminated successfully\n",
      "Optimization terminated successfully\n",
      "Optimization terminated successfully\n",
      "Optimization terminated successfully\n",
      "Optimization terminated successfully\n",
      "Optimization terminated successfully\n",
      "Optimization terminated successfully\n",
      "Optimization terminated successfully\n",
      "Optimization terminated successfully\n",
      "Optimization terminated successfully\n",
      "Optimization terminated successfully\n",
      "Optimization terminated successfully\n",
      "Optimization terminated successfully\n",
      "Optimization terminated successfully\n"
     ]
    },
    {
     "name": "stderr",
     "output_type": "stream",
     "text": [
      "my bars::   2%|▏         | 34/2016 [00:00<00:22, 88.69it/s] "
     ]
    },
    {
     "name": "stdout",
     "output_type": "stream",
     "text": [
      "Optimization terminated successfully\n",
      "Optimization terminated successfully\n",
      "Optimization terminated successfully\n",
      "Optimization terminated successfully\n",
      "Optimization terminated successfully\n",
      "Optimization terminated successfully\n",
      "Optimization terminated successfully\n",
      "Optimization terminated successfully\n",
      "Optimization terminated successfully\n",
      "Optimization terminated successfully\n",
      "Optimization terminated successfully\n",
      "Optimization terminated successfully\n",
      "Optimization terminated successfully\n",
      "Optimization terminated successfully\n",
      "Optimization terminated successfully\n",
      "Optimization terminated successfully"
     ]
    },
    {
     "name": "stderr",
     "output_type": "stream",
     "text": [
      "my bars::   3%|▎         | 54/2016 [00:00<00:23, 82.11it/s]"
     ]
    },
    {
     "name": "stdout",
     "output_type": "stream",
     "text": [
      "\n",
      "Optimization terminated successfully\n",
      "Optimization terminated successfully\n",
      "Optimization terminated successfully\n",
      "Optimization terminated successfully\n",
      "Optimization terminated successfully\n",
      "Optimization terminated successfully\n",
      "Optimization terminated successfully\n",
      "Optimization terminated successfully\n",
      "Optimization terminated successfully\n",
      "Optimization terminated successfully\n",
      "Optimization terminated successfully\n",
      "Optimization terminated successfully\n",
      "Optimization terminated successfully\n",
      "Optimization terminated successfully\n",
      "Optimization terminated successfully\n",
      "Optimization terminated successfully\n",
      "Optimization terminated successfully\n",
      "Optimization terminated successfully"
     ]
    },
    {
     "name": "stderr",
     "output_type": "stream",
     "text": [
      "my bars::   4%|▎         | 73/2016 [00:00<00:24, 79.36it/s]"
     ]
    },
    {
     "name": "stdout",
     "output_type": "stream",
     "text": [
      "\n",
      "Optimization terminated successfully\n",
      "Optimization terminated successfully\n",
      "Optimization terminated successfully\n",
      "Optimization terminated successfully\n",
      "Optimization terminated successfully\n",
      "Optimization terminated successfully\n",
      "Optimization terminated successfully\n",
      "Optimization terminated successfully\n",
      "Optimization terminated successfully\n",
      "Optimization terminated successfully\n",
      "Optimization terminated successfully\n",
      "Optimization terminated successfully\n",
      "Optimization terminated successfully\n",
      "Optimization terminated successfully"
     ]
    },
    {
     "name": "stderr",
     "output_type": "stream",
     "text": [
      "my bars::   4%|▍         | 90/2016 [00:01<00:24, 77.89it/s]"
     ]
    },
    {
     "name": "stdout",
     "output_type": "stream",
     "text": [
      "\n",
      "Optimization terminated successfully\n",
      "Optimization terminated successfully\n",
      "Optimization terminated successfully\n",
      "Optimization terminated successfully\n",
      "Optimization terminated successfully\n",
      "Optimization terminated successfully\n",
      "Optimization terminated successfully\n",
      "Optimization terminated successfully\n",
      "Optimization terminated successfully\n",
      "Optimization terminated successfully\n",
      "Optimization terminated successfully\n",
      "Optimization terminated successfully\n",
      "Optimization terminated successfully\n",
      "Optimization terminated successfully\n"
     ]
    },
    {
     "name": "stderr",
     "output_type": "stream",
     "text": [
      "my bars::   5%|▌         | 106/2016 [00:01<00:25, 75.92it/s]"
     ]
    },
    {
     "name": "stdout",
     "output_type": "stream",
     "text": [
      "Optimization terminated successfully\n",
      "Optimization terminated successfully\n",
      "Optimization terminated successfully\n",
      "Optimization terminated successfully\n",
      "Optimization terminated successfully\n",
      "Optimization terminated successfully\n",
      "Optimization terminated successfully\n",
      "Optimization terminated successfully\n",
      "Optimization terminated successfully\n",
      "Optimization terminated successfully\n",
      "Optimization terminated successfully\n",
      "Optimization terminated successfully\n",
      "Optimization terminated successfully\n",
      "Optimization terminated successfully\n"
     ]
    },
    {
     "name": "stderr",
     "output_type": "stream",
     "text": [
      "my bars::   6%|▌         | 122/2016 [00:01<00:26, 72.82it/s]"
     ]
    },
    {
     "name": "stdout",
     "output_type": "stream",
     "text": [
      "Optimization terminated successfully\n",
      "Optimization terminated successfully\n",
      "Optimization terminated successfully\n",
      "Optimization terminated successfully\n",
      "Optimization terminated successfully\n",
      "Optimization terminated successfully\n",
      "Optimization terminated successfully\n",
      "Optimization terminated successfully\n",
      "Optimization terminated successfully\n",
      "Optimization terminated successfully\n",
      "Optimization terminated successfully\n",
      "Optimization terminated successfully\n",
      "Optimization terminated successfully\n",
      "Optimization terminated successfully\n"
     ]
    },
    {
     "name": "stderr",
     "output_type": "stream",
     "text": [
      "my bars::   7%|▋         | 139/2016 [00:01<00:24, 76.57it/s]"
     ]
    },
    {
     "name": "stdout",
     "output_type": "stream",
     "text": [
      "Optimization terminated successfully\n",
      "Optimization terminated successfully\n",
      "Optimization terminated successfully\n",
      "Optimization terminated successfully\n",
      "Optimization terminated successfully\n",
      "Optimization terminated successfully\n",
      "Optimization terminated successfully\n",
      "Optimization terminated successfully\n",
      "Optimization terminated successfully\n",
      "Optimization terminated successfully\n",
      "Optimization terminated successfully\n",
      "Optimization terminated successfully\n",
      "Optimization terminated successfully\n"
     ]
    },
    {
     "name": "stderr",
     "output_type": "stream",
     "text": [
      "my bars::   8%|▊         | 157/2016 [00:01<00:24, 76.67it/s]"
     ]
    },
    {
     "name": "stdout",
     "output_type": "stream",
     "text": [
      "Optimization terminated successfully\n",
      "Optimization terminated successfully\n",
      "Optimization terminated successfully\n",
      "Optimization terminated successfully\n",
      "Optimization terminated successfully\n",
      "Optimization terminated successfully\n",
      "Optimization terminated successfully\n",
      "Optimization terminated successfully\n",
      "Optimization terminated successfully\n",
      "Optimization terminated successfully\n",
      "Optimization terminated successfully\n",
      "Optimization terminated successfully\n",
      "Optimization terminated successfully\n",
      "Optimization terminated successfully"
     ]
    },
    {
     "name": "stderr",
     "output_type": "stream",
     "text": [
      "my bars::   9%|▊         | 173/2016 [00:02<00:24, 74.85it/s]"
     ]
    },
    {
     "name": "stdout",
     "output_type": "stream",
     "text": [
      "\n",
      "Optimization terminated successfully\n",
      "Optimization terminated successfully\n",
      "Optimization terminated successfully\n",
      "Optimization terminated successfully\n",
      "Optimization terminated successfully\n",
      "Optimization terminated successfully\n",
      "Optimization terminated successfully\n",
      "Optimization terminated successfully\n",
      "Optimization terminated successfully\n",
      "Optimization terminated successfully\n",
      "Optimization terminated successfully\n",
      "Optimization terminated successfully\n",
      "Optimization terminated successfully\n",
      "Optimization terminated successfully\n"
     ]
    },
    {
     "name": "stderr",
     "output_type": "stream",
     "text": [
      "my bars::   9%|▉         | 189/2016 [00:02<00:25, 71.62it/s]"
     ]
    },
    {
     "name": "stdout",
     "output_type": "stream",
     "text": [
      "Optimization terminated successfully\n",
      "Optimization terminated successfully\n",
      "Optimization terminated successfully\n",
      "Optimization terminated successfully\n",
      "Optimization terminated successfully\n",
      "Optimization terminated successfully\n",
      "Optimization terminated successfully\n",
      "Optimization terminated successfully\n",
      "Optimization terminated successfully\n",
      "Optimization terminated successfully\n",
      "Optimization terminated successfully\n",
      "Optimization terminated successfully\n",
      "Optimization terminated successfully\n",
      "Optimization terminated successfully\n",
      "Optimization terminated successfully\n"
     ]
    },
    {
     "name": "stderr",
     "output_type": "stream",
     "text": [
      "my bars::  10%|█         | 210/2016 [00:02<00:20, 86.94it/s]"
     ]
    },
    {
     "name": "stdout",
     "output_type": "stream",
     "text": [
      "Optimization terminated successfully\n",
      "Optimization terminated successfully\n",
      "Optimization terminated successfully\n",
      "Optimization terminated successfully\n",
      "Optimization terminated successfully\n",
      "Optimization terminated successfully\n",
      "Optimization terminated successfully\n",
      "Optimization terminated successfully\n",
      "Optimization terminated successfully\n",
      "Optimization terminated successfully\n",
      "Optimization terminated successfully\n",
      "Optimization terminated successfully\n",
      "Optimization terminated successfully\n",
      "Optimization terminated successfully\n",
      "Optimization terminated successfully\n"
     ]
    },
    {
     "name": "stderr",
     "output_type": "stream",
     "text": [
      "my bars::  11%|█▏        | 228/2016 [00:02<00:22, 80.20it/s]"
     ]
    },
    {
     "name": "stdout",
     "output_type": "stream",
     "text": [
      "Optimization terminated successfully\n",
      "Optimization terminated successfully\n",
      "Optimization terminated successfully\n",
      "Optimization terminated successfully\n",
      "Optimization terminated successfully\n",
      "Optimization terminated successfully\n",
      "Optimization terminated successfully\n",
      "Optimization terminated successfully\n",
      "Optimization terminated successfully\n",
      "Optimization terminated successfully\n",
      "Optimization terminated successfully\n",
      "Optimization terminated successfully\n",
      "Optimization terminated successfully\n",
      "Optimization terminated successfully\n",
      "Optimization terminated successfully\n"
     ]
    },
    {
     "name": "stderr",
     "output_type": "stream",
     "text": [
      "my bars::  12%|█▏        | 247/2016 [00:03<00:21, 81.55it/s]"
     ]
    },
    {
     "name": "stdout",
     "output_type": "stream",
     "text": [
      "Optimization terminated successfully\n",
      "Optimization terminated successfully\n",
      "Optimization terminated successfully\n",
      "Optimization terminated successfully\n",
      "Optimization terminated successfully\n",
      "Optimization terminated successfully\n",
      "Optimization terminated successfully\n",
      "Optimization terminated successfully\n",
      "Optimization terminated successfully\n",
      "Optimization terminated successfully\n",
      "Optimization terminated successfully\n",
      "Optimization terminated successfully\n",
      "Optimization terminated successfully\n",
      "Optimization terminated successfully"
     ]
    },
    {
     "name": "stderr",
     "output_type": "stream",
     "text": [
      "my bars::  13%|█▎        | 265/2016 [00:03<00:21, 80.47it/s]"
     ]
    },
    {
     "name": "stdout",
     "output_type": "stream",
     "text": [
      "\n",
      "Optimization terminated successfully\n",
      "Optimization terminated successfully\n",
      "Optimization terminated successfully\n",
      "Optimization terminated successfully\n",
      "Optimization terminated successfully\n",
      "Optimization terminated successfully\n",
      "Optimization terminated successfully\n",
      "Optimization terminated successfully\n",
      "Optimization terminated successfully\n",
      "Optimization terminated successfully\n",
      "Optimization terminated successfully\n",
      "Optimization terminated successfully\n",
      "Optimization terminated successfully\n",
      "Optimization terminated successfully\n",
      "Optimization terminated successfully"
     ]
    },
    {
     "name": "stderr",
     "output_type": "stream",
     "text": [
      "my bars::  14%|█▍        | 282/2016 [00:03<00:24, 71.92it/s]"
     ]
    },
    {
     "name": "stdout",
     "output_type": "stream",
     "text": [
      "\n",
      "Optimization terminated successfully\n",
      "Optimization terminated successfully\n",
      "Optimization terminated successfully\n",
      "Optimization terminated successfully\n",
      "Optimization terminated successfully\n",
      "Optimization terminated successfully\n",
      "Optimization terminated successfully\n",
      "Optimization terminated successfully\n",
      "Optimization terminated successfully\n",
      "Optimization terminated successfully\n",
      "Optimization terminated successfully\n",
      "Optimization terminated successfully\n",
      "Optimization terminated successfully\n",
      "Optimization terminated successfully\n",
      "Optimization terminated successfully"
     ]
    },
    {
     "name": "stderr",
     "output_type": "stream",
     "text": [
      "my bars::  15%|█▍        | 299/2016 [00:03<00:23, 72.95it/s]"
     ]
    },
    {
     "name": "stdout",
     "output_type": "stream",
     "text": [
      "\n",
      "Optimization terminated successfully\n",
      "Optimization terminated successfully\n",
      "Optimization terminated successfully\n",
      "Optimization terminated successfully\n",
      "Optimization terminated successfully\n",
      "Optimization terminated successfully\n",
      "Optimization terminated successfully\n",
      "Optimization terminated successfully\n",
      "Optimization terminated successfully\n",
      "Optimization terminated successfully\n",
      "Optimization terminated successfully\n",
      "Optimization terminated successfully\n",
      "Optimization terminated successfully\n",
      "Optimization terminated successfully\n",
      "Optimization terminated successfully\n"
     ]
    },
    {
     "name": "stderr",
     "output_type": "stream",
     "text": [
      "my bars::  16%|█▌        | 315/2016 [00:04<00:23, 72.93it/s]"
     ]
    },
    {
     "name": "stdout",
     "output_type": "stream",
     "text": [
      "Optimization terminated successfully\n",
      "Optimization terminated successfully\n",
      "Optimization terminated successfully\n",
      "Optimization terminated successfully\n",
      "Optimization terminated successfully\n",
      "Optimization terminated successfully\n",
      "Optimization terminated successfully\n",
      "Optimization terminated successfully\n",
      "Optimization terminated successfully\n",
      "Optimization terminated successfully\n",
      "Optimization terminated successfully\n",
      "Optimization terminated successfully\n",
      "Optimization terminated successfully\n",
      "Optimization terminated successfully\n",
      "Optimization terminated successfully\n",
      "Optimization terminated successfully\n",
      "Optimization terminated successfully"
     ]
    },
    {
     "name": "stderr",
     "output_type": "stream",
     "text": [
      "my bars::  16%|█▋        | 332/2016 [00:04<00:22, 74.93it/s]"
     ]
    },
    {
     "name": "stdout",
     "output_type": "stream",
     "text": [
      "\n",
      "Optimization terminated successfully\n",
      "Optimization terminated successfully\n",
      "Optimization terminated successfully\n",
      "Optimization terminated successfully\n",
      "Optimization terminated successfully\n",
      "Optimization terminated successfully\n",
      "Optimization terminated successfully\n",
      "Optimization terminated successfully\n",
      "Optimization terminated successfully\n",
      "Optimization terminated successfully\n",
      "Optimization terminated successfully\n",
      "Optimization terminated successfully\n",
      "Optimization terminated successfully\n",
      "Optimization terminated successfully\n",
      "Optimization terminated successfully"
     ]
    },
    {
     "name": "stderr",
     "output_type": "stream",
     "text": [
      "my bars::  17%|█▋        | 348/2016 [00:04<00:22, 73.96it/s]"
     ]
    },
    {
     "name": "stdout",
     "output_type": "stream",
     "text": [
      "\n",
      "Optimization terminated successfully\n",
      "Optimization terminated successfully\n",
      "Optimization terminated successfully\n",
      "Optimization terminated successfully\n",
      "Optimization terminated successfully\n",
      "Optimization terminated successfully\n",
      "Optimization terminated successfully\n",
      "Optimization terminated successfully\n",
      "Optimization terminated successfully\n",
      "Optimization terminated successfully\n",
      "Optimization terminated successfully\n",
      "Optimization terminated successfully\n",
      "Optimization terminated successfully\n",
      "Optimization terminated successfully\n",
      "Optimization terminated successfully"
     ]
    },
    {
     "name": "stderr",
     "output_type": "stream",
     "text": [
      "my bars::  18%|█▊        | 364/2016 [00:04<00:23, 69.51it/s]"
     ]
    },
    {
     "name": "stdout",
     "output_type": "stream",
     "text": [
      "\n",
      "Optimization terminated successfully\n",
      "Optimization terminated successfully\n",
      "Optimization terminated successfully\n",
      "Optimization terminated successfully\n",
      "Optimization terminated successfully\n",
      "Optimization terminated successfully\n",
      "Optimization terminated successfully\n",
      "Optimization terminated successfully\n",
      "Optimization terminated successfully\n",
      "Optimization terminated successfully\n",
      "Optimization terminated successfully\n",
      "Optimization terminated successfully\n",
      "Optimization terminated successfully"
     ]
    },
    {
     "name": "stderr",
     "output_type": "stream",
     "text": [
      "my bars::  19%|█▉        | 378/2016 [00:04<00:24, 65.73it/s]"
     ]
    },
    {
     "name": "stdout",
     "output_type": "stream",
     "text": [
      "\n",
      "Optimization terminated successfully\n",
      "Optimization terminated successfully\n",
      "Optimization terminated successfully\n",
      "Optimization terminated successfully\n",
      "Optimization terminated successfully\n",
      "Optimization terminated successfully\n",
      "Optimization terminated successfully\n",
      "Optimization terminated successfully\n",
      "Optimization terminated successfully\n",
      "Optimization terminated successfully\n",
      "Optimization terminated successfully\n",
      "Optimization terminated successfully\n",
      "Optimization terminated successfully\n"
     ]
    },
    {
     "name": "stderr",
     "output_type": "stream",
     "text": [
      "my bars::  19%|█▉        | 392/2016 [00:05<00:24, 67.65it/s]"
     ]
    },
    {
     "name": "stdout",
     "output_type": "stream",
     "text": [
      "Optimization terminated successfully\n",
      "Optimization terminated successfully\n",
      "Optimization terminated successfully\n",
      "Optimization terminated successfully\n",
      "Optimization terminated successfully\n",
      "Optimization terminated successfully\n",
      "Optimization terminated successfully\n",
      "Optimization terminated successfully\n",
      "Optimization terminated successfully\n",
      "Optimization terminated successfully\n",
      "Optimization terminated successfully\n",
      "Optimization terminated successfully\n",
      "Optimization terminated successfully\n"
     ]
    },
    {
     "name": "stderr",
     "output_type": "stream",
     "text": [
      "my bars::  20%|██        | 406/2016 [00:05<00:25, 63.76it/s]"
     ]
    },
    {
     "name": "stdout",
     "output_type": "stream",
     "text": [
      "Optimization terminated successfully\n",
      "Optimization terminated successfully\n",
      "Optimization terminated successfully\n",
      "Optimization terminated successfully\n",
      "Optimization terminated successfully\n",
      "Optimization terminated successfully\n",
      "Optimization terminated successfully\n",
      "Optimization terminated successfully\n",
      "Optimization terminated successfully\n",
      "Optimization terminated successfully\n",
      "Optimization terminated successfully\n",
      "Optimization terminated successfully\n",
      "Optimization terminated successfully\n"
     ]
    },
    {
     "name": "stderr",
     "output_type": "stream",
     "text": [
      "my bars::  21%|██        | 421/2016 [00:05<00:23, 67.62it/s]"
     ]
    },
    {
     "name": "stdout",
     "output_type": "stream",
     "text": [
      "Optimization terminated successfully\n",
      "Optimization terminated successfully\n",
      "Optimization terminated successfully\n",
      "Optimization terminated successfully\n",
      "Optimization terminated successfully\n",
      "Optimization terminated successfully\n",
      "Optimization terminated successfully\n",
      "Optimization terminated successfully\n",
      "Optimization terminated successfully\n",
      "Optimization terminated successfully\n",
      "Optimization terminated successfully\n",
      "Optimization terminated successfully\n",
      "Optimization terminated successfully\n",
      "Optimization terminated successfully\n",
      "Optimization terminated successfully"
     ]
    },
    {
     "name": "stderr",
     "output_type": "stream",
     "text": [
      "my bars::  22%|██▏       | 435/2016 [00:05<00:23, 68.10it/s]"
     ]
    },
    {
     "name": "stdout",
     "output_type": "stream",
     "text": [
      "\n",
      "Optimization terminated successfully\n",
      "Optimization terminated successfully\n",
      "Optimization terminated successfully\n",
      "Optimization terminated successfully\n",
      "Optimization terminated successfully\n",
      "Optimization terminated successfully\n",
      "Optimization terminated successfully\n",
      "Optimization terminated successfully\n",
      "Optimization terminated successfully\n",
      "Optimization terminated successfully\n",
      "Optimization terminated successfully\n",
      "Optimization terminated successfully"
     ]
    },
    {
     "name": "stderr",
     "output_type": "stream",
     "text": [
      "my bars::  22%|██▏       | 450/2016 [00:06<00:22, 70.38it/s]"
     ]
    },
    {
     "name": "stdout",
     "output_type": "stream",
     "text": [
      "\n",
      "Optimization terminated successfully\n",
      "Optimization terminated successfully\n",
      "Optimization terminated successfully\n",
      "Optimization terminated successfully\n",
      "Optimization terminated successfully\n",
      "Optimization terminated successfully\n",
      "Optimization terminated successfully\n",
      "Optimization terminated successfully\n",
      "Optimization terminated successfully\n",
      "Optimization terminated successfully\n",
      "Optimization terminated successfully\n",
      "Optimization terminated successfully\n",
      "Optimization terminated successfully\n"
     ]
    },
    {
     "name": "stderr",
     "output_type": "stream",
     "text": [
      "my bars::  23%|██▎       | 467/2016 [00:06<00:20, 75.18it/s]"
     ]
    },
    {
     "name": "stdout",
     "output_type": "stream",
     "text": [
      "Optimization terminated successfully\n",
      "Optimization terminated successfully\n",
      "Optimization terminated successfully\n",
      "Optimization terminated successfully\n",
      "Optimization terminated successfully\n",
      "Optimization terminated successfully\n",
      "Optimization terminated successfully\n",
      "Optimization terminated successfully\n",
      "Optimization terminated successfully\n",
      "Optimization terminated successfully\n",
      "Optimization terminated successfully\n",
      "Optimization terminated successfully\n",
      "Optimization terminated successfully\n",
      "Optimization terminated successfully\n",
      "Optimization terminated successfully"
     ]
    },
    {
     "name": "stderr",
     "output_type": "stream",
     "text": [
      "my bars::  24%|██▍       | 485/2016 [00:06<00:19, 79.77it/s]"
     ]
    },
    {
     "name": "stdout",
     "output_type": "stream",
     "text": [
      "\n",
      "Optimization terminated successfully\n",
      "Optimization terminated successfully\n",
      "Optimization terminated successfully\n",
      "Optimization terminated successfully\n",
      "Optimization terminated successfully\n",
      "Optimization terminated successfully\n",
      "Optimization terminated successfully\n",
      "Optimization terminated successfully\n",
      "Optimization terminated successfully\n",
      "Optimization terminated successfully\n",
      "Optimization terminated successfully\n",
      "Optimization terminated successfully\n",
      "Optimization terminated successfully\n",
      "Optimization terminated successfully"
     ]
    },
    {
     "name": "stderr",
     "output_type": "stream",
     "text": [
      "my bars::  25%|██▍       | 501/2016 [00:06<00:20, 73.12it/s]"
     ]
    },
    {
     "name": "stdout",
     "output_type": "stream",
     "text": [
      "\n",
      "Optimization terminated successfully\n",
      "Optimization terminated successfully\n",
      "Optimization terminated successfully\n",
      "Optimization terminated successfully\n",
      "Optimization terminated successfully\n",
      "Optimization terminated successfully\n",
      "Optimization terminated successfully\n",
      "Optimization terminated successfully\n",
      "Optimization terminated successfully\n",
      "Optimization terminated successfully\n",
      "Optimization terminated successfully\n",
      "Optimization terminated successfully\n"
     ]
    },
    {
     "name": "stderr",
     "output_type": "stream",
     "text": [
      "my bars::  26%|██▌       | 516/2016 [00:06<00:21, 68.68it/s]"
     ]
    },
    {
     "name": "stdout",
     "output_type": "stream",
     "text": [
      "Optimization terminated successfully\n",
      "Optimization terminated successfully\n",
      "Optimization terminated successfully\n",
      "Optimization terminated successfully\n",
      "Optimization terminated successfully\n",
      "Optimization terminated successfully\n",
      "Optimization terminated successfully\n",
      "Optimization terminated successfully\n",
      "Optimization terminated successfully\n",
      "Optimization terminated successfully\n",
      "Optimization terminated successfully\n",
      "Optimization terminated successfully\n",
      "Optimization terminated successfully\n",
      "Optimization terminated successfully\n",
      "Optimization terminated successfully"
     ]
    },
    {
     "name": "stderr",
     "output_type": "stream",
     "text": [
      "my bars::  26%|██▋       | 530/2016 [00:07<00:21, 68.64it/s]"
     ]
    },
    {
     "name": "stdout",
     "output_type": "stream",
     "text": [
      "\n",
      "Optimization terminated successfully\n",
      "Optimization terminated successfully\n",
      "Optimization terminated successfully\n",
      "Optimization terminated successfully\n",
      "Optimization terminated successfully\n",
      "Optimization terminated successfully\n",
      "Optimization terminated successfully\n",
      "Optimization terminated successfully\n",
      "Optimization terminated successfully\n",
      "Optimization terminated successfully\n",
      "Optimization terminated successfully\n",
      "Optimization terminated successfully\n",
      "Optimization terminated successfully\n",
      "Optimization terminated successfully\n"
     ]
    },
    {
     "name": "stderr",
     "output_type": "stream",
     "text": [
      "my bars::  27%|██▋       | 545/2016 [00:07<00:20, 70.25it/s]"
     ]
    },
    {
     "name": "stdout",
     "output_type": "stream",
     "text": [
      "Optimization terminated successfully\n",
      "Optimization terminated successfully\n",
      "Optimization terminated successfully\n",
      "Optimization terminated successfully\n",
      "Optimization terminated successfully\n",
      "Optimization terminated successfully\n",
      "Optimization terminated successfully\n",
      "Optimization terminated successfully\n",
      "Optimization terminated successfully\n",
      "Optimization terminated successfully\n",
      "Optimization terminated successfully\n",
      "Optimization terminated successfully\n",
      "Optimization terminated successfully\n",
      "Optimization terminated successfully\n",
      "Optimization terminated successfully\n",
      "Optimization terminated successfully\n"
     ]
    },
    {
     "name": "stderr",
     "output_type": "stream",
     "text": [
      "my bars::  28%|██▊       | 563/2016 [00:07<00:19, 73.13it/s]"
     ]
    },
    {
     "name": "stdout",
     "output_type": "stream",
     "text": [
      "Optimization terminated successfully\n",
      "Optimization terminated successfully\n",
      "Optimization terminated successfully\n",
      "Optimization terminated successfully\n",
      "Optimization terminated successfully\n",
      "Optimization terminated successfully\n",
      "Optimization terminated successfully\n",
      "Optimization terminated successfully\n",
      "Optimization terminated successfully\n",
      "Optimization terminated successfully\n",
      "Optimization terminated successfully\n",
      "Optimization terminated successfully\n",
      "Optimization terminated successfully\n",
      "Optimization terminated successfully\n",
      "Optimization terminated successfully\n",
      "Optimization terminated successfully"
     ]
    },
    {
     "name": "stderr",
     "output_type": "stream",
     "text": [
      "my bars::  29%|██▊       | 579/2016 [00:07<00:19, 74.20it/s]"
     ]
    },
    {
     "name": "stdout",
     "output_type": "stream",
     "text": [
      "\n",
      "Optimization terminated successfully\n",
      "Optimization terminated successfully\n",
      "Optimization terminated successfully\n",
      "Optimization terminated successfully\n",
      "Optimization terminated successfully\n",
      "Optimization terminated successfully\n",
      "Optimization terminated successfully\n",
      "Optimization terminated successfully\n",
      "Optimization terminated successfully\n",
      "Optimization terminated successfully\n",
      "Optimization terminated successfully\n",
      "Optimization terminated successfully\n",
      "Optimization terminated successfully\n",
      "Optimization terminated successfully\n",
      "Optimization terminated successfully"
     ]
    },
    {
     "name": "stderr",
     "output_type": "stream",
     "text": [
      "my bars::  30%|██▉       | 595/2016 [00:07<00:18, 76.27it/s]"
     ]
    },
    {
     "name": "stdout",
     "output_type": "stream",
     "text": [
      "\n",
      "Optimization terminated successfully\n",
      "Optimization terminated successfully\n",
      "Optimization terminated successfully\n",
      "Optimization terminated successfully\n",
      "Optimization terminated successfully\n",
      "Optimization terminated successfully\n",
      "Optimization terminated successfully\n",
      "Optimization terminated successfully\n",
      "Optimization terminated successfully\n",
      "Optimization terminated successfully\n",
      "Optimization terminated successfully\n",
      "Optimization terminated successfully\n",
      "Optimization terminated successfully\n",
      "Optimization terminated successfully\n",
      "Optimization terminated successfully\n",
      "Optimization terminated successfully"
     ]
    },
    {
     "name": "stderr",
     "output_type": "stream",
     "text": [
      "my bars::  30%|███       | 611/2016 [00:08<00:19, 72.54it/s]"
     ]
    },
    {
     "name": "stdout",
     "output_type": "stream",
     "text": [
      "\n",
      "Optimization terminated successfully\n",
      "Optimization terminated successfully\n",
      "Optimization terminated successfully\n",
      "Optimization terminated successfully\n",
      "Optimization terminated successfully\n",
      "Optimization terminated successfully\n",
      "Optimization terminated successfully\n",
      "Optimization terminated successfully\n",
      "Optimization terminated successfully\n",
      "Optimization terminated successfully\n",
      "Optimization terminated successfully\n",
      "Optimization terminated successfully\n",
      "Optimization terminated successfully\n",
      "Optimization terminated successfully\n",
      "Optimization terminated successfully\n",
      "Optimization terminated successfully"
     ]
    },
    {
     "name": "stderr",
     "output_type": "stream",
     "text": [
      "my bars::  31%|███       | 627/2016 [00:08<00:19, 73.07it/s]"
     ]
    },
    {
     "name": "stdout",
     "output_type": "stream",
     "text": [
      "\n",
      "Optimization terminated successfully\n",
      "Optimization terminated successfully\n",
      "Optimization terminated successfully\n",
      "Optimization terminated successfully\n",
      "Optimization terminated successfully\n",
      "Optimization terminated successfully\n",
      "Optimization terminated successfully\n",
      "Optimization terminated successfully\n",
      "Optimization terminated successfully\n",
      "Optimization terminated successfully\n",
      "Optimization terminated successfully\n",
      "Optimization terminated successfully\n",
      "Optimization terminated successfully\n",
      "Optimization terminated successfully\n",
      "Optimization terminated successfully\n"
     ]
    },
    {
     "name": "stderr",
     "output_type": "stream",
     "text": [
      "my bars::  32%|███▏      | 643/2016 [00:08<00:18, 72.53it/s]"
     ]
    },
    {
     "name": "stdout",
     "output_type": "stream",
     "text": [
      "Optimization terminated successfully\n",
      "Optimization terminated successfully\n",
      "Optimization terminated successfully\n",
      "Optimization terminated successfully\n",
      "Optimization terminated successfully\n",
      "Optimization terminated successfully\n",
      "Optimization terminated successfully\n",
      "Optimization terminated successfully\n",
      "Optimization terminated successfully\n",
      "Optimization terminated successfully\n",
      "Optimization terminated successfully\n",
      "Optimization terminated successfully\n",
      "Optimization terminated successfully\n",
      "Optimization terminated successfully\n",
      "Optimization terminated successfully"
     ]
    },
    {
     "name": "stderr",
     "output_type": "stream",
     "text": [
      "my bars::  33%|███▎      | 660/2016 [00:08<00:17, 76.99it/s]"
     ]
    },
    {
     "name": "stdout",
     "output_type": "stream",
     "text": [
      "\n",
      "Optimization terminated successfully\n",
      "Optimization terminated successfully\n",
      "Optimization terminated successfully\n",
      "Optimization terminated successfully\n",
      "Optimization terminated successfully\n",
      "Optimization terminated successfully\n",
      "Optimization terminated successfully\n",
      "Optimization terminated successfully\n",
      "Optimization terminated successfully\n",
      "Optimization terminated successfully\n",
      "Optimization terminated successfully\n",
      "Optimization terminated successfully\n",
      "Optimization terminated successfully\n",
      "Optimization terminated successfully\n",
      "Optimization terminated successfully\n",
      "Optimization terminated successfully\n",
      "Optimization terminated successfully\n"
     ]
    },
    {
     "name": "stderr",
     "output_type": "stream",
     "text": [
      "my bars::  34%|███▎      | 676/2016 [00:09<00:17, 76.46it/s]"
     ]
    },
    {
     "name": "stdout",
     "output_type": "stream",
     "text": [
      "Optimization terminated successfully\n",
      "Optimization terminated successfully\n",
      "Optimization terminated successfully\n",
      "Optimization terminated successfully\n",
      "Optimization terminated successfully\n",
      "Optimization terminated successfully\n",
      "Optimization terminated successfully\n",
      "Optimization terminated successfully\n",
      "Optimization terminated successfully\n",
      "Optimization terminated successfully\n",
      "Optimization terminated successfully\n",
      "Optimization terminated successfully\n",
      "Optimization terminated successfully\n",
      "Optimization terminated successfully\n",
      "Optimization terminated successfully\n",
      "Optimization terminated successfully\n",
      "Optimization terminated successfully"
     ]
    },
    {
     "name": "stderr",
     "output_type": "stream",
     "text": [
      "my bars::  34%|███▍      | 693/2016 [00:09<00:17, 77.27it/s]"
     ]
    },
    {
     "name": "stdout",
     "output_type": "stream",
     "text": [
      "\n",
      "Optimization terminated successfully\n",
      "Optimization terminated successfully\n",
      "Optimization terminated successfully\n",
      "Optimization terminated successfully\n",
      "Optimization terminated successfully\n",
      "Optimization terminated successfully\n",
      "Optimization terminated successfully\n",
      "Optimization terminated successfully\n",
      "Optimization terminated successfully\n",
      "Optimization terminated successfully\n",
      "Optimization terminated successfully\n",
      "Optimization terminated successfully\n",
      "Optimization terminated successfully\n"
     ]
    },
    {
     "name": "stderr",
     "output_type": "stream",
     "text": [
      "my bars::  35%|███▌      | 709/2016 [00:09<00:17, 73.04it/s]"
     ]
    },
    {
     "name": "stdout",
     "output_type": "stream",
     "text": [
      "Optimization terminated successfully\n",
      "Optimization terminated successfully\n",
      "Optimization terminated successfully\n",
      "Optimization terminated successfully\n",
      "Optimization terminated successfully\n",
      "Optimization terminated successfully\n",
      "Optimization terminated successfully\n",
      "Optimization terminated successfully\n",
      "Optimization terminated successfully\n",
      "Optimization terminated successfully\n",
      "Optimization terminated successfully\n",
      "Optimization terminated successfully\n",
      "Optimization terminated successfully\n"
     ]
    },
    {
     "name": "stderr",
     "output_type": "stream",
     "text": [
      "my bars::  36%|███▌      | 724/2016 [00:09<00:19, 67.68it/s]"
     ]
    },
    {
     "name": "stdout",
     "output_type": "stream",
     "text": [
      "Optimization terminated successfully\n",
      "Optimization terminated successfully\n",
      "Optimization terminated successfully\n",
      "Optimization terminated successfully\n",
      "Optimization terminated successfully\n",
      "Optimization terminated successfully\n",
      "Optimization terminated successfully\n",
      "Optimization terminated successfully\n",
      "Optimization terminated successfully\n",
      "Optimization terminated successfully\n",
      "Optimization terminated successfully\n",
      "Optimization terminated successfully\n",
      "Optimization terminated successfully\n",
      "Optimization terminated successfully\n",
      "Optimization terminated successfully\n",
      "Optimization terminated successfully\n"
     ]
    },
    {
     "name": "stderr",
     "output_type": "stream",
     "text": [
      "my bars::  37%|███▋      | 741/2016 [00:09<00:16, 75.62it/s]"
     ]
    },
    {
     "name": "stdout",
     "output_type": "stream",
     "text": [
      "Optimization terminated successfully\n",
      "Optimization terminated successfully\n",
      "Optimization terminated successfully\n",
      "Optimization terminated successfully\n",
      "Optimization terminated successfully\n",
      "Optimization terminated successfully\n",
      "Optimization terminated successfully\n",
      "Optimization terminated successfully\n",
      "Optimization terminated successfully\n",
      "Optimization terminated successfully\n",
      "Optimization terminated successfully\n",
      "Optimization terminated successfully\n",
      "Optimization terminated successfully\n"
     ]
    },
    {
     "name": "stderr",
     "output_type": "stream",
     "text": [
      "my bars::  38%|███▊      | 758/2016 [00:10<00:16, 76.27it/s]"
     ]
    },
    {
     "name": "stdout",
     "output_type": "stream",
     "text": [
      "Optimization terminated successfully\n",
      "Optimization terminated successfully\n",
      "Optimization terminated successfully\n",
      "Optimization terminated successfully\n",
      "Optimization terminated successfully\n",
      "Optimization terminated successfully\n",
      "Optimization terminated successfully\n",
      "Optimization terminated successfully\n",
      "Optimization terminated successfully\n",
      "Optimization terminated successfully\n",
      "Optimization terminated successfully\n",
      "Optimization terminated successfully\n",
      "Optimization terminated successfully\n",
      "Optimization terminated successfully\n"
     ]
    },
    {
     "name": "stderr",
     "output_type": "stream",
     "text": [
      "my bars::  39%|███▊      | 777/2016 [00:10<00:14, 82.96it/s]"
     ]
    },
    {
     "name": "stdout",
     "output_type": "stream",
     "text": [
      "Optimization terminated successfully\n",
      "Optimization terminated successfully\n",
      "Optimization terminated successfully\n",
      "Optimization terminated successfully\n",
      "Optimization terminated successfully\n",
      "Optimization terminated successfully\n",
      "Optimization terminated successfully\n",
      "Optimization terminated successfully\n",
      "Optimization terminated successfully\n",
      "Optimization terminated successfully\n",
      "Optimization terminated successfully\n",
      "Optimization terminated successfully\n",
      "Optimization terminated successfully\n",
      "Optimization terminated successfully\n",
      "Optimization terminated successfully\n",
      "Optimization terminated successfully\n"
     ]
    },
    {
     "name": "stderr",
     "output_type": "stream",
     "text": [
      "my bars::  39%|███▉      | 794/2016 [00:10<00:16, 75.59it/s]"
     ]
    },
    {
     "name": "stdout",
     "output_type": "stream",
     "text": [
      "Optimization terminated successfully\n",
      "Optimization terminated successfully\n",
      "Optimization terminated successfully\n",
      "Optimization terminated successfully\n",
      "Optimization terminated successfully\n",
      "Optimization terminated successfully\n",
      "Optimization terminated successfully\n",
      "Optimization terminated successfully\n",
      "Optimization terminated successfully\n",
      "Optimization terminated successfully\n",
      "Optimization terminated successfully\n",
      "Optimization terminated successfully\n",
      "Optimization terminated successfully\n",
      "Optimization terminated successfully\n",
      "Optimization terminated successfully\n"
     ]
    },
    {
     "name": "stderr",
     "output_type": "stream",
     "text": [
      "my bars::  40%|████      | 810/2016 [00:10<00:16, 71.38it/s]"
     ]
    },
    {
     "name": "stdout",
     "output_type": "stream",
     "text": [
      "Optimization terminated successfully\n",
      "Optimization terminated successfully\n",
      "Optimization terminated successfully\n",
      "Optimization terminated successfully\n",
      "Optimization terminated successfully\n",
      "Optimization terminated successfully\n",
      "Optimization terminated successfully\n",
      "Optimization terminated successfully\n",
      "Optimization terminated successfully\n",
      "Optimization terminated successfully\n",
      "Optimization terminated successfully\n",
      "Optimization terminated successfully\n",
      "Optimization terminated successfully\n",
      "Optimization terminated successfully\n"
     ]
    },
    {
     "name": "stderr",
     "output_type": "stream",
     "text": [
      "my bars::  41%|████      | 826/2016 [00:11<00:16, 70.21it/s]"
     ]
    },
    {
     "name": "stdout",
     "output_type": "stream",
     "text": [
      "Optimization terminated successfully\n",
      "Optimization terminated successfully\n",
      "Optimization terminated successfully\n",
      "Optimization terminated successfully\n",
      "Optimization terminated successfully\n",
      "Optimization terminated successfully\n",
      "Optimization terminated successfully\n",
      "Optimization terminated successfully\n",
      "Optimization terminated successfully\n",
      "Optimization terminated successfully\n",
      "Optimization terminated successfully\n",
      "Optimization terminated successfully\n",
      "Optimization terminated successfully\n",
      "Optimization terminated successfully\n",
      "Optimization terminated successfully\n",
      "Optimization terminated successfully"
     ]
    },
    {
     "name": "stderr",
     "output_type": "stream",
     "text": [
      "my bars::  42%|████▏     | 842/2016 [00:11<00:16, 70.31it/s]"
     ]
    },
    {
     "name": "stdout",
     "output_type": "stream",
     "text": [
      "\n",
      "Optimization terminated successfully\n",
      "Optimization terminated successfully\n",
      "Optimization terminated successfully\n",
      "Optimization terminated successfully\n",
      "Optimization terminated successfully\n",
      "Optimization terminated successfully\n",
      "Optimization terminated successfully\n",
      "Optimization terminated successfully\n",
      "Optimization terminated successfully\n",
      "Optimization terminated successfully\n",
      "Optimization terminated successfully\n",
      "Optimization terminated successfully\n",
      "Optimization terminated successfully\n",
      "Optimization terminated successfully\n",
      "Optimization terminated successfully\n",
      "Optimization terminated successfully\n"
     ]
    },
    {
     "name": "stderr",
     "output_type": "stream",
     "text": [
      "my bars::  43%|████▎     | 858/2016 [00:11<00:16, 69.66it/s]"
     ]
    },
    {
     "name": "stdout",
     "output_type": "stream",
     "text": [
      "Optimization terminated successfully\n",
      "Optimization terminated successfully\n",
      "Optimization terminated successfully\n",
      "Optimization terminated successfully\n",
      "Optimization terminated successfully\n",
      "Optimization terminated successfully\n",
      "Optimization terminated successfully\n",
      "Optimization terminated successfully\n",
      "Optimization terminated successfully\n",
      "Optimization terminated successfully\n",
      "Optimization terminated successfully\n",
      "Optimization terminated successfully\n",
      "Optimization terminated successfully\n",
      "Optimization terminated successfully\n"
     ]
    },
    {
     "name": "stderr",
     "output_type": "stream",
     "text": [
      "my bars::  43%|████▎     | 872/2016 [00:11<00:17, 67.01it/s]"
     ]
    },
    {
     "name": "stdout",
     "output_type": "stream",
     "text": [
      "Optimization terminated successfully\n",
      "Optimization terminated successfully\n",
      "Optimization terminated successfully\n",
      "Optimization terminated successfully\n",
      "Optimization terminated successfully\n",
      "Optimization terminated successfully\n",
      "Optimization terminated successfully\n",
      "Optimization terminated successfully\n",
      "Optimization terminated successfully\n",
      "Optimization terminated successfully\n",
      "Optimization terminated successfully\n",
      "Optimization terminated successfully\n",
      "Optimization terminated successfully\n",
      "Optimization terminated successfully\n",
      "Optimization terminated successfully"
     ]
    },
    {
     "name": "stderr",
     "output_type": "stream",
     "text": [
      "my bars::  44%|████▍     | 887/2016 [00:12<00:16, 68.56it/s]"
     ]
    },
    {
     "name": "stdout",
     "output_type": "stream",
     "text": [
      "\n",
      "Optimization terminated successfully\n",
      "Optimization terminated successfully\n",
      "Optimization terminated successfully\n",
      "Optimization terminated successfully\n",
      "Optimization terminated successfully\n",
      "Optimization terminated successfully\n",
      "Optimization terminated successfully\n",
      "Optimization terminated successfully\n",
      "Optimization terminated successfully\n",
      "Optimization terminated successfully\n",
      "Optimization terminated successfully\n",
      "Optimization terminated successfully\n",
      "Optimization terminated successfully\n",
      "Optimization terminated successfully\n",
      "Optimization terminated successfully\n",
      "Optimization terminated successfully\n",
      "Optimization terminated successfully"
     ]
    },
    {
     "name": "stderr",
     "output_type": "stream",
     "text": [
      "my bars::  45%|████▍     | 903/2016 [00:12<00:15, 70.22it/s]"
     ]
    },
    {
     "name": "stdout",
     "output_type": "stream",
     "text": [
      "\n",
      "Optimization terminated successfully\n",
      "Optimization terminated successfully\n",
      "Optimization terminated successfully\n",
      "Optimization terminated successfully\n",
      "Optimization terminated successfully\n",
      "Optimization terminated successfully\n",
      "Optimization terminated successfully\n",
      "Optimization terminated successfully\n",
      "Optimization terminated successfully\n",
      "Optimization terminated successfully\n",
      "Optimization terminated successfully\n",
      "Optimization terminated successfully\n",
      "Optimization terminated successfully\n",
      "Optimization terminated successfully\n",
      "Optimization terminated successfully\n",
      "Optimization terminated successfully\n"
     ]
    },
    {
     "name": "stderr",
     "output_type": "stream",
     "text": [
      "my bars::  46%|████▌     | 922/2016 [00:12<00:13, 81.17it/s]"
     ]
    },
    {
     "name": "stdout",
     "output_type": "stream",
     "text": [
      "Optimization terminated successfully\n",
      "Optimization terminated successfully\n",
      "Optimization terminated successfully\n",
      "Optimization terminated successfully\n",
      "Optimization terminated successfully\n",
      "Optimization terminated successfully\n",
      "Optimization terminated successfully\n",
      "Optimization terminated successfully\n",
      "Optimization terminated successfully\n",
      "Optimization terminated successfully\n",
      "Optimization terminated successfully\n",
      "Optimization terminated successfully\n",
      "Optimization terminated successfully\n",
      "Optimization terminated successfully\n",
      "Optimization terminated successfully\n",
      "Optimization terminated successfully\n",
      "Optimization terminated successfully\n",
      "Optimization terminated successfully\n"
     ]
    },
    {
     "name": "stderr",
     "output_type": "stream",
     "text": [
      "my bars::  47%|████▋     | 940/2016 [00:12<00:13, 77.38it/s]"
     ]
    },
    {
     "name": "stdout",
     "output_type": "stream",
     "text": [
      "Optimization terminated successfully\n",
      "Optimization terminated successfully\n",
      "Optimization terminated successfully\n",
      "Optimization terminated successfully\n",
      "Optimization terminated successfully\n",
      "Optimization terminated successfully\n",
      "Optimization terminated successfully\n",
      "Optimization terminated successfully\n",
      "Optimization terminated successfully\n",
      "Optimization terminated successfully\n",
      "Optimization terminated successfully\n",
      "Optimization terminated successfully\n",
      "Optimization terminated successfully\n"
     ]
    },
    {
     "name": "stderr",
     "output_type": "stream",
     "text": [
      "my bars::  47%|████▋     | 956/2016 [00:12<00:15, 69.94it/s]"
     ]
    },
    {
     "name": "stdout",
     "output_type": "stream",
     "text": [
      "Optimization terminated successfully\n",
      "Optimization terminated successfully\n",
      "Optimization terminated successfully\n",
      "Optimization terminated successfully\n",
      "Optimization terminated successfully\n",
      "Optimization terminated successfully\n",
      "Optimization terminated successfully\n",
      "Optimization terminated successfully\n",
      "Optimization terminated successfully\n",
      "Optimization terminated successfully\n",
      "Optimization terminated successfully\n",
      "Optimization terminated successfully\n",
      "Optimization terminated successfully\n",
      "Optimization terminated successfully\n"
     ]
    },
    {
     "name": "stderr",
     "output_type": "stream",
     "text": [
      "my bars::  48%|████▊     | 972/2016 [00:13<00:14, 72.25it/s]"
     ]
    },
    {
     "name": "stdout",
     "output_type": "stream",
     "text": [
      "Optimization terminated successfully\n",
      "Optimization terminated successfully\n",
      "Optimization terminated successfully\n",
      "Optimization terminated successfully\n",
      "Optimization terminated successfully\n",
      "Optimization terminated successfully\n",
      "Optimization terminated successfully\n",
      "Optimization terminated successfully\n",
      "Optimization terminated successfully\n",
      "Optimization terminated successfully\n",
      "Optimization terminated successfully\n",
      "Optimization terminated successfully\n",
      "Optimization terminated successfully\n",
      "Optimization terminated successfully\n",
      "Optimization terminated successfully\n"
     ]
    },
    {
     "name": "stderr",
     "output_type": "stream",
     "text": [
      "my bars::  49%|████▉     | 991/2016 [00:13<00:13, 78.30it/s]"
     ]
    },
    {
     "name": "stdout",
     "output_type": "stream",
     "text": [
      "Optimization terminated successfully\n",
      "Optimization terminated successfully\n",
      "Optimization terminated successfully\n",
      "Optimization terminated successfully\n",
      "Optimization terminated successfully\n",
      "Optimization terminated successfully\n",
      "Optimization terminated successfully\n",
      "Optimization terminated successfully\n",
      "Optimization terminated successfully\n",
      "Optimization terminated successfully\n",
      "Optimization terminated successfully\n",
      "Optimization terminated successfully\n",
      "Optimization terminated successfully\n",
      "Optimization terminated successfully\n",
      "Optimization terminated successfully\n",
      "Optimization terminated successfully"
     ]
    },
    {
     "name": "stderr",
     "output_type": "stream",
     "text": [
      "my bars::  50%|████▉     | 1007/2016 [00:13<00:13, 74.39it/s]"
     ]
    },
    {
     "name": "stdout",
     "output_type": "stream",
     "text": [
      "\n",
      "Optimization terminated successfully\n",
      "Optimization terminated successfully\n",
      "Optimization terminated successfully\n",
      "Optimization terminated successfully\n",
      "Optimization terminated successfully\n",
      "Optimization terminated successfully\n",
      "Optimization terminated successfully\n",
      "Optimization terminated successfully\n",
      "Optimization terminated successfully\n",
      "Optimization terminated successfully\n",
      "Optimization terminated successfully\n",
      "Optimization terminated successfully\n",
      "Optimization terminated successfully\n",
      "Optimization terminated successfully\n",
      "Optimization terminated successfully\n",
      "Optimization terminated successfully\n",
      "Optimization terminated successfully\n",
      "Optimization terminated successfully"
     ]
    },
    {
     "name": "stderr",
     "output_type": "stream",
     "text": [
      "my bars::  51%|█████     | 1024/2016 [00:13<00:13, 74.93it/s]"
     ]
    },
    {
     "name": "stdout",
     "output_type": "stream",
     "text": [
      "\n",
      "Optimization terminated successfully\n",
      "Optimization terminated successfully\n",
      "Optimization terminated successfully\n",
      "Optimization terminated successfully\n",
      "Optimization terminated successfully\n",
      "Optimization terminated successfully\n",
      "Optimization terminated successfully\n",
      "Optimization terminated successfully\n",
      "Optimization terminated successfully\n",
      "Optimization terminated successfully\n",
      "Optimization terminated successfully\n",
      "Optimization terminated successfully\n",
      "Optimization terminated successfully\n",
      "Optimization terminated successfully\n",
      "Optimization terminated successfully\n",
      "Optimization terminated successfully"
     ]
    },
    {
     "name": "stderr",
     "output_type": "stream",
     "text": [
      "my bars::  52%|█████▏    | 1041/2016 [00:14<00:12, 76.06it/s]"
     ]
    },
    {
     "name": "stdout",
     "output_type": "stream",
     "text": [
      "\n",
      "Optimization terminated successfully\n",
      "Optimization terminated successfully\n",
      "Optimization terminated successfully\n",
      "Optimization terminated successfully\n",
      "Optimization terminated successfully\n",
      "Optimization terminated successfully\n",
      "Optimization terminated successfully\n",
      "Optimization terminated successfully\n",
      "Optimization terminated successfully\n",
      "Optimization terminated successfully\n",
      "Optimization terminated successfully\n",
      "Optimization terminated successfully\n",
      "Optimization terminated successfully\n",
      "Optimization terminated successfully\n",
      "Optimization terminated successfully"
     ]
    },
    {
     "name": "stderr",
     "output_type": "stream",
     "text": [
      "my bars::  53%|█████▎    | 1059/2016 [00:14<00:11, 80.68it/s]"
     ]
    },
    {
     "name": "stdout",
     "output_type": "stream",
     "text": [
      "\n",
      "Optimization terminated successfully\n",
      "Optimization terminated successfully\n",
      "Optimization terminated successfully\n",
      "Optimization terminated successfully\n",
      "Optimization terminated successfully\n",
      "Optimization terminated successfully\n",
      "Optimization terminated successfully\n",
      "Optimization terminated successfully\n",
      "Optimization terminated successfully\n",
      "Optimization terminated successfully\n",
      "Optimization terminated successfully\n",
      "Optimization terminated successfully\n",
      "Optimization terminated successfully\n",
      "Optimization terminated successfully\n",
      "Optimization terminated successfully\n",
      "Optimization terminated successfully\n",
      "Optimization terminated successfully\n",
      "Optimization terminated successfully"
     ]
    },
    {
     "name": "stderr",
     "output_type": "stream",
     "text": [
      "my bars::  53%|█████▎    | 1077/2016 [00:14<00:11, 80.10it/s]"
     ]
    },
    {
     "name": "stdout",
     "output_type": "stream",
     "text": [
      "\n",
      "Optimization terminated successfully\n",
      "Optimization terminated successfully\n",
      "Optimization terminated successfully\n",
      "Optimization terminated successfully\n",
      "Optimization terminated successfully\n",
      "Optimization terminated successfully\n",
      "Optimization terminated successfully\n",
      "Optimization terminated successfully\n",
      "Optimization terminated successfully\n",
      "Optimization terminated successfully\n",
      "Optimization terminated successfully\n",
      "Optimization terminated successfully\n",
      "Optimization terminated successfully\n",
      "Optimization terminated successfully\n",
      "Optimization terminated successfully\n",
      "Optimization terminated successfully\n",
      "Optimization terminated successfully\n"
     ]
    },
    {
     "name": "stderr",
     "output_type": "stream",
     "text": [
      "my bars::  54%|█████▍    | 1095/2016 [00:14<00:11, 78.79it/s]"
     ]
    },
    {
     "name": "stdout",
     "output_type": "stream",
     "text": [
      "Optimization terminated successfully\n",
      "Optimization terminated successfully\n",
      "Optimization terminated successfully\n",
      "Optimization terminated successfully\n",
      "Optimization terminated successfully\n",
      "Optimization terminated successfully\n",
      "Optimization terminated successfully\n",
      "Optimization terminated successfully\n",
      "Optimization terminated successfully\n",
      "Optimization terminated successfully\n",
      "Optimization terminated successfully\n",
      "Optimization terminated successfully\n",
      "Optimization terminated successfully\n",
      "Optimization terminated successfully\n",
      "Optimization terminated successfully\n",
      "Optimization terminated successfully\n"
     ]
    },
    {
     "name": "stderr",
     "output_type": "stream",
     "text": [
      "my bars::  55%|█████▌    | 1111/2016 [00:14<00:12, 72.02it/s]"
     ]
    },
    {
     "name": "stdout",
     "output_type": "stream",
     "text": [
      "Optimization terminated successfully\n",
      "Optimization terminated successfully\n",
      "Optimization terminated successfully\n",
      "Optimization terminated successfully\n",
      "Optimization terminated successfully\n",
      "Optimization terminated successfully\n",
      "Optimization terminated successfully\n",
      "Optimization terminated successfully\n",
      "Optimization terminated successfully\n",
      "Optimization terminated successfully\n",
      "Optimization terminated successfully\n",
      "Optimization terminated successfully\n",
      "Optimization terminated successfully\n",
      "Optimization terminated successfully\n"
     ]
    },
    {
     "name": "stderr",
     "output_type": "stream",
     "text": [
      "my bars::  56%|█████▌    | 1128/2016 [00:15<00:12, 71.02it/s]"
     ]
    },
    {
     "name": "stdout",
     "output_type": "stream",
     "text": [
      "Optimization terminated successfully\n",
      "Optimization terminated successfully\n",
      "Optimization terminated successfully\n",
      "Optimization terminated successfully\n",
      "Optimization terminated successfully\n",
      "Optimization terminated successfully\n",
      "Optimization terminated successfully\n",
      "Optimization terminated successfully\n",
      "Optimization terminated successfully\n",
      "Optimization terminated successfully\n",
      "Optimization terminated successfully\n",
      "Optimization terminated successfully\n",
      "Optimization terminated successfully\n",
      "Optimization terminated successfully\n"
     ]
    },
    {
     "name": "stderr",
     "output_type": "stream",
     "text": [
      "my bars::  57%|█████▋    | 1144/2016 [00:15<00:12, 69.90it/s]"
     ]
    },
    {
     "name": "stdout",
     "output_type": "stream",
     "text": [
      "Optimization terminated successfully\n",
      "Optimization terminated successfully\n",
      "Optimization terminated successfully\n",
      "Optimization terminated successfully\n",
      "Optimization terminated successfully\n",
      "Optimization terminated successfully\n",
      "Optimization terminated successfully\n",
      "Optimization terminated successfully\n",
      "Optimization terminated successfully\n",
      "Optimization terminated successfully\n",
      "Optimization terminated successfully\n",
      "Optimization terminated successfully\n",
      "Optimization terminated successfully\n",
      "Optimization terminated successfully\n",
      "Optimization terminated successfully\n",
      "Optimization terminated successfully\n",
      "Optimization terminated successfully\n",
      "Optimization terminated successfully\n"
     ]
    },
    {
     "name": "stderr",
     "output_type": "stream",
     "text": [
      "my bars::  58%|█████▊    | 1160/2016 [00:15<00:12, 71.23it/s]"
     ]
    },
    {
     "name": "stdout",
     "output_type": "stream",
     "text": [
      "Optimization terminated successfully\n",
      "Optimization terminated successfully\n",
      "Optimization terminated successfully\n",
      "Optimization terminated successfully\n",
      "Optimization terminated successfully\n",
      "Optimization terminated successfully\n",
      "Optimization terminated successfully\n",
      "Optimization terminated successfully\n",
      "Optimization terminated successfully\n",
      "Optimization terminated successfully\n",
      "Optimization terminated successfully\n",
      "Optimization terminated successfully\n",
      "Optimization terminated successfully\n",
      "Optimization terminated successfully\n",
      "Optimization terminated successfully\n",
      "Optimization terminated successfully\n"
     ]
    },
    {
     "name": "stderr",
     "output_type": "stream",
     "text": [
      "my bars::  58%|█████▊    | 1175/2016 [00:15<00:12, 68.92it/s]"
     ]
    },
    {
     "name": "stdout",
     "output_type": "stream",
     "text": [
      "Optimization terminated successfully\n",
      "Optimization terminated successfully\n",
      "Optimization terminated successfully\n",
      "Optimization terminated successfully\n",
      "Optimization terminated successfully\n",
      "Optimization terminated successfully\n",
      "Optimization terminated successfully\n",
      "Optimization terminated successfully\n",
      "Optimization terminated successfully\n",
      "Optimization terminated successfully\n",
      "Optimization terminated successfully\n",
      "Optimization terminated successfully\n",
      "Optimization terminated successfully\n",
      "Optimization terminated successfully\n"
     ]
    },
    {
     "name": "stderr",
     "output_type": "stream",
     "text": [
      "my bars::  59%|█████▉    | 1189/2016 [00:16<00:12, 63.85it/s]"
     ]
    },
    {
     "name": "stdout",
     "output_type": "stream",
     "text": [
      "Optimization terminated successfully\n",
      "Optimization terminated successfully\n",
      "Optimization terminated successfully\n",
      "Optimization terminated successfully\n",
      "Optimization terminated successfully\n",
      "Optimization terminated successfully\n",
      "Optimization terminated successfully\n",
      "Optimization terminated successfully\n",
      "Optimization terminated successfully\n",
      "Optimization terminated successfully\n",
      "Optimization terminated successfully\n"
     ]
    },
    {
     "name": "stderr",
     "output_type": "stream",
     "text": [
      "my bars::  60%|█████▉    | 1203/2016 [00:16<00:13, 60.59it/s]"
     ]
    },
    {
     "name": "stdout",
     "output_type": "stream",
     "text": [
      "Optimization terminated successfully\n",
      "Optimization terminated successfully\n",
      "Optimization terminated successfully\n",
      "Optimization terminated successfully\n",
      "Optimization terminated successfully\n",
      "Optimization terminated successfully\n",
      "Optimization terminated successfully\n",
      "Optimization terminated successfully\n",
      "Optimization terminated successfully\n",
      "Optimization terminated successfully\n",
      "Optimization terminated successfully\n",
      "Optimization terminated successfully\n",
      "Optimization terminated successfully\n"
     ]
    },
    {
     "name": "stderr",
     "output_type": "stream",
     "text": [
      "my bars::  60%|██████    | 1216/2016 [00:16<00:13, 57.98it/s]"
     ]
    },
    {
     "name": "stdout",
     "output_type": "stream",
     "text": [
      "Optimization terminated successfully\n",
      "Optimization terminated successfully\n",
      "Optimization terminated successfully\n",
      "Optimization terminated successfully\n",
      "Optimization terminated successfully\n",
      "Optimization terminated successfully\n",
      "Optimization terminated successfully\n",
      "Optimization terminated successfully\n",
      "Optimization terminated successfully\n",
      "Optimization terminated successfully\n",
      "Optimization terminated successfully\n",
      "Optimization terminated successfully\n"
     ]
    },
    {
     "name": "stderr",
     "output_type": "stream",
     "text": [
      "my bars::  61%|██████    | 1229/2016 [00:16<00:13, 59.11it/s]"
     ]
    },
    {
     "name": "stdout",
     "output_type": "stream",
     "text": [
      "Optimization terminated successfully\n",
      "Optimization terminated successfully\n",
      "Optimization terminated successfully\n",
      "Optimization terminated successfully\n",
      "Optimization terminated successfully\n",
      "Optimization terminated successfully\n",
      "Optimization terminated successfully\n",
      "Optimization terminated successfully\n",
      "Optimization terminated successfully\n",
      "Optimization terminated successfully\n",
      "Optimization terminated successfully\n"
     ]
    },
    {
     "name": "stderr",
     "output_type": "stream",
     "text": [
      "my bars::  62%|██████▏   | 1243/2016 [00:17<00:13, 58.90it/s]"
     ]
    },
    {
     "name": "stdout",
     "output_type": "stream",
     "text": [
      "Optimization terminated successfully\n",
      "Optimization terminated successfully\n",
      "Optimization terminated successfully\n",
      "Optimization terminated successfully\n",
      "Optimization terminated successfully\n",
      "Optimization terminated successfully\n",
      "Optimization terminated successfully\n",
      "Optimization terminated successfully\n",
      "Optimization terminated successfully\n",
      "Optimization terminated successfully\n",
      "Optimization terminated successfully\n",
      "Optimization terminated successfully\n",
      "Optimization terminated successfully\n"
     ]
    },
    {
     "name": "stderr",
     "output_type": "stream",
     "text": [
      "my bars::  62%|██████▎   | 1260/2016 [00:17<00:10, 68.73it/s]"
     ]
    },
    {
     "name": "stdout",
     "output_type": "stream",
     "text": [
      "Optimization terminated successfully\n",
      "Optimization terminated successfully\n",
      "Optimization terminated successfully\n",
      "Optimization terminated successfully\n",
      "Optimization terminated successfully\n",
      "Optimization terminated successfully\n",
      "Optimization terminated successfully\n",
      "Optimization terminated successfully\n",
      "Optimization terminated successfully\n",
      "Optimization terminated successfully\n",
      "Optimization terminated successfully\n",
      "Optimization terminated successfully\n",
      "Optimization terminated successfully\n",
      "Optimization terminated successfully\n",
      "Optimization terminated successfully\n"
     ]
    },
    {
     "name": "stderr",
     "output_type": "stream",
     "text": [
      "my bars::  63%|██████▎   | 1277/2016 [00:17<00:10, 70.32it/s]"
     ]
    },
    {
     "name": "stdout",
     "output_type": "stream",
     "text": [
      "Optimization terminated successfully\n",
      "Optimization terminated successfully\n",
      "Optimization terminated successfully\n",
      "Optimization terminated successfully\n",
      "Optimization terminated successfully\n",
      "Optimization terminated successfully\n",
      "Optimization terminated successfully\n",
      "Optimization terminated successfully\n",
      "Optimization terminated successfully\n",
      "Optimization terminated successfully\n",
      "Optimization terminated successfully\n",
      "Optimization terminated successfully\n",
      "Optimization terminated successfully\n",
      "Optimization terminated successfully\n"
     ]
    },
    {
     "name": "stderr",
     "output_type": "stream",
     "text": [
      "my bars::  64%|██████▍   | 1293/2016 [00:17<00:10, 69.27it/s]"
     ]
    },
    {
     "name": "stdout",
     "output_type": "stream",
     "text": [
      "Optimization terminated successfully\n",
      "Optimization terminated successfully\n",
      "Optimization terminated successfully\n",
      "Optimization terminated successfully\n",
      "Optimization terminated successfully\n",
      "Optimization terminated successfully\n",
      "Optimization terminated successfully\n",
      "Optimization terminated successfully\n",
      "Optimization terminated successfully\n",
      "Optimization terminated successfully\n",
      "Optimization terminated successfully\n",
      "Optimization terminated successfully\n",
      "Optimization terminated successfully\n",
      "Optimization terminated successfully\n",
      "Optimization terminated successfully\n",
      "Optimization terminated successfully"
     ]
    },
    {
     "name": "stderr",
     "output_type": "stream",
     "text": [
      "my bars::  65%|██████▍   | 1310/2016 [00:17<00:09, 73.16it/s]"
     ]
    },
    {
     "name": "stdout",
     "output_type": "stream",
     "text": [
      "\n",
      "Optimization terminated successfully\n",
      "Optimization terminated successfully\n",
      "Optimization terminated successfully\n",
      "Optimization terminated successfully\n",
      "Optimization terminated successfully\n",
      "Optimization terminated successfully\n",
      "Optimization terminated successfully\n",
      "Optimization terminated successfully\n",
      "Optimization terminated successfully\n",
      "Optimization terminated successfully\n",
      "Optimization terminated successfully\n",
      "Optimization terminated successfully\n",
      "Optimization terminated successfully\n",
      "Optimization terminated successfully\n",
      "Optimization terminated successfully\n",
      "Optimization terminated successfully\n"
     ]
    },
    {
     "name": "stderr",
     "output_type": "stream",
     "text": [
      "my bars::  66%|██████▌   | 1327/2016 [00:18<00:09, 74.21it/s]"
     ]
    },
    {
     "name": "stdout",
     "output_type": "stream",
     "text": [
      "Optimization terminated successfully\n",
      "Optimization terminated successfully\n",
      "Optimization terminated successfully\n",
      "Optimization terminated successfully\n",
      "Optimization terminated successfully\n",
      "Optimization terminated successfully\n",
      "Optimization terminated successfully\n",
      "Optimization terminated successfully\n",
      "Optimization terminated successfully\n",
      "Optimization terminated successfully\n",
      "Optimization terminated successfully\n",
      "Optimization terminated successfully\n",
      "Optimization terminated successfully\n",
      "Optimization terminated successfully\n",
      "Optimization terminated successfully\n",
      "Optimization terminated successfully"
     ]
    },
    {
     "name": "stderr",
     "output_type": "stream",
     "text": [
      "my bars::  67%|██████▋   | 1343/2016 [00:18<00:09, 73.95it/s]"
     ]
    },
    {
     "name": "stdout",
     "output_type": "stream",
     "text": [
      "\n",
      "Optimization terminated successfully\n",
      "Optimization terminated successfully\n",
      "Optimization terminated successfully\n",
      "Optimization terminated successfully\n",
      "Optimization terminated successfully\n",
      "Optimization terminated successfully\n",
      "Optimization terminated successfully\n",
      "Optimization terminated successfully\n",
      "Optimization terminated successfully\n",
      "Optimization terminated successfully\n",
      "Optimization terminated successfully\n",
      "Optimization terminated successfully\n",
      "Optimization terminated successfully\n",
      "Optimization terminated successfully\n",
      "Optimization terminated successfully\n"
     ]
    },
    {
     "name": "stderr",
     "output_type": "stream",
     "text": [
      "my bars::  67%|██████▋   | 1359/2016 [00:18<00:08, 73.44it/s]"
     ]
    },
    {
     "name": "stdout",
     "output_type": "stream",
     "text": [
      "Optimization terminated successfully\n",
      "Optimization terminated successfully\n",
      "Optimization terminated successfully\n",
      "Optimization terminated successfully\n",
      "Optimization terminated successfully\n",
      "Optimization terminated successfully\n",
      "Optimization terminated successfully\n",
      "Optimization terminated successfully\n",
      "Optimization terminated successfully\n",
      "Optimization terminated successfully\n",
      "Optimization terminated successfully\n",
      "Optimization terminated successfully\n",
      "Optimization terminated successfully\n",
      "Optimization terminated successfully\n",
      "Optimization terminated successfully\n",
      "Optimization terminated successfully\n",
      "Optimization terminated successfully"
     ]
    },
    {
     "name": "stderr",
     "output_type": "stream",
     "text": [
      "my bars::  68%|██████▊   | 1376/2016 [00:18<00:08, 75.75it/s]"
     ]
    },
    {
     "name": "stdout",
     "output_type": "stream",
     "text": [
      "\n",
      "Optimization terminated successfully\n",
      "Optimization terminated successfully\n",
      "Optimization terminated successfully\n",
      "Optimization terminated successfully\n",
      "Optimization terminated successfully\n",
      "Optimization terminated successfully\n",
      "Optimization terminated successfully\n",
      "Optimization terminated successfully\n",
      "Optimization terminated successfully\n",
      "Optimization terminated successfully\n",
      "Optimization terminated successfully\n",
      "Optimization terminated successfully\n",
      "Optimization terminated successfully\n",
      "Optimization terminated successfully\n",
      "Optimization terminated successfully"
     ]
    },
    {
     "name": "stderr",
     "output_type": "stream",
     "text": [
      "my bars::  69%|██████▉   | 1397/2016 [00:19<00:06, 88.56it/s]"
     ]
    },
    {
     "name": "stdout",
     "output_type": "stream",
     "text": [
      "\n",
      "Optimization terminated successfully\n",
      "Optimization terminated successfully\n",
      "Optimization terminated successfully\n",
      "Optimization terminated successfully\n",
      "Optimization terminated successfully\n",
      "Optimization terminated successfully\n",
      "Optimization terminated successfully\n",
      "Optimization terminated successfully\n",
      "Optimization terminated successfully\n",
      "Optimization terminated successfully\n",
      "Optimization terminated successfully\n",
      "Optimization terminated successfully\n",
      "Optimization terminated successfully\n",
      "Optimization terminated successfully\n",
      "Optimization terminated successfully\n"
     ]
    },
    {
     "name": "stderr",
     "output_type": "stream",
     "text": [
      "my bars::  70%|███████   | 1415/2016 [00:19<00:07, 85.29it/s]"
     ]
    },
    {
     "name": "stdout",
     "output_type": "stream",
     "text": [
      "Optimization terminated successfully\n",
      "Optimization terminated successfully\n",
      "Optimization terminated successfully\n",
      "Optimization terminated successfully\n",
      "Optimization terminated successfully\n",
      "Optimization terminated successfully\n",
      "Optimization terminated successfully\n",
      "Optimization terminated successfully\n",
      "Optimization terminated successfully\n",
      "Optimization terminated successfully\n",
      "Optimization terminated successfully\n",
      "Optimization terminated successfully\n",
      "Optimization terminated successfully\n",
      "Optimization terminated successfully\n",
      "Optimization terminated successfully\n",
      "Optimization terminated successfully\n",
      "Optimization terminated successfully"
     ]
    },
    {
     "name": "stderr",
     "output_type": "stream",
     "text": [
      "my bars::  71%|███████   | 1433/2016 [00:19<00:07, 80.72it/s]"
     ]
    },
    {
     "name": "stdout",
     "output_type": "stream",
     "text": [
      "\n",
      "Optimization terminated successfully\n",
      "Optimization terminated successfully\n",
      "Optimization terminated successfully\n",
      "Optimization terminated successfully\n",
      "Optimization terminated successfully\n",
      "Optimization terminated successfully\n",
      "Optimization terminated successfully\n",
      "Optimization terminated successfully\n",
      "Optimization terminated successfully\n",
      "Optimization terminated successfully\n",
      "Optimization terminated successfully\n",
      "Optimization terminated successfully\n",
      "Optimization terminated successfully\n",
      "Optimization terminated successfully\n"
     ]
    },
    {
     "name": "stderr",
     "output_type": "stream",
     "text": [
      "my bars::  72%|███████▏  | 1450/2016 [00:19<00:07, 77.14it/s]"
     ]
    },
    {
     "name": "stdout",
     "output_type": "stream",
     "text": [
      "Optimization terminated successfully\n",
      "Optimization terminated successfully\n",
      "Optimization terminated successfully\n",
      "Optimization terminated successfully\n",
      "Optimization terminated successfully\n",
      "Optimization terminated successfully\n",
      "Optimization terminated successfully\n",
      "Optimization terminated successfully\n",
      "Optimization terminated successfully\n",
      "Optimization terminated successfully\n",
      "Optimization terminated successfully\n",
      "Optimization terminated successfully\n",
      "Optimization terminated successfully\n",
      "Optimization terminated successfully\n",
      "Optimization terminated successfully\n",
      "Optimization terminated successfully\n"
     ]
    },
    {
     "name": "stderr",
     "output_type": "stream",
     "text": [
      "my bars::  73%|███████▎  | 1468/2016 [00:19<00:06, 80.13it/s]"
     ]
    },
    {
     "name": "stdout",
     "output_type": "stream",
     "text": [
      "Optimization terminated successfully\n",
      "Optimization terminated successfully\n",
      "Optimization terminated successfully\n",
      "Optimization terminated successfully\n",
      "Optimization terminated successfully\n",
      "Optimization terminated successfully\n",
      "Optimization terminated successfully\n",
      "Optimization terminated successfully\n",
      "Optimization terminated successfully\n",
      "Optimization terminated successfully\n",
      "Optimization terminated successfully\n",
      "Optimization terminated successfully\n",
      "Optimization terminated successfully\n",
      "Optimization terminated successfully\n",
      "Optimization terminated successfully\n"
     ]
    },
    {
     "name": "stderr",
     "output_type": "stream",
     "text": [
      "my bars::  74%|███████▎  | 1485/2016 [00:20<00:07, 73.89it/s]"
     ]
    },
    {
     "name": "stdout",
     "output_type": "stream",
     "text": [
      "Optimization terminated successfully\n",
      "Optimization terminated successfully\n",
      "Optimization terminated successfully\n",
      "Optimization terminated successfully\n",
      "Optimization terminated successfully\n",
      "Optimization terminated successfully\n",
      "Optimization terminated successfully\n",
      "Optimization terminated successfully\n",
      "Optimization terminated successfully\n",
      "Optimization terminated successfully\n",
      "Optimization terminated successfully\n",
      "Optimization terminated successfully\n",
      "Optimization terminated successfully\n",
      "Optimization terminated successfully\n"
     ]
    },
    {
     "name": "stderr",
     "output_type": "stream",
     "text": [
      "my bars::  74%|███████▍  | 1501/2016 [00:20<00:06, 73.83it/s]"
     ]
    },
    {
     "name": "stdout",
     "output_type": "stream",
     "text": [
      "Optimization terminated successfully\n",
      "Optimization terminated successfully\n",
      "Optimization terminated successfully\n",
      "Optimization terminated successfully\n",
      "Optimization terminated successfully\n",
      "Optimization terminated successfully\n",
      "Optimization terminated successfully\n",
      "Optimization terminated successfully\n",
      "Optimization terminated successfully\n",
      "Optimization terminated successfully\n",
      "Optimization terminated successfully\n",
      "Optimization terminated successfully\n",
      "Optimization terminated successfully\n",
      "Optimization terminated successfully\n",
      "Optimization terminated successfully\n",
      "Optimization terminated successfully\n",
      "Optimization terminated successfully\n",
      "Optimization terminated successfully"
     ]
    },
    {
     "name": "stderr",
     "output_type": "stream",
     "text": [
      "my bars::  75%|███████▌  | 1517/2016 [00:20<00:06, 74.44it/s]"
     ]
    },
    {
     "name": "stdout",
     "output_type": "stream",
     "text": [
      "\n",
      "Optimization terminated successfully\n",
      "Optimization terminated successfully\n",
      "Optimization terminated successfully\n",
      "Optimization terminated successfully\n",
      "Optimization terminated successfully\n",
      "Optimization terminated successfully\n",
      "Optimization terminated successfully\n",
      "Optimization terminated successfully\n",
      "Optimization terminated successfully\n",
      "Optimization terminated successfully\n",
      "Optimization terminated successfully\n",
      "Optimization terminated successfully\n",
      "Optimization terminated successfully\n",
      "Optimization terminated successfully\n",
      "Optimization terminated successfully\n",
      "Optimization terminated successfully\n"
     ]
    },
    {
     "name": "stderr",
     "output_type": "stream",
     "text": [
      "my bars::  76%|███████▌  | 1535/2016 [00:20<00:06, 77.74it/s]"
     ]
    },
    {
     "name": "stdout",
     "output_type": "stream",
     "text": [
      "Optimization terminated successfully\n",
      "Optimization terminated successfully\n",
      "Optimization terminated successfully\n",
      "Optimization terminated successfully\n",
      "Optimization terminated successfully\n",
      "Optimization terminated successfully\n",
      "Optimization terminated successfully\n",
      "Optimization terminated successfully\n",
      "Optimization terminated successfully\n",
      "Optimization terminated successfully\n",
      "Optimization terminated successfully\n",
      "Optimization terminated successfully\n",
      "Optimization terminated successfully\n",
      "Optimization terminated successfully\n",
      "Optimization terminated successfully\n",
      "Optimization terminated successfully\n",
      "Optimization terminated successfully"
     ]
    },
    {
     "name": "stderr",
     "output_type": "stream",
     "text": [
      "my bars::  77%|███████▋  | 1554/2016 [00:21<00:05, 84.31it/s]"
     ]
    },
    {
     "name": "stdout",
     "output_type": "stream",
     "text": [
      "\n",
      "Optimization terminated successfully\n",
      "Optimization terminated successfully\n",
      "Optimization terminated successfully\n",
      "Optimization terminated successfully\n",
      "Optimization terminated successfully\n",
      "Optimization terminated successfully\n",
      "Optimization terminated successfully\n",
      "Optimization terminated successfully\n",
      "Optimization terminated successfully\n",
      "Optimization terminated successfully\n",
      "Optimization terminated successfully\n",
      "Optimization terminated successfully\n",
      "Optimization terminated successfully\n",
      "Optimization terminated successfully\n"
     ]
    },
    {
     "name": "stderr",
     "output_type": "stream",
     "text": [
      "my bars::  78%|███████▊  | 1577/2016 [00:21<00:04, 92.49it/s]"
     ]
    },
    {
     "name": "stdout",
     "output_type": "stream",
     "text": [
      "Optimization terminated successfully\n",
      "Optimization terminated successfully\n",
      "Optimization terminated successfully\n",
      "Optimization terminated successfully\n",
      "Optimization terminated successfully\n",
      "Optimization terminated successfully\n",
      "Optimization terminated successfully\n",
      "Optimization terminated successfully\n",
      "Optimization terminated successfully\n",
      "Optimization terminated successfully\n",
      "Optimization terminated successfully\n",
      "Optimization terminated successfully\n",
      "Optimization terminated successfully\n",
      "Optimization terminated successfully\n",
      "Optimization terminated successfully\n"
     ]
    },
    {
     "name": "stderr",
     "output_type": "stream",
     "text": [
      "my bars::  79%|███████▉  | 1598/2016 [00:21<00:04, 95.27it/s]"
     ]
    },
    {
     "name": "stdout",
     "output_type": "stream",
     "text": [
      "Optimization terminated successfully\n",
      "Optimization terminated successfully\n",
      "Optimization terminated successfully\n",
      "Optimization terminated successfully\n",
      "Optimization terminated successfully\n",
      "Optimization terminated successfully\n",
      "Optimization terminated successfully\n",
      "Optimization terminated successfully\n",
      "Optimization terminated successfully\n",
      "Optimization terminated successfully\n",
      "Optimization terminated successfully\n",
      "Optimization terminated successfully\n",
      "Optimization terminated successfully\n",
      "Optimization terminated successfully\n",
      "Optimization terminated successfully\n",
      "Optimization terminated successfully\n",
      "Optimization terminated successfully"
     ]
    },
    {
     "name": "stderr",
     "output_type": "stream",
     "text": [
      "my bars::  80%|████████  | 1619/2016 [00:21<00:04, 96.91it/s]"
     ]
    },
    {
     "name": "stdout",
     "output_type": "stream",
     "text": [
      "\n",
      "Optimization terminated successfully\n",
      "Optimization terminated successfully\n",
      "Optimization terminated successfully\n",
      "Optimization terminated successfully\n",
      "Optimization terminated successfully\n",
      "Optimization terminated successfully\n",
      "Optimization terminated successfully\n",
      "Optimization terminated successfully\n",
      "Optimization terminated successfully\n",
      "Optimization terminated successfully\n",
      "Optimization terminated successfully\n",
      "Optimization terminated successfully\n",
      "Optimization terminated successfully\n",
      "Optimization terminated successfully\n",
      "Optimization terminated successfully\n",
      "Optimization terminated successfully\n"
     ]
    },
    {
     "name": "stderr",
     "output_type": "stream",
     "text": [
      "my bars::  81%|████████▏ | 1640/2016 [00:21<00:03, 97.05it/s]"
     ]
    },
    {
     "name": "stdout",
     "output_type": "stream",
     "text": [
      "Optimization terminated successfully\n",
      "Optimization terminated successfully\n",
      "Optimization terminated successfully\n",
      "Optimization terminated successfully\n",
      "Optimization terminated successfully\n",
      "Optimization terminated successfully\n",
      "Optimization terminated successfully\n",
      "Optimization terminated successfully\n",
      "Optimization terminated successfully\n",
      "Optimization terminated successfully\n",
      "Optimization terminated successfully\n",
      "Optimization terminated successfully\n",
      "Optimization terminated successfully\n",
      "Optimization terminated successfully\n",
      "Optimization terminated successfully\n",
      "Optimization terminated successfully\n",
      "Optimization terminated successfully\n",
      "Optimization terminated successfully"
     ]
    },
    {
     "name": "stderr",
     "output_type": "stream",
     "text": [
      "my bars::  82%|████████▏ | 1660/2016 [00:22<00:03, 92.15it/s]"
     ]
    },
    {
     "name": "stdout",
     "output_type": "stream",
     "text": [
      "\n",
      "Optimization terminated successfully\n",
      "Optimization terminated successfully\n",
      "Optimization terminated successfully\n",
      "Optimization terminated successfully\n",
      "Optimization terminated successfully\n",
      "Optimization terminated successfully\n",
      "Optimization terminated successfully\n",
      "Optimization terminated successfully\n",
      "Optimization terminated successfully\n",
      "Optimization terminated successfully\n",
      "Optimization terminated successfully\n",
      "Optimization terminated successfully\n",
      "Optimization terminated successfully\n",
      "Optimization terminated successfully\n",
      "Optimization terminated successfully\n",
      "Optimization terminated successfully\n",
      "Optimization terminated successfully\n",
      "Optimization terminated successfully"
     ]
    },
    {
     "name": "stderr",
     "output_type": "stream",
     "text": [
      "my bars::  83%|████████▎ | 1681/2016 [00:22<00:03, 95.28it/s]"
     ]
    },
    {
     "name": "stdout",
     "output_type": "stream",
     "text": [
      "\n",
      "Optimization terminated successfully\n",
      "Optimization terminated successfully\n",
      "Optimization terminated successfully\n",
      "Optimization terminated successfully\n",
      "Optimization terminated successfully\n",
      "Optimization terminated successfully\n",
      "Optimization terminated successfully\n",
      "Optimization terminated successfully\n",
      "Optimization terminated successfully\n",
      "Optimization terminated successfully\n",
      "Optimization terminated successfully\n",
      "Optimization terminated successfully\n",
      "Optimization terminated successfully\n",
      "Optimization terminated successfully\n",
      "Optimization terminated successfully\n",
      "Optimization terminated successfully\n",
      "Optimization terminated successfully\n",
      "Optimization terminated successfully\n"
     ]
    },
    {
     "name": "stderr",
     "output_type": "stream",
     "text": [
      "my bars::  84%|████████▍ | 1702/2016 [00:22<00:03, 97.17it/s]"
     ]
    },
    {
     "name": "stdout",
     "output_type": "stream",
     "text": [
      "Optimization terminated successfully\n",
      "Optimization terminated successfully\n",
      "Optimization terminated successfully\n",
      "Optimization terminated successfully\n",
      "Optimization terminated successfully\n",
      "Optimization terminated successfully\n",
      "Optimization terminated successfully\n",
      "Optimization terminated successfully\n",
      "Optimization terminated successfully\n",
      "Optimization terminated successfully\n",
      "Optimization terminated successfully\n",
      "Optimization terminated successfully\n",
      "Optimization terminated successfully\n",
      "Optimization terminated successfully\n",
      "Optimization terminated successfully\n",
      "Optimization terminated successfully\n",
      "Optimization terminated successfully"
     ]
    },
    {
     "name": "stderr",
     "output_type": "stream",
     "text": [
      "my bars::  85%|████████▌ | 1723/2016 [00:22<00:03, 95.20it/s]"
     ]
    },
    {
     "name": "stdout",
     "output_type": "stream",
     "text": [
      "\n",
      "Optimization terminated successfully\n",
      "Optimization terminated successfully\n",
      "Optimization terminated successfully\n",
      "Optimization terminated successfully\n",
      "Optimization terminated successfully\n",
      "Optimization terminated successfully\n",
      "Optimization terminated successfully\n",
      "Optimization terminated successfully\n",
      "Optimization terminated successfully\n",
      "Optimization terminated successfully\n",
      "Optimization terminated successfully\n",
      "Optimization terminated successfully\n",
      "Optimization terminated successfully\n",
      "Optimization terminated successfully\n",
      "Optimization terminated successfully\n",
      "Optimization terminated successfully\n",
      "Optimization terminated successfully"
     ]
    },
    {
     "name": "stderr",
     "output_type": "stream",
     "text": [
      "my bars::  86%|████████▋ | 1743/2016 [00:23<00:02, 93.18it/s]"
     ]
    },
    {
     "name": "stdout",
     "output_type": "stream",
     "text": [
      "\n",
      "Optimization terminated successfully\n",
      "Optimization terminated successfully\n",
      "Optimization terminated successfully\n",
      "Optimization terminated successfully\n",
      "Optimization terminated successfully\n",
      "Optimization terminated successfully\n",
      "Optimization terminated successfully\n",
      "Optimization terminated successfully\n",
      "Optimization terminated successfully\n",
      "Optimization terminated successfully\n",
      "Optimization terminated successfully\n",
      "Optimization terminated successfully\n",
      "Optimization terminated successfully\n",
      "Optimization terminated successfully\n",
      "Optimization terminated successfully\n",
      "Optimization terminated successfully\n",
      "Optimization terminated successfully\n",
      "Optimization terminated successfully\n"
     ]
    },
    {
     "name": "stderr",
     "output_type": "stream",
     "text": [
      "my bars::  88%|████████▊ | 1765/2016 [00:23<00:02, 100.26it/s]"
     ]
    },
    {
     "name": "stdout",
     "output_type": "stream",
     "text": [
      "Optimization terminated successfully\n",
      "Optimization terminated successfully\n",
      "Optimization terminated successfully\n",
      "Optimization terminated successfully\n",
      "Optimization terminated successfully\n",
      "Optimization terminated successfully\n",
      "Optimization terminated successfully\n",
      "Optimization terminated successfully\n",
      "Optimization terminated successfully\n",
      "Optimization terminated successfully\n",
      "Optimization terminated successfully\n",
      "Optimization terminated successfully\n",
      "Optimization terminated successfully\n",
      "Optimization terminated successfully\n",
      "Optimization terminated successfully\n",
      "Optimization terminated successfully\n",
      "Optimization terminated successfully\n"
     ]
    },
    {
     "name": "stderr",
     "output_type": "stream",
     "text": [
      "my bars::  89%|████████▊ | 1789/2016 [00:23<00:02, 105.39it/s]"
     ]
    },
    {
     "name": "stdout",
     "output_type": "stream",
     "text": [
      "Optimization terminated successfully\n",
      "Optimization terminated successfully\n",
      "Optimization terminated successfully\n",
      "Optimization terminated successfully\n",
      "Optimization terminated successfully\n",
      "Optimization terminated successfully\n",
      "Optimization terminated successfully\n",
      "Optimization terminated successfully\n",
      "Optimization terminated successfully\n",
      "Optimization terminated successfully\n",
      "Optimization terminated successfully\n",
      "Optimization terminated successfully\n",
      "Optimization terminated successfully\n",
      "Optimization terminated successfully\n",
      "Optimization terminated successfully\n",
      "Optimization terminated successfully\n",
      "Optimization terminated successfully\n",
      "Optimization terminated successfully\n"
     ]
    },
    {
     "name": "stderr",
     "output_type": "stream",
     "text": [
      "my bars::  90%|████████▉ | 1811/2016 [00:23<00:02, 99.50it/s] "
     ]
    },
    {
     "name": "stdout",
     "output_type": "stream",
     "text": [
      "Optimization terminated successfully\n",
      "Optimization terminated successfully\n",
      "Optimization terminated successfully\n",
      "Optimization terminated successfully\n",
      "Optimization terminated successfully\n",
      "Optimization terminated successfully\n",
      "Optimization terminated successfully\n",
      "Optimization terminated successfully\n",
      "Optimization terminated successfully\n",
      "Optimization terminated successfully\n",
      "Optimization terminated successfully\n",
      "Optimization terminated successfully\n",
      "Optimization terminated successfully\n",
      "Optimization terminated successfully\n",
      "Optimization terminated successfully\n",
      "Optimization terminated successfully\n",
      "Optimization terminated successfully\n"
     ]
    },
    {
     "name": "stderr",
     "output_type": "stream",
     "text": [
      "my bars::  91%|█████████ | 1836/2016 [00:23<00:01, 101.96it/s]"
     ]
    },
    {
     "name": "stdout",
     "output_type": "stream",
     "text": [
      "Optimization terminated successfully\n",
      "Optimization terminated successfully\n",
      "Optimization terminated successfully\n",
      "Optimization terminated successfully\n",
      "Optimization terminated successfully\n",
      "Optimization terminated successfully\n",
      "Optimization terminated successfully\n",
      "Optimization terminated successfully\n",
      "Optimization terminated successfully\n",
      "Optimization terminated successfully\n",
      "Optimization terminated successfully\n",
      "Optimization terminated successfully\n",
      "Optimization terminated successfully\n",
      "Optimization terminated successfully\n",
      "Optimization terminated successfully\n",
      "Optimization terminated successfully\n",
      "Optimization terminated successfully\n",
      "Optimization terminated successfully\n",
      "Optimization terminated successfully\n"
     ]
    },
    {
     "name": "stderr",
     "output_type": "stream",
     "text": [
      "my bars::  92%|█████████▏| 1858/2016 [00:24<00:01, 97.79it/s] "
     ]
    },
    {
     "name": "stdout",
     "output_type": "stream",
     "text": [
      "Optimization terminated successfully\n",
      "Optimization terminated successfully\n",
      "Optimization terminated successfully\n",
      "Optimization terminated successfully\n",
      "Optimization terminated successfully\n",
      "Optimization terminated successfully\n",
      "Optimization terminated successfully\n",
      "Optimization terminated successfully\n",
      "Optimization terminated successfully\n",
      "Optimization terminated successfully\n",
      "Optimization terminated successfully\n",
      "Optimization terminated successfully\n",
      "Optimization terminated successfully\n",
      "Optimization terminated successfully\n",
      "Optimization terminated successfully\n",
      "Optimization terminated successfully\n",
      "Optimization terminated successfully\n",
      "Optimization terminated successfully\n",
      "Optimization terminated successfully\n"
     ]
    },
    {
     "name": "stderr",
     "output_type": "stream",
     "text": [
      "my bars::  93%|█████████▎| 1882/2016 [00:24<00:01, 107.05it/s]"
     ]
    },
    {
     "name": "stdout",
     "output_type": "stream",
     "text": [
      "Optimization terminated successfully\n",
      "Optimization terminated successfully\n",
      "Optimization terminated successfully\n",
      "Optimization terminated successfully\n",
      "Optimization terminated successfully\n",
      "Optimization terminated successfully\n",
      "Optimization terminated successfully\n",
      "Optimization terminated successfully\n",
      "Optimization terminated successfully\n",
      "Optimization terminated successfully\n",
      "Optimization terminated successfully\n",
      "Optimization terminated successfully\n",
      "Optimization terminated successfully\n",
      "Optimization terminated successfully\n",
      "Optimization terminated successfully\n",
      "Optimization terminated successfully\n",
      "Optimization terminated successfully"
     ]
    },
    {
     "name": "stderr",
     "output_type": "stream",
     "text": [
      "my bars::  95%|█████████▍| 1906/2016 [00:24<00:00, 111.81it/s]"
     ]
    },
    {
     "name": "stdout",
     "output_type": "stream",
     "text": [
      "\n",
      "Optimization terminated successfully\n",
      "Optimization terminated successfully\n",
      "Optimization terminated successfully\n",
      "Optimization terminated successfully\n",
      "Optimization terminated successfully\n",
      "Optimization terminated successfully\n",
      "Optimization terminated successfully\n",
      "Optimization terminated successfully\n",
      "Optimization terminated successfully\n",
      "Optimization terminated successfully\n",
      "Optimization terminated successfully\n",
      "Optimization terminated successfully\n",
      "Optimization terminated successfully\n",
      "Optimization terminated successfully\n",
      "Optimization terminated successfully\n",
      "Optimization terminated successfully\n"
     ]
    },
    {
     "name": "stderr",
     "output_type": "stream",
     "text": [
      "my bars::  96%|█████████▌| 1930/2016 [00:24<00:00, 113.33it/s]"
     ]
    },
    {
     "name": "stdout",
     "output_type": "stream",
     "text": [
      "Optimization terminated successfully\n",
      "Optimization terminated successfully\n",
      "Optimization terminated successfully\n",
      "Optimization terminated successfully\n",
      "Optimization terminated successfully\n",
      "Optimization terminated successfully\n",
      "Optimization terminated successfully\n",
      "Optimization terminated successfully\n",
      "Optimization terminated successfully\n",
      "Optimization terminated successfully\n",
      "Optimization terminated successfully\n",
      "Optimization terminated successfully\n",
      "Optimization terminated successfully\n",
      "Optimization terminated successfully\n",
      "Optimization terminated successfully\n",
      "Optimization terminated successfully\n",
      "Optimization terminated successfully\n",
      "Optimization terminated successfully"
     ]
    },
    {
     "name": "stderr",
     "output_type": "stream",
     "text": [
      "my bars::  99%|█████████▉| 1999/2016 [00:25<00:00, 197.52it/s]"
     ]
    },
    {
     "name": "stdout",
     "output_type": "stream",
     "text": [
      "\n",
      "Optimization terminated successfully\n",
      "Optimization terminated successfully\n",
      "Optimization terminated successfully\n",
      "Optimization terminated successfully\n",
      "Optimization terminated successfully\n",
      "Optimization terminated successfully\n"
     ]
    },
    {
     "name": "stderr",
     "output_type": "stream",
     "text": [
      "my bars:: 100%|██████████| 2016/2016 [00:25<00:00, 79.35it/s] \n"
     ]
    }
   ],
   "source": [
    "param_dict_ = {'by_rank':2, 'symmetry':True}\n",
    "# param_dict_ = {'bar':1e-3}\n",
    "strat = sabr2207.groupby('time').apply(hedge_update.Option_Split_Rank, **param_dict_)\n",
    "pcpl1 = hedge_update.Hedge_Transform(strat, etf)\n",
    "hedge_update.Global_Exist(pcpl1)\n",
    "pcpl1 = pcpl1.groupby('time').progress_apply(hedge_update.Option_Position_Add).reset_index(drop = True)\n",
    "# temp.to_csv('/Users/chenwynn/Documents/Intern_project/HTSC_Summer/sabr_vol/add.csv')\n",
    "hedge_update.Global_Exist(pcpl1)\n",
    "hedge_dict_ = {'bar':8e-4, 'delta_tolerance':5, 'vega_tolerance':5}\n",
    "pcpl1 = pcpl1.groupby('time').progress_apply(hedge_update.Hedge_Vega, **hedge_dict_).reset_index(drop = True)\n",
    "\n",
    "pcpl1['position'] = pcpl1['profit_position'] + pcpl1['hedge_position']\n",
    "\n",
    "# 手续费\n",
    "time0 = pcpl1['time'].sort_values().iloc[0]\n",
    "timen = pcpl1['time'].sort_values().iloc[-1]\n",
    "\n",
    "# 开仓价为上一个tick的close\n",
    "pcpl1['open price'] = pcpl1.groupby('code')['close'].shift()\n",
    "\n",
    "pcpl1['profit_position_diff'] = pcpl1.groupby('code')['profit_position'].diff()\n",
    "pcpl1.loc[pcpl1['time'] == time0, 'profit_position_diff'] = pcpl1.loc[pcpl1['time'] == time0, 'profit_position']\n",
    "# pcpl1.loc[pcpl1['time'] == timen, 'cash_diff'] = pcpl1.loc[pcpl1['time'] == timen, 'position'] * pcpl1.loc[pcpl1['time'] == timen, 'close']\n",
    "pcpl1['profit_cost'] = np.abs(pcpl1['profit_position_diff']) * 1.3\n",
    "pcpl1.loc[(pcpl1['position'] < 0)&(pcpl1['profit_position_diff'] < 0), 'profit_cost'] = 0\n",
    "\n",
    "pcpl1['hedge_position_diff'] = pcpl1.groupby('code')['hedge_position'].diff()\n",
    "pcpl1.loc[pcpl1['time'] == time0, 'hedge_position_diff'] = pcpl1.loc[pcpl1['time'] == time0, 'hedge_position']\n",
    "pcpl1.loc[pcpl1['type'] != 'S', 'hedge_cost'] = np.abs(pcpl1.loc[pcpl1['type'] != 'S', 'hedge_position_diff']) * 1.3\n",
    "pcpl1.loc[(pcpl1['type'] != 'S')&(pcpl1['position'] < 0)&(pcpl1['hedge_position_diff'] < 0), 'hedge_cost'] = 0\n",
    "pcpl1.loc[pcpl1['type'] == 'S', 'hedge_cost'] = np.abs(pcpl1.loc[pcpl1['type'] == 'S', 'hedge_position_diff']) * 0.4 * pcpl1.loc[pcpl1['type'] == 'S', 'close']\n",
    "pcpl1.loc[(pcpl1['type'] == 'S')&(pcpl1['hedge_position'] < 0)&(pcpl1['hedge_position_diff'] < 0), 'hedge_cost'] = np.abs(pcpl1.loc[(pcpl1['type'] == 'S')&(pcpl1['hedge_position'] < 0)&(pcpl1['hedge_position_diff'] < 0), 'hedge_position_diff']) * 3 * pcpl1.loc[(pcpl1['type'] == 'S')&(pcpl1['hedge_position'] < 0)&(pcpl1['hedge_position_diff'] < 0), 'open price']\n",
    "\n",
    "pcpl1['position_diff'] = pcpl1.groupby('code')['position'].diff()\n",
    "pcpl1.loc[pcpl1['time'] == time0, 'position_diff'] = pcpl1.loc[pcpl1['time'] == time0, 'position']\n",
    "pcpl1.loc[pcpl1['type'] != 'S', 'cost'] = np.abs(pcpl1.loc[pcpl1['type'] != 'S', 'position_diff']) * 1.3\n",
    "pcpl1.loc[(pcpl1['type'] != 'S')&(pcpl1['position'] < 0)&(pcpl1['position_diff'] < 0), 'cost'] = 0\n",
    "pcpl1.loc[pcpl1['type'] == 'S', 'cost'] = np.abs(pcpl1.loc[pcpl1['type'] == 'S', 'position_diff']) * 0.4 * pcpl1.loc[pcpl1['type'] == 'S', 'close']\n",
    "pcpl1.loc[(pcpl1['type'] == 'S')&(pcpl1['position'] < 0)&(pcpl1['position_diff'] < 0), 'cost'] = np.abs(pcpl1.loc[(pcpl1['type'] == 'S')&(pcpl1['position'] < 0)&(pcpl1['position_diff'] < 0), 'position_diff']) * 3 * pcpl1.loc[(pcpl1['type'] == 'S')&(pcpl1['position'] < 0)&(pcpl1['position_diff'] < 0), 'open price']\n",
    "\n",
    "\n",
    "# cash = pcpl1.groupby('time')['cash_diff'].sum()\n",
    "\n",
    "pcpl1['cash'] = pcpl1['close'] - pcpl1['open price']\n",
    "pcpl1['cash'] = pcpl1['cash'] * pcpl1['position'] * 10000\n",
    "pcpl1.loc[pcpl1['type'] == 'C', 'out moneyness'] = (-pcpl1.loc[pcpl1['type'] == 'C', 'close'] + pcpl1.loc[pcpl1['type'] == 'C', 'strike price']).apply(lambda x: max(x, 0))\n",
    "pcpl1.loc[pcpl1['type'] == 'P', 'out moneyness'] = (pcpl1.loc[pcpl1['type'] == 'P', 'close'] - pcpl1.loc[pcpl1['type'] == 'P', 'strike price']).apply(lambda x: max(x, 0))\n",
    "pcpl1['margin'] = pcpl1.apply(lambda x:max(-(min(x['open price'] + max(0.12*x['spot price'] - x['out moneyness'], 0.07 * x['strike price']), x['strike price'])) * 1e4 * x['position'], x['open price'] * x['position'] * 1e4), axis = 1)\n",
    "pcpl1['fund_cost'] = pcpl1['margin'] * 0.04/250/48\n",
    "pcpl1['fund_cost'] = pcpl1['fund_cost'].fillna(0)\n",
    "pcpl1['cost'] = pcpl1['cost'].fillna(0)\n",
    "pcpl1['cash_net'] = pcpl1['cash'] - pcpl1['cost'] - pcpl1['fund_cost']\n",
    "# cash = pcpl1.groupby('time')['cash'].sum()"
   ]
  },
  {
   "cell_type": "code",
   "execution_count": 157,
   "id": "798da33c",
   "metadata": {},
   "outputs": [
    {
     "data": {
      "text/plain": [
       "<matplotlib.legend.Legend at 0x7f94d9b02fd0>"
      ]
     },
     "execution_count": 157,
     "metadata": {},
     "output_type": "execute_result"
    },
    {
     "data": {
      "image/png": "[encoded data removed]",
      "text/plain": [
       "<Figure size 720x360 with 1 Axes>"
      ]
     },
     "metadata": {
      "needs_background": "light"
     },
     "output_type": "display_data"
    }
   ],
   "source": [
    "plt.figure(figsize=(10, 5))\n",
    "plt.title('Return Decomposition')\n",
    "pcpl1['delta_p'] = pcpl1['delta']*pcpl1['position']\n",
    "delta_p = pcpl1.groupby('time')['delta_p'].sum()\n",
    "delta_p = (pcpl1.loc[pcpl1['type'] == 'S', 'close'].diff()).values * delta_p * 1e4\n",
    "pcpl1['vega_p'] = pcpl1.groupby('code')['sabr vol'].diff()\n",
    "pcpl1['arbi'] = pcpl1.groupby('code')['black vol'].diff() - pcpl1['vega_p']\n",
    "pcpl1['arbi'] = pcpl1['arbi'] * pcpl1['vega'].values * pcpl1['position'].values * 1e4\n",
    "pcpl1['vega_p'] = pcpl1['vega_p'] * pcpl1['vega'].values * pcpl1['position'].values * 1e4\n",
    "pcpl1['gamma_p'] = pcpl1['gamma']*pcpl1['position'].values\n",
    "gamma_p = pcpl1.groupby('time')['gamma_p'].sum()\n",
    "gamma_p = ((pcpl1.loc[pcpl1['type'] == 'S', 'close'].diff()).values)**2 * gamma_p/2 * 1e4\n",
    "pcpl1['theta_p'] = pcpl1.groupby('code')['time_to_mature'].diff()\n",
    "pcpl1['theta_p'] = pcpl1['theta_p'] * pcpl1['theta'].values * pcpl1['position'].values * 1e4\n",
    "plt.plot(delta_p.cumsum(), label='delta')\n",
    "plt.plot(pcpl1.groupby('time')['vega_p'].sum().cumsum(), label='vega')\n",
    "plt.plot(gamma_p.cumsum(), label='gamma')\n",
    "plt.plot(pcpl1.groupby('time')['theta_p'].sum().cumsum(), label='theta')\n",
    "plt.plot(pcpl1.groupby('time')['arbi'].sum().cumsum(), label = 'vol shift')\n",
    "plt.legend()"
   ]
  },
  {
   "cell_type": "code",
   "execution_count": 158,
   "id": "93bd4a97",
   "metadata": {},
   "outputs": [
    {
     "data": {
      "text/plain": [
       "<matplotlib.legend.Legend at 0x7f94d9a39400>"
      ]
     },
     "execution_count": 158,
     "metadata": {},
     "output_type": "execute_result"
    },
    {
     "data": {
      "image/png": "[encoded data removed]",
      "text/plain": [
       "<Figure size 720x360 with 1 Axes>"
      ]
     },
     "metadata": {
      "needs_background": "light"
     },
     "output_type": "display_data"
    }
   ],
   "source": [
    "plt.figure(figsize = (10, 5))\n",
    "plt.title('Strategy Return')\n",
    "plt.plot(pcpl1.groupby('time')['cash'].sum().cumsum(), label = 'Return Without Cost')\n",
    "plt.plot(pcpl1.groupby('time')['cash_net'].sum().cumsum(), label = 'Return With Cost')\n",
    "plt.plot(delta_p.cumsum()+pcpl1.groupby('time')['vega_p'].sum().cumsum()+gamma_p.cumsum()+pcpl1.groupby('time')['theta_p'].sum().cumsum()+pcpl1.groupby('time')['arbi'].sum().cumsum(), label='Greeks Return')\n",
    "plt.legend()"
   ]
  },
  {
   "cell_type": "code",
   "execution_count": 159,
   "id": "e05473a0",
   "metadata": {},
   "outputs": [
    {
     "data": {
      "text/plain": [
       "[<matplotlib.lines.Line2D at 0x7f946babb310>]"
      ]
     },
     "execution_count": 159,
     "metadata": {},
     "output_type": "execute_result"
    },
    {
     "data": {
      "image/png": "[encoded data removed]",
      "text/plain": [
       "<Figure size 720x360 with 1 Axes>"
      ]
     },
     "metadata": {
      "needs_background": "light"
     },
     "output_type": "display_data"
    }
   ],
   "source": [
    "plt.figure(figsize = (10, 5))\n",
    "plt.title('Cost Decomposition')\n",
    "plt.stackplot(np.unique(pcpl1['time']), pcpl1.groupby('time')['profit_cost'].sum().cumsum(), pcpl1.groupby('time')['hedge_cost'].sum().cumsum())\n",
    "plt.plot(pcpl1.groupby('time')['cost'].sum().cumsum(), color='r')"
   ]
  },
  {
   "cell_type": "code",
   "execution_count": 160,
   "id": "3f04455a",
   "metadata": {},
   "outputs": [
    {
     "data": {
      "image/png": "[encoded data removed]",
      "text/plain": [
       "<Figure size 720x360 with 2 Axes>"
      ]
     },
     "metadata": {
      "needs_background": "light"
     },
     "output_type": "display_data"
    }
   ],
   "source": [
    "pcpl1['notional'] = np.abs(pcpl1['position'] * pcpl1['spot price'])\n",
    "\n",
    "fig, ax = plt.subplots(figsize=(10, 5))\n",
    "ax.plot(pcpl1.groupby('time')['notional'].sum(), c='b',ls='--',label='notional amount')\n",
    "ax.set_xlabel('time', fontsize=16)\n",
    "ax.set_ylabel('Notional Amount', color='b', fontsize=16)\n",
    "ax.tick_params('y', colors='b')\n",
    "ax.legend()\n",
    "\n",
    "ax2 = ax.twinx()\n",
    "ax2.plot(pcpl1.loc[pcpl1['position'] != 0, :].groupby('time').size(), c='r', ls=\":\",label='Position')\n",
    "ax2.set_ylabel('Contract Number',color='r', fontsize=16)\n",
    "ax2.tick_params('y', colors='r')\n",
    "ax2.legend()\n",
    "\n",
    "plt.title('Position Fluctuate', fontsize=16)\n",
    "plt.show()   "
   ]
  },
  {
   "cell_type": "code",
   "execution_count": null,
   "id": "14f98de1",
   "metadata": {},
   "outputs": [],
   "source": []
  }
 ],
 "metadata": {
  "kernelspec": {
   "display_name": "Python 3 (ipykernel)",
   "language": "python",
   "name": "python3"
  },
  "language_info": {
   "codemirror_mode": {
    "name": "ipython",
    "version": 3
   },
   "file_extension": ".py",
   "mimetype": "text/x-python",
   "name": "python",
   "nbconvert_exporter": "python",
   "pygments_lexer": "ipython3",
   "version": "3.9.12"
  }
 },
 "nbformat": 4,
 "nbformat_minor": 5
}
